{
 "cells": [
  {
   "cell_type": "code",
   "execution_count": 89,
   "metadata": {},
   "outputs": [
    {
     "name": "stdout",
     "output_type": "stream",
     "text": [
      "The autoreload extension is already loaded. To reload it, use:\n",
      "  %reload_ext autoreload\n"
     ]
    }
   ],
   "source": [
    "from data4ml import Data4TextGeneration\n",
    "from time import time\n",
    "from collections import defaultdict\n",
    "\n",
    "%load_ext autoreload\n",
    "%autoreload 2"
   ]
  },
  {
   "cell_type": "code",
   "execution_count": 90,
   "metadata": {},
   "outputs": [
    {
     "name": "stdout",
     "output_type": "stream",
     "text": [
      "lol\n"
     ]
    }
   ],
   "source": [
    "data4gen = Data4TextGeneration(path_to_config='./../data_params.json')\n",
    "data4gen.home_folder = './../../messages'\n",
    "res = data4gen.make_data(limit=2)"
   ]
  },
  {
   "cell_type": "code",
   "execution_count": 30,
   "metadata": {},
   "outputs": [
    {
     "data": {
      "text/plain": [
       "['Дружочек',\n",
       " 'Во сколько за деньгами поедешь ?)',\n",
       " 'Хаюшки',\n",
       " 'Я в понедельник поеду']"
      ]
     },
     "execution_count": 30,
     "metadata": {},
     "output_type": "execute_result"
    }
   ],
   "source": [
    "data4gen.clear_message(data4gen.parse_html('./..', ['messages0.html']))[5:9]"
   ]
  },
  {
   "cell_type": "code",
   "execution_count": null,
   "metadata": {},
   "outputs": [],
   "source": []
  },
  {
   "cell_type": "code",
   "execution_count": 111,
   "metadata": {},
   "outputs": [],
   "source": [
    "import re\n",
    "\n",
    "def make_first_char_upper(sent: list):\n",
    "    sent[0] = sent[0][0].upper() + sent[0][1:]\n",
    "    \n",
    "def add_dot_in_the_end(sent: list):\n",
    "    sent[-1] = sent[-1] + '.' if sent[-1][-1].isalpha() else sent[-1]\n",
    "    \n",
    "def tokenize(corpus: list) -> list:\n",
    "    tokenize_messages = []\n",
    "    for dialog in corpus:\n",
    "        for message in dialog:\n",
    "            sentence = [re.sub(\"[.,:@-]\", \"\", i) for i in message.lower().split() if len(re.sub(\"[.,:@-]\", \"\", i)) > 0]\n",
    "            if sentence:\n",
    "                make_first_char_upper(sentence)\n",
    "                add_dot_in_the_end(sentence)\n",
    "                tokenize_messages.extend(sentence)\n",
    "    return tokenize_messages"
   ]
  },
  {
   "cell_type": "code",
   "execution_count": 112,
   "metadata": {},
   "outputs": [],
   "source": [
    "tok_res = tokenize(res)"
   ]
  },
  {
   "cell_type": "code",
   "execution_count": 115,
   "metadata": {},
   "outputs": [
    {
     "data": {
      "text/plain": [
       "['Когда дома будешь?',\n",
       " 'К вечеру ближе',\n",
       " 'Окей',\n",
       " '15:00 - 19:00 ТОРГЛАЙН ООО Чкалова ул., 28А Анастасия Петриченко',\n",
       " 'На завтра',\n",
       " 'Будь в за минут 15 заранее',\n",
       " 'И напиши во сколько ты сегодня будешь дома',\n",
       " 'Чтобы я тебе всё передал',\n",
       " 'Окей',\n",
       " 'Ты завтра работать не планируешь что ли?',\n",
       " 'Мы же должны были сегодня встретиться',\n",
       " 'Как не планирую ?',\n",
       " 'Ааааа, не заметила 😑😑😑',\n",
       " 'Можем утром встретиться ?',\n",
       " 'Нууу',\n",
       " 'Давай утром',\n",
       " 'Или днём',\n",
       " 'Напиши где и во сколько ко',\n",
       " 'Хз как пойдёт',\n",
       " 'Давай завтра уже',\n",
       " 'Хорошо',\n",
       " 'Добрый день )',\n",
       " 'В футболке чёрной можно ?',\n",
       " 'Спасибо',\n",
       " 'А с тобой как ?',\n",
       " 'Тогда с тобой',\n",
       " 'Окей',\n",
       " 'Ты знаешь, где магазин Альфа?',\n",
       " 'Какой из 3-х?',\n",
       " 'На Дергаевской']"
      ]
     },
     "execution_count": 115,
     "metadata": {},
     "output_type": "execute_result"
    }
   ],
   "source": [
    "res[0][:30]"
   ]
  },
  {
   "cell_type": "code",
   "execution_count": 117,
   "metadata": {},
   "outputs": [
    {
     "name": "stdout",
     "output_type": "stream",
     "text": [
      "['Когда', 'дома', 'будешь?', 'К', 'вечеру', 'ближе.', 'Окей.', '1500', '1900', 'торглайн', 'ооо', 'чкалова', 'ул', '28а', 'анастасия', 'петриченко.', 'На', 'завтра.', 'Будь', 'в', 'за', 'минут', '15', 'заранее.', 'И', 'напиши', 'во', 'сколько', 'ты', 'сегодня', 'будешь', 'дома.', 'Чтобы', 'я', 'тебе', 'всё', 'передал.', 'Окей.', 'Ты', 'завтра', 'работать', 'не', 'планируешь', 'что', 'ли?', 'Мы', 'же', 'должны', 'были', 'сегодня', 'встретиться.', 'Как', 'не', 'планирую', '?', 'Ааааа', 'не', 'заметила', '😑😑😑', 'Можем']\n"
     ]
    }
   ],
   "source": [
    "print(tok_res[:60])"
   ]
  },
  {
   "cell_type": "code",
   "execution_count": 3,
   "metadata": {},
   "outputs": [
    {
     "data": {
      "text/plain": [
       "96"
      ]
     },
     "execution_count": 3,
     "metadata": {},
     "output_type": "execute_result"
    }
   ],
   "source": [
    "len(res)"
   ]
  },
  {
   "cell_type": "code",
   "execution_count": 83,
   "metadata": {},
   "outputs": [],
   "source": [
    "RES = []\n",
    "\n",
    "for dialogs in res:\n",
    "    ss = []\n",
    "    for message in dialogs:\n",
    "        ss.extend([x.lower().replace('[,.?]', '') for x in message.split()])\n",
    "    RES.append(ss)"
   ]
  },
  {
   "cell_type": "code",
   "execution_count": 81,
   "metadata": {},
   "outputs": [
    {
     "data": {
      "text/plain": [
       "96"
      ]
     },
     "execution_count": 81,
     "metadata": {},
     "output_type": "execute_result"
    }
   ],
   "source": [
    "len(RES)"
   ]
  },
  {
   "cell_type": "code",
   "execution_count": 84,
   "metadata": {},
   "outputs": [
    {
     "name": "stdout",
     "output_type": "stream",
     "text": [
      "['серега,', 'привету', 'тебя', 'есть', 'телевизор', 'на', 'даче?', 'просто', 'если', 'что,']\n"
     ]
    }
   ],
   "source": [
    "print(RES[1][:10])"
   ]
  },
  {
   "cell_type": "code",
   "execution_count": 65,
   "metadata": {},
   "outputs": [
    {
     "ename": "NameError",
     "evalue": "name 'bigram' is not defined",
     "output_type": "error",
     "traceback": [
      "\u001b[0;31m---------------------------------------------------------------------------\u001b[0m",
      "\u001b[0;31mNameError\u001b[0m                                 Traceback (most recent call last)",
      "\u001b[0;32m<ipython-input-65-c8a900bad70d>\u001b[0m in \u001b[0;36m<module>\u001b[0;34m\u001b[0m\n\u001b[0;32m----> 1\u001b[0;31m \u001b[0msentences\u001b[0m \u001b[0;34m=\u001b[0m \u001b[0mbigram\u001b[0m\u001b[0;34m[\u001b[0m\u001b[0msent\u001b[0m\u001b[0;34m]\u001b[0m\u001b[0;34m\u001b[0m\u001b[0;34m\u001b[0m\u001b[0m\n\u001b[0m",
      "\u001b[0;31mNameError\u001b[0m: name 'bigram' is not defined"
     ]
    }
   ],
   "source": [
    "sentences = bigram[sent]"
   ]
  },
  {
   "cell_type": "code",
   "execution_count": 60,
   "metadata": {},
   "outputs": [],
   "source": [
    "from gensim.models.phrases import Phrases, Phraser"
   ]
  },
  {
   "cell_type": "code",
   "execution_count": 58,
   "metadata": {},
   "outputs": [],
   "source": [
    "phrases = Phrases(RES, min_count=30, progress_per=10000)"
   ]
  },
  {
   "cell_type": "code",
   "execution_count": 66,
   "metadata": {},
   "outputs": [],
   "source": [
    "bigram = Phraser(phrases)"
   ]
  },
  {
   "cell_type": "code",
   "execution_count": 69,
   "metadata": {},
   "outputs": [],
   "source": [
    "sentences = bigram[RES]"
   ]
  },
  {
   "cell_type": "code",
   "execution_count": 72,
   "metadata": {},
   "outputs": [
    {
     "data": {
      "text/plain": [
       "321400"
      ]
     },
     "execution_count": 72,
     "metadata": {},
     "output_type": "execute_result"
    }
   ],
   "source": [
    "word_freq = defaultdict(int)\n",
    "for sent in sentences:\n",
    "    for i in sent:\n",
    "        word_freq[i] += 1\n",
    "len(word_freq)"
   ]
  },
  {
   "cell_type": "code",
   "execution_count": 73,
   "metadata": {},
   "outputs": [
    {
     "data": {
      "text/plain": [
       "['не', 'Я', 'я', 'и', 'в', 'А', 'Ну', 'И', 'ты', 'на']"
      ]
     },
     "execution_count": 73,
     "metadata": {},
     "output_type": "execute_result"
    }
   ],
   "source": [
    "sorted(word_freq, key=word_freq.get, reverse=True)[:10]"
   ]
  },
  {
   "cell_type": "code",
   "execution_count": null,
   "metadata": {},
   "outputs": [],
   "source": []
  },
  {
   "cell_type": "code",
   "execution_count": 74,
   "metadata": {},
   "outputs": [
    {
     "name": "stdout",
     "output_type": "stream",
     "text": [
      "Time to build vocab: 0.17 mins\n",
      "Time to train the model: 3.78 mins\n"
     ]
    }
   ],
   "source": [
    "w2v_mode = kek(sentences)"
   ]
  },
  {
   "cell_type": "code",
   "execution_count": null,
   "metadata": {},
   "outputs": [],
   "source": []
  },
  {
   "cell_type": "code",
   "execution_count": null,
   "metadata": {},
   "outputs": [],
   "source": []
  },
  {
   "cell_type": "code",
   "execution_count": 12,
   "metadata": {},
   "outputs": [],
   "source": [
    "import multiprocessing\n",
    "\n",
    "from gensim.models import Word2Vec\n",
    "from gensim.models.phrases import Phrases, Phraser"
   ]
  },
  {
   "cell_type": "code",
   "execution_count": 13,
   "metadata": {},
   "outputs": [
    {
     "data": {
      "text/plain": [
       "4"
      ]
     },
     "execution_count": 13,
     "metadata": {},
     "output_type": "execute_result"
    }
   ],
   "source": [
    "cores = multiprocessing.cpu_count()\n",
    "cores"
   ]
  },
  {
   "cell_type": "code",
   "execution_count": 34,
   "metadata": {},
   "outputs": [],
   "source": [
    "def kek(res):\n",
    "    w2v_model = Word2Vec(min_count=20,\n",
    "                         window=2,\n",
    "                         size=300,\n",
    "                         sample=6e-5, \n",
    "                         alpha=0.03, \n",
    "                         min_alpha=0.0007, \n",
    "                         negative=20,\n",
    "                         workers=cores-1)\n",
    "\n",
    "    t = time()\n",
    "\n",
    "    w2v_model.build_vocab(res, progress_per=10000)\n",
    "\n",
    "    print('Time to build vocab: {} mins'.format(round((time() - t) / 60, 2)))\n",
    "\n",
    "    w2v_model.corpus_count\n",
    "\n",
    "    t = time()\n",
    "\n",
    "    w2v_model.train(res, total_examples=w2v_model.corpus_count, epochs=30, report_delay=1)\n",
    "\n",
    "    print('Time to train the model: {} mins'.format(round((time() - t) / 60, 2)))\n",
    "\n",
    "    w2v_model.init_sims(replace=True)\n",
    "\n",
    "    return w2v_model"
   ]
  },
  {
   "cell_type": "code",
   "execution_count": null,
   "metadata": {},
   "outputs": [],
   "source": []
  },
  {
   "cell_type": "code",
   "execution_count": 35,
   "metadata": {},
   "outputs": [
    {
     "name": "stdout",
     "output_type": "stream",
     "text": [
      "Time to build vocab: 0.05 mins\n",
      "Time to train the model: 0.44 mins\n"
     ]
    }
   ],
   "source": [
    "w2v_model_1 = kek(RES)"
   ]
  },
  {
   "cell_type": "code",
   "execution_count": 78,
   "metadata": {},
   "outputs": [
    {
     "data": {
      "text/plain": [
       "[('Написала', 0.8950090408325195),\n",
       " ('Ване', 0.8853252530097961),\n",
       " ('говорит?', 0.8794123530387878),\n",
       " ('ВСЕ', 0.8751375079154968),\n",
       " ('звонила?', 0.8749449253082275),\n",
       " ('Богу', 0.8741962909698486),\n",
       " ('покажи', 0.8736038208007812),\n",
       " ('надоел', 0.8734161853790283),\n",
       " ('Ахахахаах', 0.8711090087890625),\n",
       " ('вк?', 0.8618061542510986)]"
      ]
     },
     "execution_count": 78,
     "metadata": {},
     "output_type": "execute_result"
    }
   ],
   "source": [
    "w2v_mode.wv.most_similar(positive=[\"Юля\"])"
   ]
  },
  {
   "cell_type": "code",
   "execution_count": 79,
   "metadata": {},
   "outputs": [
    {
     "data": {
      "text/plain": [
       "[('память', 0.7860834002494812),\n",
       " ('инсту', 0.7789162397384644),\n",
       " ('Ии', 0.7788558006286621),\n",
       " ('недоступна', 0.7754437923431396),\n",
       " ('покажи', 0.7736333608627319),\n",
       " ('берешь', 0.7618379592895508),\n",
       " ('Ане', 0.7555817365646362),\n",
       " ('Эту', 0.7530922293663025),\n",
       " ('фотки)', 0.7501952648162842),\n",
       " ('Ване', 0.7494977116584778)]"
      ]
     },
     "execution_count": 79,
     "metadata": {},
     "output_type": "execute_result"
    }
   ],
   "source": [
    "w2v_model_1.wv.most_similar(positive=[\"Юля\"])"
   ]
  },
  {
   "cell_type": "code",
   "execution_count": null,
   "metadata": {},
   "outputs": [],
   "source": []
  }
 ],
 "metadata": {
  "kernelspec": {
   "display_name": "Python 3",
   "language": "python",
   "name": "python3"
  },
  "language_info": {
   "codemirror_mode": {
    "name": "ipython",
    "version": 3
   },
   "file_extension": ".py",
   "mimetype": "text/x-python",
   "name": "python",
   "nbconvert_exporter": "python",
   "pygments_lexer": "ipython3",
   "version": "3.6.9"
  }
 },
 "nbformat": 4,
 "nbformat_minor": 4
}
