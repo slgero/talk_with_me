{
 "cells": [
  {
   "cell_type": "code",
   "execution_count": 123,
   "metadata": {},
   "outputs": [
    {
     "name": "stdout",
     "output_type": "stream",
     "text": [
      "The autoreload extension is already loaded. To reload it, use:\n",
      "  %reload_ext autoreload\n"
     ]
    }
   ],
   "source": [
    "from data4ml import Data4ML, Data4Chatbot\n",
    "from bs4 import BeautifulSoup\n",
    "import json\n",
    "import os\n",
    "import re\n",
    "from perfect_regex import (\n",
    "    perfect_url_regex,\n",
    "    perfect_emoji_regex,\n",
    "    perfect_email_regex,\n",
    "    perfect_phone_regex,\n",
    ")\n",
    "import random\n",
    "\n",
    "import torch\n",
    "from torch.jit import script, trace\n",
    "import torch.nn as nn\n",
    "from torch import optim\n",
    "import torch.nn.functional as F\n",
    "\n",
    "import random\n",
    "import re\n",
    "import os\n",
    "import unicodedata\n",
    "import codecs\n",
    "from io import open\n",
    "import itertools\n",
    "import math\n",
    "\n",
    "\n",
    "%load_ext autoreload\n",
    "%autoreload 2"
   ]
  },
  {
   "cell_type": "code",
   "execution_count": 111,
   "metadata": {},
   "outputs": [
    {
     "name": "stderr",
     "output_type": "stream",
     "text": [
      "100%|██████████| 2/2 [00:00<00:00, 56.47it/s]\n"
     ]
    }
   ],
   "source": [
    "chatbot = Data4Chatbot(path_to_config='./../data_params.json')\n",
    "chatbot.home_folder = \"./data4test\"\n",
    "pairs = chatbot.make_data(limit=0)"
   ]
  },
  {
   "cell_type": "code",
   "execution_count": 112,
   "metadata": {},
   "outputs": [
    {
     "data": {
      "text/plain": [
       "[['привет арин ты уже считала физику ? лабу', 'привет нет еще'],\n",
       " ['он разрешил', 'сереж ты спрашивал у екатерины валерьевны про домашку ?'],\n",
       " ['сереж ты спрашивал у екатерины валерьевны про домашку ?',\n",
       "  'ну да \\n она мне подсказывала'],\n",
       " ['ну да \\n она мне подсказывала',\n",
       "  'ты можешь кинуть формулы если вы их вывели'],\n",
       " ['а у тебя какая соль ? \\n ну осадок', 'хлорид кальция'],\n",
       " ['пришли фотки пожалуйста', 'привет сейчас \\n всё'],\n",
       " ['какое именно ?', 'последнее . про кино \\n спасибо'],\n",
       " ['последнее . про кино \\n спасибо',\n",
       "  'скинул \\n подойдите завтра к смоленцевой'],\n",
       " ['скинул \\n подойдите завтра к смоленцевой', 'зачем ?'],\n",
       " ['зачем ?', 'она попросила'],\n",
       " ['она попросила', 'хорошо'],\n",
       " ['пришли фотки пожалуйста', 'привет сейчас \\n всё'],\n",
       " ['какое именно ?', 'последнее . про кино \\n спасибо'],\n",
       " ['последнее . про кино \\n спасибо',\n",
       "  'скинул \\n подойдите завтра к смоленцевой'],\n",
       " ['скинул \\n подойдите завтра к смоленцевой', 'зачем ?'],\n",
       " ['зачем ?', 'она попросила'],\n",
       " ['она попросила', 'хорошо']]"
      ]
     },
     "execution_count": 112,
     "metadata": {},
     "output_type": "execute_result"
    }
   ],
   "source": [
    "pairs"
   ]
  },
  {
   "cell_type": "code",
   "execution_count": 113,
   "metadata": {},
   "outputs": [],
   "source": [
    "# Default word tokens\n",
    "PAD_token = 0  # Used for padding short sentences\n",
    "SOS_token = 1  # Start-of-sentence token\n",
    "EOS_token = 2  # End-of-sentence token\n",
    "\n",
    "class Voc:\n",
    "    def __init__(self, name):\n",
    "        self.name = name\n",
    "        self.trimmed = False\n",
    "        self.word2index = {}\n",
    "        self.word2count = {}\n",
    "        self.index2word = {PAD_token: \"PAD\", SOS_token: \"SOS\", EOS_token: \"EOS\"}\n",
    "        self.num_words = 3  # Count SOS, EOS, PAD\n",
    "\n",
    "    def addSentence(self, sentence):\n",
    "        for word in sentence.split(' '):\n",
    "            self.addWord(word)\n",
    "\n",
    "    def addWord(self, word):\n",
    "        if word not in self.word2index:\n",
    "            self.word2index[word] = self.num_words\n",
    "            self.word2count[word] = 1\n",
    "            self.index2word[self.num_words] = word\n",
    "            self.num_words += 1\n",
    "        else:\n",
    "            self.word2count[word] += 1\n",
    "\n",
    "    def trim(self, min_count):\n",
    "        \"\"\"Remove words below a certain count threshold\n",
    "        \"\"\"\n",
    "        \n",
    "        if self.trimmed:\n",
    "            return\n",
    "        self.trimmed = True\n",
    "\n",
    "        keep_words = []\n",
    "\n",
    "        for k, v in self.word2count.items():\n",
    "            if v >= min_count:\n",
    "                keep_words.append(k)\n",
    "\n",
    "        print('keep_words {} / {} = {:.4f}'.format(\n",
    "            len(keep_words), len(self.word2index), len(keep_words) / len(self.word2index)\n",
    "        ))\n",
    "\n",
    "        # Reinitialize dictionaries\n",
    "        self.word2index = {}\n",
    "        self.word2count = {}\n",
    "        self.index2word = {PAD_token: \"PAD\", SOS_token: \"SOS\", EOS_token: \"EOS\"}\n",
    "        self.num_words = 3 # Count default tokens\n",
    "\n",
    "        for word in keep_words:\n",
    "            self.addWord(word)"
   ]
  },
  {
   "cell_type": "code",
   "execution_count": 114,
   "metadata": {},
   "outputs": [],
   "source": [
    "voc = Voc('name')"
   ]
  },
  {
   "cell_type": "code",
   "execution_count": 115,
   "metadata": {},
   "outputs": [],
   "source": [
    "for pair in pairs:\n",
    "    voc.addSentence(pair[0])\n",
    "    voc.addSentence(pair[1])"
   ]
  },
  {
   "cell_type": "code",
   "execution_count": 116,
   "metadata": {},
   "outputs": [
    {
     "name": "stdout",
     "output_type": "stream",
     "text": [
      "keep_words 58 / 58 = 1.0000\n",
      "Trimmed from 17 pairs to 17, 1.0000 of total\n"
     ]
    }
   ],
   "source": [
    "MIN_COUNT = 1    # Minimum word count threshold for trimming\n",
    "\n",
    "\n",
    "#TODO: Optimize it:\n",
    "def trimRareWords(voc, pairs, MIN_COUNT):\n",
    "    \"\"\"Trim words used under the MIN_COUNT from the voc\n",
    "    \"\"\"\n",
    "    \n",
    "    voc.trim(MIN_COUNT)\n",
    "    # Filter out pairs with trimmed words\n",
    "    keep_pairs = []\n",
    "    for pair in pairs:\n",
    "        input_sentence = pair[0]\n",
    "        output_sentence = pair[1]\n",
    "        keep_input = True\n",
    "        keep_output = True\n",
    "        # Check input sentence\n",
    "        for word in input_sentence.split(' '):\n",
    "            if word not in voc.word2index:\n",
    "                keep_input = False\n",
    "                break\n",
    "        # Check output sentence\n",
    "        for word in output_sentence.split(' '):\n",
    "            if word not in voc.word2index:\n",
    "                keep_output = False\n",
    "                break\n",
    "\n",
    "        # Only keep pairs that do not contain trimmed word(s) in their input or output sentence\n",
    "        if keep_input and keep_output:\n",
    "            keep_pairs.append(pair)\n",
    "\n",
    "    print(\"Trimmed from {} pairs to {}, {:.4f} of total\".format(len(pairs), len(keep_pairs), len(keep_pairs) / len(pairs)))\n",
    "    return keep_pairs\n",
    "\n",
    "\n",
    "# Trim voc and pairs\n",
    "pairs = trimRareWords(voc, pairs, MIN_COUNT)"
   ]
  },
  {
   "cell_type": "code",
   "execution_count": 117,
   "metadata": {},
   "outputs": [],
   "source": [
    "def indexesFromSentence(voc, sentence):\n",
    "    return [voc.word2index[word] for word in sentence.split(' ')] + [EOS_token]\n",
    "\n",
    "\n",
    "def zeroPadding(l, fillvalue=PAD_token):\n",
    "    return list(itertools.zip_longest(*l, fillvalue=fillvalue))\n",
    "\n",
    "def binaryMatrix(l, value=PAD_token):\n",
    "    m = []\n",
    "    for i, seq in enumerate(l):\n",
    "        m.append([])\n",
    "        for token in seq:\n",
    "            if token == PAD_token:\n",
    "                m[i].append(0)\n",
    "            else:\n",
    "                m[i].append(1)\n",
    "    return m\n",
    "\n",
    "# Returns padded input sequence tensor and lengths\n",
    "def inputVar(l, voc):\n",
    "    indexes_batch = [indexesFromSentence(voc, sentence) for sentence in l]\n",
    "    lengths = torch.tensor([len(indexes) for indexes in indexes_batch])\n",
    "    padList = zeroPadding(indexes_batch)\n",
    "    padVar = torch.LongTensor(padList)\n",
    "    return padVar, lengths\n",
    "\n",
    "# Returns padded target sequence tensor, padding mask, and max target length\n",
    "def outputVar(l, voc):\n",
    "    indexes_batch = [indexesFromSentence(voc, sentence) for sentence in l]\n",
    "    max_target_len = max([len(indexes) for indexes in indexes_batch])\n",
    "    padList = zeroPadding(indexes_batch)\n",
    "    mask = binaryMatrix(padList)\n",
    "    mask = torch.BoolTensor(mask)\n",
    "    padVar = torch.LongTensor(padList)\n",
    "    return padVar, mask, max_target_len\n",
    "\n",
    "# Returns all items for a given batch of pairs\n",
    "def batch2TrainData(voc, pair_batch):\n",
    "    pair_batch.sort(key=lambda x: len(x[0].split(\" \")), reverse=True) # а нахрена сортировка?\n",
    "    input_batch, output_batch = [], []\n",
    "    for pair in pair_batch:\n",
    "        input_batch.append(pair[0])\n",
    "        output_batch.append(pair[1])\n",
    "    inp, lengths = inputVar(input_batch, voc)\n",
    "    output, mask, max_target_len = outputVar(output_batch, voc)\n",
    "    return inp, lengths, output, mask, max_target_len\n",
    "\n",
    "\n"
   ]
  },
  {
   "cell_type": "code",
   "execution_count": 163,
   "metadata": {},
   "outputs": [
    {
     "name": "stdout",
     "output_type": "stream",
     "text": [
      "input_variable: tensor([[35, 49, 53, 22, 42],\n",
      "        [17, 50, 24, 23, 43],\n",
      "        [36, 20, 54, 24, 44],\n",
      "        [37, 51, 55, 25,  2],\n",
      "        [38, 24, 56, 26,  0],\n",
      "        [ 9, 52, 57, 27,  0],\n",
      "        [24,  2,  2,  2,  0],\n",
      "        [22,  0,  0,  0,  0],\n",
      "        [39,  0,  0,  0,  0],\n",
      "        [ 2,  0,  0,  0,  0]])\n",
      "lengths: tensor([10,  7,  7,  7,  4])\n",
      "target_variable: tensor([[40, 53, 58,  5,  3],\n",
      "        [41, 24,  9, 28, 45],\n",
      "        [ 2, 54,  2, 29, 24],\n",
      "        [ 0, 55,  0, 30, 46],\n",
      "        [ 0, 56,  0, 31,  2],\n",
      "        [ 0, 57,  0, 32,  0],\n",
      "        [ 0,  2,  0, 33,  0],\n",
      "        [ 0,  0,  0, 34,  0],\n",
      "        [ 0,  0,  0,  2,  0]])\n",
      "mask: tensor([[ True,  True,  True,  True,  True],\n",
      "        [ True,  True,  True,  True,  True],\n",
      "        [ True,  True,  True,  True,  True],\n",
      "        [False,  True, False,  True,  True],\n",
      "        [False,  True, False,  True,  True],\n",
      "        [False,  True, False,  True, False],\n",
      "        [False,  True, False,  True, False],\n",
      "        [False, False, False,  True, False],\n",
      "        [False, False, False,  True, False]])\n",
      "max_target_len: 9\n"
     ]
    }
   ],
   "source": [
    "# Example for validation\n",
    "small_batch_size = 5\n",
    "batches = batch2TrainData(voc, [random.choice(pairs) for _ in range(small_batch_size)])\n",
    "input_variable, lengths, target_variable, mask, max_target_len = batches\n",
    "\n",
    "print(\"input_variable:\", input_variable)\n",
    "print(\"lengths:\", lengths)\n",
    "print(\"target_variable:\", target_variable)\n",
    "print(\"mask:\", mask)\n",
    "print(\"max_target_len:\", max_target_len)"
   ]
  },
  {
   "cell_type": "code",
   "execution_count": 164,
   "metadata": {},
   "outputs": [],
   "source": [
    "class EncoderRNN(nn.Module):\n",
    "    def __init__(self, hidden_size, embedding, n_layers=1, dropout=0):\n",
    "        super(EncoderRNN, self).__init__()\n",
    "        self.n_layers = n_layers\n",
    "        self.hidden_size = hidden_size\n",
    "        self.embedding = embedding\n",
    "\n",
    "        # Initialize GRU; the input_size and hidden_size params are both set to 'hidden_size'\n",
    "        #   because our input size is a word embedding with number of features == hidden_size\n",
    "        self.gru = nn.GRU(hidden_size, hidden_size, n_layers,\n",
    "                          dropout=(0 if n_layers == 1 else dropout), bidirectional=True)\n",
    "\n",
    "    def forward(self, input_seq, input_lengths, hidden=None):\n",
    "        # Convert word indexes to embeddings\n",
    "        embedded = self.embedding(input_seq)\n",
    "        # Pack padded batch of sequences for RNN module\n",
    "        packed = nn.utils.rnn.pack_padded_sequence(embedded, input_lengths)\n",
    "        # Forward pass through GRU\n",
    "        outputs, hidden = self.gru(packed, hidden)\n",
    "        # Unpack padding\n",
    "        outputs, _ = nn.utils.rnn.pad_packed_sequence(outputs)\n",
    "        # Sum bidirectional GRU outputs\n",
    "        outputs = outputs[:, :, :self.hidden_size] + outputs[:, : ,self.hidden_size:]\n",
    "        # Return output and final hidden state\n",
    "        return outputs, hidden"
   ]
  },
  {
   "cell_type": "code",
   "execution_count": 165,
   "metadata": {},
   "outputs": [],
   "source": [
    "# Luong attention layer\n",
    "class Attn(nn.Module):\n",
    "    def __init__(self, method, hidden_size):\n",
    "        super(Attn, self).__init__()\n",
    "        self.method = method\n",
    "        if self.method not in ['dot', 'general', 'concat']:\n",
    "            raise ValueError(self.method, \"is not an appropriate attention method.\")\n",
    "        self.hidden_size = hidden_size\n",
    "        if self.method == 'general':\n",
    "            self.attn = nn.Linear(self.hidden_size, hidden_size)\n",
    "        elif self.method == 'concat':\n",
    "            self.attn = nn.Linear(self.hidden_size * 2, hidden_size)\n",
    "            self.v = nn.Parameter(torch.FloatTensor(hidden_size))\n",
    "\n",
    "    def dot_score(self, hidden, encoder_output):\n",
    "        return torch.sum(hidden * encoder_output, dim=2)\n",
    "\n",
    "    def general_score(self, hidden, encoder_output):\n",
    "        energy = self.attn(encoder_output)\n",
    "        return torch.sum(hidden * energy, dim=2)\n",
    "\n",
    "    def concat_score(self, hidden, encoder_output):\n",
    "        energy = self.attn(torch.cat((hidden.expand(encoder_output.size(0), -1, -1), encoder_output), 2)).tanh()\n",
    "        return torch.sum(self.v * energy, dim=2)\n",
    "\n",
    "    def forward(self, hidden, encoder_outputs):\n",
    "        # Calculate the attention weights (energies) based on the given method\n",
    "        if self.method == 'general':\n",
    "            attn_energies = self.general_score(hidden, encoder_outputs)\n",
    "        elif self.method == 'concat':\n",
    "            attn_energies = self.concat_score(hidden, encoder_outputs)\n",
    "        elif self.method == 'dot':\n",
    "            attn_energies = self.dot_score(hidden, encoder_outputs)\n",
    "\n",
    "        # Transpose max_length and batch_size dimensions\n",
    "        attn_energies = attn_energies.t()\n",
    "\n",
    "        # Return the softmax normalized probability scores (with added dimension)\n",
    "        return F.softmax(attn_energies, dim=1).unsqueeze(1)"
   ]
  },
  {
   "cell_type": "code",
   "execution_count": 166,
   "metadata": {},
   "outputs": [],
   "source": [
    "class LuongAttnDecoderRNN(nn.Module):\n",
    "    def __init__(self, attn_model, embedding, hidden_size, output_size, n_layers=1, dropout=0.1):\n",
    "        super(LuongAttnDecoderRNN, self).__init__()\n",
    "\n",
    "        # Keep for reference\n",
    "        self.attn_model = attn_model\n",
    "        self.hidden_size = hidden_size\n",
    "        self.output_size = output_size\n",
    "        self.n_layers = n_layers\n",
    "        self.dropout = dropout\n",
    "\n",
    "        # Define layers\n",
    "        self.embedding = embedding\n",
    "        self.embedding_dropout = nn.Dropout(dropout)\n",
    "        self.gru = nn.GRU(hidden_size, hidden_size, n_layers, dropout=(0 if n_layers == 1 else dropout))\n",
    "        self.concat = nn.Linear(hidden_size * 2, hidden_size)\n",
    "        self.out = nn.Linear(hidden_size, output_size)\n",
    "\n",
    "        self.attn = Attn(attn_model, hidden_size)\n",
    "\n",
    "    def forward(self, input_step, last_hidden, encoder_outputs):\n",
    "        # Note: we run this one step (word) at a time\n",
    "        # Get embedding of current input word\n",
    "        embedded = self.embedding(input_step)\n",
    "        embedded = self.embedding_dropout(embedded)\n",
    "        # Forward through unidirectional GRU\n",
    "        rnn_output, hidden = self.gru(embedded, last_hidden)\n",
    "        # Calculate attention weights from the current GRU output\n",
    "        attn_weights = self.attn(rnn_output, encoder_outputs)\n",
    "        # Multiply attention weights to encoder outputs to get new \"weighted sum\" context vector\n",
    "        context = attn_weights.bmm(encoder_outputs.transpose(0, 1))\n",
    "        # Concatenate weighted context vector and GRU output using Luong eq. 5\n",
    "        rnn_output = rnn_output.squeeze(0)\n",
    "        context = context.squeeze(1)\n",
    "        concat_input = torch.cat((rnn_output, context), 1)\n",
    "        concat_output = torch.tanh(self.concat(concat_input))\n",
    "        # Predict next word using Luong eq. 6\n",
    "        output = self.out(concat_output)\n",
    "        output = F.softmax(output, dim=1)\n",
    "        # Return output and final hidden state\n",
    "        return output, hidden"
   ]
  },
  {
   "cell_type": "code",
   "execution_count": 167,
   "metadata": {},
   "outputs": [],
   "source": [
    "def maskNLLLoss(inp, target, mask):\n",
    "    nTotal = mask.sum()\n",
    "    crossEntropy = -torch.log(torch.gather(inp, 1, target.view(-1, 1)).squeeze(1))\n",
    "    loss = crossEntropy.masked_select(mask).mean()\n",
    "    loss = loss.to(device)\n",
    "    return loss, nTotal.item()"
   ]
  },
  {
   "cell_type": "code",
   "execution_count": 169,
   "metadata": {},
   "outputs": [],
   "source": [
    "MAX_LENGTH = 10"
   ]
  },
  {
   "cell_type": "code",
   "execution_count": 170,
   "metadata": {},
   "outputs": [],
   "source": [
    "def train(input_variable, lengths, target_variable, mask, max_target_len, encoder, decoder, embedding,\n",
    "          encoder_optimizer, decoder_optimizer, batch_size, clip, max_length=MAX_LENGTH):\n",
    "\n",
    "    # Zero gradients\n",
    "    encoder_optimizer.zero_grad()\n",
    "    decoder_optimizer.zero_grad()\n",
    "\n",
    "    # Set device options\n",
    "    input_variable = input_variable.to(device)\n",
    "    lengths = lengths.to(device)\n",
    "    target_variable = target_variable.to(device)\n",
    "    mask = mask.to(device)\n",
    "\n",
    "    # Initialize variables\n",
    "    loss = 0\n",
    "    print_losses = []\n",
    "    n_totals = 0\n",
    "\n",
    "    # Forward pass through encoder\n",
    "    encoder_outputs, encoder_hidden = encoder(input_variable, lengths)\n",
    "\n",
    "    # Create initial decoder input (start with SOS tokens for each sentence)\n",
    "    decoder_input = torch.LongTensor([[SOS_token for _ in range(batch_size)]])\n",
    "    decoder_input = decoder_input.to(device)\n",
    "\n",
    "    # Set initial decoder hidden state to the encoder's final hidden state\n",
    "    decoder_hidden = encoder_hidden[:decoder.n_layers]\n",
    "\n",
    "    # Determine if we are using teacher forcing this iteration\n",
    "    use_teacher_forcing = True if random.random() < teacher_forcing_ratio else False\n",
    "\n",
    "    # Forward batch of sequences through decoder one time step at a time\n",
    "    if use_teacher_forcing:\n",
    "        for t in range(max_target_len):\n",
    "            decoder_output, decoder_hidden = decoder(\n",
    "                decoder_input, decoder_hidden, encoder_outputs\n",
    "            )\n",
    "            # Teacher forcing: next input is current target\n",
    "            decoder_input = target_variable[t].view(1, -1)\n",
    "            # Calculate and accumulate loss\n",
    "            mask_loss, nTotal = maskNLLLoss(decoder_output, target_variable[t], mask[t])\n",
    "            loss += mask_loss\n",
    "            print_losses.append(mask_loss.item() * nTotal)\n",
    "            n_totals += nTotal\n",
    "    else:\n",
    "        for t in range(max_target_len):\n",
    "            decoder_output, decoder_hidden = decoder(\n",
    "                decoder_input, decoder_hidden, encoder_outputs\n",
    "            )\n",
    "            # No teacher forcing: next input is decoder's own current output\n",
    "            _, topi = decoder_output.topk(1)\n",
    "            decoder_input = torch.LongTensor([[topi[i][0] for i in range(batch_size)]])\n",
    "            decoder_input = decoder_input.to(device)\n",
    "            # Calculate and accumulate loss\n",
    "            mask_loss, nTotal = maskNLLLoss(decoder_output, target_variable[t], mask[t])\n",
    "            loss += mask_loss\n",
    "            print_losses.append(mask_loss.item() * nTotal)\n",
    "            n_totals += nTotal\n",
    "\n",
    "    # Perform backpropatation\n",
    "    loss.backward()\n",
    "\n",
    "    # Clip gradients: gradients are modified in place\n",
    "    _ = nn.utils.clip_grad_norm_(encoder.parameters(), clip)\n",
    "    _ = nn.utils.clip_grad_norm_(decoder.parameters(), clip)\n",
    "\n",
    "    # Adjust model weights\n",
    "    encoder_optimizer.step()\n",
    "    decoder_optimizer.step()\n",
    "\n",
    "    return sum(print_losses) / n_totals"
   ]
  },
  {
   "cell_type": "code",
   "execution_count": 171,
   "metadata": {},
   "outputs": [],
   "source": [
    "def trainIters(model_name, voc, pairs, encoder, decoder, encoder_optimizer, decoder_optimizer, embedding, encoder_n_layers, decoder_n_layers, save_dir, n_iteration, batch_size, print_every, save_every, clip, corpus_name, loadFilename):\n",
    "\n",
    "    # Load batches for each iteration\n",
    "    training_batches = [batch2TrainData(voc, [random.choice(pairs) for _ in range(batch_size)])\n",
    "                      for _ in range(n_iteration)]\n",
    "\n",
    "    # Initializations\n",
    "    print('Initializing ...')\n",
    "    start_iteration = 1\n",
    "    print_loss = 0\n",
    "    if loadFilename:\n",
    "        start_iteration = checkpoint['iteration'] + 1\n",
    "\n",
    "    # Training loop\n",
    "    print(\"Training...\")\n",
    "    for iteration in range(start_iteration, n_iteration + 1):\n",
    "        training_batch = training_batches[iteration - 1]\n",
    "        # Extract fields from batch\n",
    "        input_variable, lengths, target_variable, mask, max_target_len = training_batch\n",
    "\n",
    "        # Run a training iteration with batch\n",
    "        loss = train(input_variable, lengths, target_variable, mask, max_target_len, encoder,\n",
    "                     decoder, embedding, encoder_optimizer, decoder_optimizer, batch_size, clip)\n",
    "        print_loss += loss\n",
    "\n",
    "        # Print progress\n",
    "        if iteration % print_every == 0:\n",
    "            print_loss_avg = print_loss / print_every\n",
    "            print(\"Iteration: {}; Percent complete: {:.1f}%; Average loss: {:.4f}\".format(iteration, iteration / n_iteration * 100, print_loss_avg))\n",
    "            print_loss = 0\n",
    "\n",
    "        # Save checkpoint\n",
    "        if (iteration % save_every == 0):\n",
    "            directory = os.path.join(save_dir, model_name, corpus_name, '{}-{}_{}'.format(encoder_n_layers, decoder_n_layers, hidden_size))\n",
    "            if not os.path.exists(directory):\n",
    "                os.makedirs(directory)\n",
    "            torch.save({\n",
    "                'iteration': iteration,\n",
    "                'en': encoder.state_dict(),\n",
    "                'de': decoder.state_dict(),\n",
    "                'en_opt': encoder_optimizer.state_dict(),\n",
    "                'de_opt': decoder_optimizer.state_dict(),\n",
    "                'loss': loss,\n",
    "                'voc_dict': voc.__dict__,\n",
    "                'embedding': embedding.state_dict()\n",
    "            }, os.path.join(directory, '{}_{}.tar'.format(iteration, 'checkpoint')))"
   ]
  },
  {
   "cell_type": "code",
   "execution_count": 172,
   "metadata": {},
   "outputs": [],
   "source": [
    "class GreedySearchDecoder(nn.Module):\n",
    "    def __init__(self, encoder, decoder):\n",
    "        super(GreedySearchDecoder, self).__init__()\n",
    "        self.encoder = encoder\n",
    "        self.decoder = decoder\n",
    "\n",
    "    def forward(self, input_seq, input_length, max_length):\n",
    "        # Forward input through encoder model\n",
    "        encoder_outputs, encoder_hidden = self.encoder(input_seq, input_length)\n",
    "        # Prepare encoder's final hidden layer to be first hidden input to the decoder\n",
    "        decoder_hidden = encoder_hidden[:decoder.n_layers]\n",
    "        # Initialize decoder input with SOS_token\n",
    "        decoder_input = torch.ones(1, 1, device=device, dtype=torch.long) * SOS_token\n",
    "        # Initialize tensors to append decoded words to\n",
    "        all_tokens = torch.zeros([0], device=device, dtype=torch.long)\n",
    "        all_scores = torch.zeros([0], device=device)\n",
    "        # Iteratively decode one word token at a time\n",
    "        for _ in range(max_length):\n",
    "            # Forward pass through decoder\n",
    "            decoder_output, decoder_hidden = self.decoder(decoder_input, decoder_hidden, encoder_outputs)\n",
    "            # Obtain most likely word token and its softmax score\n",
    "            decoder_scores, decoder_input = torch.max(decoder_output, dim=1)\n",
    "            # Record token and score\n",
    "            all_tokens = torch.cat((all_tokens, decoder_input), dim=0)\n",
    "            all_scores = torch.cat((all_scores, decoder_scores), dim=0)\n",
    "            # Prepare current token to be next decoder input (add a dimension)\n",
    "            decoder_input = torch.unsqueeze(decoder_input, 0)\n",
    "        # Return collections of word tokens and scores\n",
    "        return all_tokens, all_scores"
   ]
  },
  {
   "cell_type": "code",
   "execution_count": 173,
   "metadata": {},
   "outputs": [],
   "source": [
    "def evaluate(encoder, decoder, searcher, voc, sentence, max_length=MAX_LENGTH):\n",
    "    ### Format input sentence as a batch\n",
    "    # words -> indexes\n",
    "    indexes_batch = [indexesFromSentence(voc, sentence)]\n",
    "    # Create lengths tensor\n",
    "    lengths = torch.tensor([len(indexes) for indexes in indexes_batch])\n",
    "    # Transpose dimensions of batch to match models' expectations\n",
    "    input_batch = torch.LongTensor(indexes_batch).transpose(0, 1)\n",
    "    # Use appropriate device\n",
    "    input_batch = input_batch.to(device)\n",
    "    lengths = lengths.to(device)\n",
    "    # Decode sentence with searcher\n",
    "    tokens, scores = searcher(input_batch, lengths, max_length)\n",
    "    # indexes -> words\n",
    "    decoded_words = [voc.index2word[token.item()] for token in tokens]\n",
    "    return decoded_words\n",
    "\n",
    "\n",
    "def evaluateInput(encoder, decoder, searcher, voc):\n",
    "    input_sentence = ''\n",
    "    while(1):\n",
    "        try:\n",
    "            # Get input sentence\n",
    "            input_sentence = input('> ')\n",
    "            # Check if it is quit case\n",
    "            if input_sentence == 'q' or input_sentence == 'quit': break\n",
    "            # Normalize sentence\n",
    "            input_sentence = normalizeString(input_sentence)\n",
    "            # Evaluate sentence\n",
    "            output_words = evaluate(encoder, decoder, searcher, voc, input_sentence)\n",
    "            # Format and print response sentence\n",
    "            output_words[:] = [x for x in output_words if not (x == 'EOS' or x == 'PAD')]\n",
    "            print('Bot:', ' '.join(output_words))\n",
    "\n",
    "        except KeyError:\n",
    "            print(\"Error: Encountered unknown word.\")"
   ]
  },
  {
   "cell_type": "code",
   "execution_count": 175,
   "metadata": {},
   "outputs": [],
   "source": [
    "device = 'cpu'"
   ]
  },
  {
   "cell_type": "code",
   "execution_count": 176,
   "metadata": {},
   "outputs": [
    {
     "name": "stdout",
     "output_type": "stream",
     "text": [
      "Building encoder and decoder ...\n",
      "Models built and ready to go!\n"
     ]
    }
   ],
   "source": [
    "# Configure models\n",
    "model_name = 'cb_model'\n",
    "attn_model = 'dot'\n",
    "#attn_model = 'general'\n",
    "#attn_model = 'concat'\n",
    "hidden_size = 500\n",
    "encoder_n_layers = 2\n",
    "decoder_n_layers = 2\n",
    "dropout = 0.1\n",
    "batch_size = 64\n",
    "\n",
    "# Set checkpoint to load from; set to None if starting from scratch\n",
    "loadFilename = None\n",
    "checkpoint_iter = 4000\n",
    "#loadFilename = os.path.join(save_dir, model_name, corpus_name,\n",
    "#                            '{}-{}_{}'.format(encoder_n_layers, decoder_n_layers, hidden_size),\n",
    "#                            '{}_checkpoint.tar'.format(checkpoint_iter))\n",
    "\n",
    "\n",
    "# Load model if a loadFilename is provided\n",
    "if loadFilename:\n",
    "    # If loading on same machine the model was trained on\n",
    "    checkpoint = torch.load(loadFilename)\n",
    "    # If loading a model trained on GPU to CPU\n",
    "    #checkpoint = torch.load(loadFilename, map_location=torch.device('cpu'))\n",
    "    encoder_sd = checkpoint['en']\n",
    "    decoder_sd = checkpoint['de']\n",
    "    encoder_optimizer_sd = checkpoint['en_opt']\n",
    "    decoder_optimizer_sd = checkpoint['de_opt']\n",
    "    embedding_sd = checkpoint['embedding']\n",
    "    voc.__dict__ = checkpoint['voc_dict']\n",
    "\n",
    "\n",
    "print('Building encoder and decoder ...')\n",
    "# Initialize word embeddings\n",
    "embedding = nn.Embedding(voc.num_words, hidden_size)\n",
    "if loadFilename:\n",
    "    embedding.load_state_dict(embedding_sd)\n",
    "# Initialize encoder & decoder models\n",
    "encoder = EncoderRNN(hidden_size, embedding, encoder_n_layers, dropout)\n",
    "decoder = LuongAttnDecoderRNN(attn_model, embedding, hidden_size, voc.num_words, decoder_n_layers, dropout)\n",
    "if loadFilename:\n",
    "    encoder.load_state_dict(encoder_sd)\n",
    "    decoder.load_state_dict(decoder_sd)\n",
    "# Use appropriate device\n",
    "encoder = encoder.to(device)\n",
    "decoder = decoder.to(device)\n",
    "print('Models built and ready to go!')"
   ]
  },
  {
   "cell_type": "code",
   "execution_count": 178,
   "metadata": {},
   "outputs": [],
   "source": [
    "save_dir = 'tmp'"
   ]
  },
  {
   "cell_type": "code",
   "execution_count": 180,
   "metadata": {},
   "outputs": [
    {
     "name": "stdout",
     "output_type": "stream",
     "text": [
      "Building optimizers ...\n",
      "Starting Training!\n",
      "Initializing ...\n",
      "Training...\n",
      "Iteration: 1; Percent complete: 0.0%; Average loss: 4.1050\n",
      "Iteration: 2; Percent complete: 0.1%; Average loss: 3.9513\n",
      "Iteration: 3; Percent complete: 0.1%; Average loss: 3.7606\n",
      "Iteration: 4; Percent complete: 0.1%; Average loss: 3.5510\n",
      "Iteration: 5; Percent complete: 0.1%; Average loss: 3.3931\n",
      "Iteration: 6; Percent complete: 0.1%; Average loss: 3.2479\n",
      "Iteration: 7; Percent complete: 0.2%; Average loss: 3.1744\n",
      "Iteration: 8; Percent complete: 0.2%; Average loss: 2.9400\n",
      "Iteration: 9; Percent complete: 0.2%; Average loss: 2.7585\n",
      "Iteration: 10; Percent complete: 0.2%; Average loss: 2.6449\n",
      "Iteration: 11; Percent complete: 0.3%; Average loss: 2.4655\n",
      "Iteration: 12; Percent complete: 0.3%; Average loss: 2.3396\n",
      "Iteration: 13; Percent complete: 0.3%; Average loss: 2.2048\n",
      "Iteration: 14; Percent complete: 0.4%; Average loss: 2.0083\n",
      "Iteration: 15; Percent complete: 0.4%; Average loss: 1.9211\n",
      "Iteration: 16; Percent complete: 0.4%; Average loss: 1.7522\n",
      "Iteration: 17; Percent complete: 0.4%; Average loss: 1.6810\n",
      "Iteration: 18; Percent complete: 0.4%; Average loss: 1.4915\n",
      "Iteration: 19; Percent complete: 0.5%; Average loss: 1.4257\n",
      "Iteration: 20; Percent complete: 0.5%; Average loss: 1.3528\n",
      "Iteration: 21; Percent complete: 0.5%; Average loss: 1.2373\n",
      "Iteration: 22; Percent complete: 0.5%; Average loss: 1.1779\n",
      "Iteration: 23; Percent complete: 0.6%; Average loss: 1.0012\n",
      "Iteration: 24; Percent complete: 0.6%; Average loss: 0.9492\n",
      "Iteration: 25; Percent complete: 0.6%; Average loss: 0.8073\n",
      "Iteration: 26; Percent complete: 0.7%; Average loss: 0.7625\n",
      "Iteration: 27; Percent complete: 0.7%; Average loss: 0.7194\n",
      "Iteration: 28; Percent complete: 0.7%; Average loss: 0.6387\n",
      "Iteration: 29; Percent complete: 0.7%; Average loss: 0.5589\n",
      "Iteration: 30; Percent complete: 0.8%; Average loss: 0.5935\n",
      "Iteration: 31; Percent complete: 0.8%; Average loss: 0.4932\n",
      "Iteration: 32; Percent complete: 0.8%; Average loss: 0.3919\n",
      "Iteration: 33; Percent complete: 0.8%; Average loss: 0.4137\n",
      "Iteration: 34; Percent complete: 0.9%; Average loss: 0.3423\n",
      "Iteration: 35; Percent complete: 0.9%; Average loss: 0.3025\n",
      "Iteration: 36; Percent complete: 0.9%; Average loss: 0.2946\n",
      "Iteration: 37; Percent complete: 0.9%; Average loss: 0.2678\n",
      "Iteration: 38; Percent complete: 0.9%; Average loss: 0.2564\n",
      "Iteration: 39; Percent complete: 1.0%; Average loss: 0.2219\n",
      "Iteration: 40; Percent complete: 1.0%; Average loss: 0.1874\n",
      "Iteration: 41; Percent complete: 1.0%; Average loss: 0.2209\n",
      "Iteration: 42; Percent complete: 1.1%; Average loss: 0.1784\n",
      "Iteration: 43; Percent complete: 1.1%; Average loss: 0.2268\n",
      "Iteration: 44; Percent complete: 1.1%; Average loss: 0.1655\n",
      "Iteration: 45; Percent complete: 1.1%; Average loss: 0.1423\n",
      "Iteration: 46; Percent complete: 1.1%; Average loss: 0.0996\n",
      "Iteration: 47; Percent complete: 1.2%; Average loss: 0.1002\n",
      "Iteration: 48; Percent complete: 1.2%; Average loss: 0.1272\n",
      "Iteration: 49; Percent complete: 1.2%; Average loss: 0.0947\n",
      "Iteration: 50; Percent complete: 1.2%; Average loss: 0.0959\n",
      "Iteration: 51; Percent complete: 1.3%; Average loss: 0.0713\n",
      "Iteration: 52; Percent complete: 1.3%; Average loss: 0.0717\n",
      "Iteration: 53; Percent complete: 1.3%; Average loss: 0.1050\n",
      "Iteration: 54; Percent complete: 1.4%; Average loss: 0.1009\n",
      "Iteration: 55; Percent complete: 1.4%; Average loss: 0.0694\n",
      "Iteration: 56; Percent complete: 1.4%; Average loss: 0.0733\n",
      "Iteration: 57; Percent complete: 1.4%; Average loss: 0.0374\n",
      "Iteration: 58; Percent complete: 1.5%; Average loss: 0.0731\n",
      "Iteration: 59; Percent complete: 1.5%; Average loss: 0.0503\n",
      "Iteration: 60; Percent complete: 1.5%; Average loss: 0.0613\n",
      "Iteration: 61; Percent complete: 1.5%; Average loss: 0.0667\n",
      "Iteration: 62; Percent complete: 1.6%; Average loss: 0.0465\n",
      "Iteration: 63; Percent complete: 1.6%; Average loss: 0.0395\n",
      "Iteration: 64; Percent complete: 1.6%; Average loss: 0.0402\n",
      "Iteration: 65; Percent complete: 1.6%; Average loss: 0.0355\n",
      "Iteration: 66; Percent complete: 1.7%; Average loss: 0.0265\n",
      "Iteration: 67; Percent complete: 1.7%; Average loss: 0.0379\n",
      "Iteration: 68; Percent complete: 1.7%; Average loss: 0.0223\n",
      "Iteration: 69; Percent complete: 1.7%; Average loss: 0.0362\n",
      "Iteration: 70; Percent complete: 1.8%; Average loss: 0.0349\n",
      "Iteration: 71; Percent complete: 1.8%; Average loss: 0.0259\n",
      "Iteration: 72; Percent complete: 1.8%; Average loss: 0.0309\n",
      "Iteration: 73; Percent complete: 1.8%; Average loss: 0.0209\n",
      "Iteration: 74; Percent complete: 1.8%; Average loss: 0.0212\n",
      "Iteration: 75; Percent complete: 1.9%; Average loss: 0.0230\n",
      "Iteration: 76; Percent complete: 1.9%; Average loss: 0.0238\n",
      "Iteration: 77; Percent complete: 1.9%; Average loss: 0.0204\n",
      "Iteration: 78; Percent complete: 1.9%; Average loss: 0.0204\n",
      "Iteration: 79; Percent complete: 2.0%; Average loss: 0.0161\n",
      "Iteration: 80; Percent complete: 2.0%; Average loss: 0.0159\n",
      "Iteration: 81; Percent complete: 2.0%; Average loss: 0.0155\n",
      "Iteration: 82; Percent complete: 2.1%; Average loss: 0.0169\n",
      "Iteration: 83; Percent complete: 2.1%; Average loss: 0.0142\n",
      "Iteration: 84; Percent complete: 2.1%; Average loss: 0.0192\n",
      "Iteration: 85; Percent complete: 2.1%; Average loss: 0.0118\n",
      "Iteration: 86; Percent complete: 2.1%; Average loss: 0.0156\n",
      "Iteration: 87; Percent complete: 2.2%; Average loss: 0.0145\n",
      "Iteration: 88; Percent complete: 2.2%; Average loss: 0.0127\n",
      "Iteration: 89; Percent complete: 2.2%; Average loss: 0.0129\n",
      "Iteration: 90; Percent complete: 2.2%; Average loss: 0.0127\n",
      "Iteration: 91; Percent complete: 2.3%; Average loss: 0.0102\n",
      "Iteration: 92; Percent complete: 2.3%; Average loss: 0.0095\n",
      "Iteration: 93; Percent complete: 2.3%; Average loss: 0.0129\n",
      "Iteration: 94; Percent complete: 2.4%; Average loss: 0.0103\n",
      "Iteration: 95; Percent complete: 2.4%; Average loss: 0.0113\n",
      "Iteration: 96; Percent complete: 2.4%; Average loss: 0.0105\n",
      "Iteration: 97; Percent complete: 2.4%; Average loss: 0.0119\n",
      "Iteration: 98; Percent complete: 2.5%; Average loss: 0.0096\n",
      "Iteration: 99; Percent complete: 2.5%; Average loss: 0.0093\n",
      "Iteration: 100; Percent complete: 2.5%; Average loss: 0.0087\n",
      "Iteration: 101; Percent complete: 2.5%; Average loss: 0.0082\n",
      "Iteration: 102; Percent complete: 2.5%; Average loss: 0.0101\n",
      "Iteration: 103; Percent complete: 2.6%; Average loss: 0.0084\n",
      "Iteration: 104; Percent complete: 2.6%; Average loss: 0.0096\n",
      "Iteration: 105; Percent complete: 2.6%; Average loss: 0.0081\n",
      "Iteration: 106; Percent complete: 2.6%; Average loss: 0.0104\n",
      "Iteration: 107; Percent complete: 2.7%; Average loss: 0.0079\n",
      "Iteration: 108; Percent complete: 2.7%; Average loss: 0.0083\n",
      "Iteration: 109; Percent complete: 2.7%; Average loss: 0.0068\n",
      "Iteration: 110; Percent complete: 2.8%; Average loss: 0.0082\n",
      "Iteration: 111; Percent complete: 2.8%; Average loss: 0.0077\n",
      "Iteration: 112; Percent complete: 2.8%; Average loss: 0.0087\n",
      "Iteration: 113; Percent complete: 2.8%; Average loss: 0.0068\n"
     ]
    },
    {
     "ename": "KeyboardInterrupt",
     "evalue": "",
     "output_type": "error",
     "traceback": [
      "\u001b[0;31m---------------------------------------------------------------------------\u001b[0m",
      "\u001b[0;31mKeyboardInterrupt\u001b[0m                         Traceback (most recent call last)",
      "\u001b[0;32m<ipython-input-180-55be0d0477f0>\u001b[0m in \u001b[0;36m<module>\u001b[0;34m\u001b[0m\n\u001b[1;32m     35\u001b[0m trainIters(model_name, voc, pairs, encoder, decoder, encoder_optimizer, decoder_optimizer,\n\u001b[1;32m     36\u001b[0m            \u001b[0membedding\u001b[0m\u001b[0;34m,\u001b[0m \u001b[0mencoder_n_layers\u001b[0m\u001b[0;34m,\u001b[0m \u001b[0mdecoder_n_layers\u001b[0m\u001b[0;34m,\u001b[0m \u001b[0msave_dir\u001b[0m\u001b[0;34m,\u001b[0m \u001b[0mn_iteration\u001b[0m\u001b[0;34m,\u001b[0m \u001b[0mbatch_size\u001b[0m\u001b[0;34m,\u001b[0m\u001b[0;34m\u001b[0m\u001b[0;34m\u001b[0m\u001b[0m\n\u001b[0;32m---> 37\u001b[0;31m            print_every, save_every, clip, 'lol', loadFilename)\n\u001b[0m",
      "\u001b[0;32m<ipython-input-171-884b1c7d04c7>\u001b[0m in \u001b[0;36mtrainIters\u001b[0;34m(model_name, voc, pairs, encoder, decoder, encoder_optimizer, decoder_optimizer, embedding, encoder_n_layers, decoder_n_layers, save_dir, n_iteration, batch_size, print_every, save_every, clip, corpus_name, loadFilename)\u001b[0m\n\u001b[1;32m     21\u001b[0m         \u001b[0;31m# Run a training iteration with batch\u001b[0m\u001b[0;34m\u001b[0m\u001b[0;34m\u001b[0m\u001b[0;34m\u001b[0m\u001b[0m\n\u001b[1;32m     22\u001b[0m         loss = train(input_variable, lengths, target_variable, mask, max_target_len, encoder,\n\u001b[0;32m---> 23\u001b[0;31m                      decoder, embedding, encoder_optimizer, decoder_optimizer, batch_size, clip)\n\u001b[0m\u001b[1;32m     24\u001b[0m         \u001b[0mprint_loss\u001b[0m \u001b[0;34m+=\u001b[0m \u001b[0mloss\u001b[0m\u001b[0;34m\u001b[0m\u001b[0;34m\u001b[0m\u001b[0m\n\u001b[1;32m     25\u001b[0m \u001b[0;34m\u001b[0m\u001b[0m\n",
      "\u001b[0;32m<ipython-input-170-23c8611ac0fd>\u001b[0m in \u001b[0;36mtrain\u001b[0;34m(input_variable, lengths, target_variable, mask, max_target_len, encoder, decoder, embedding, encoder_optimizer, decoder_optimizer, batch_size, clip, max_length)\u001b[0m\n\u001b[1;32m     59\u001b[0m \u001b[0;34m\u001b[0m\u001b[0m\n\u001b[1;32m     60\u001b[0m     \u001b[0;31m# Perform backpropatation\u001b[0m\u001b[0;34m\u001b[0m\u001b[0;34m\u001b[0m\u001b[0;34m\u001b[0m\u001b[0m\n\u001b[0;32m---> 61\u001b[0;31m     \u001b[0mloss\u001b[0m\u001b[0;34m.\u001b[0m\u001b[0mbackward\u001b[0m\u001b[0;34m(\u001b[0m\u001b[0;34m)\u001b[0m\u001b[0;34m\u001b[0m\u001b[0;34m\u001b[0m\u001b[0m\n\u001b[0m\u001b[1;32m     62\u001b[0m \u001b[0;34m\u001b[0m\u001b[0m\n\u001b[1;32m     63\u001b[0m     \u001b[0;31m# Clip gradients: gradients are modified in place\u001b[0m\u001b[0;34m\u001b[0m\u001b[0;34m\u001b[0m\u001b[0;34m\u001b[0m\u001b[0m\n",
      "\u001b[0;32m/usr/local/lib/python3.6/dist-packages/torch/tensor.py\u001b[0m in \u001b[0;36mbackward\u001b[0;34m(self, gradient, retain_graph, create_graph)\u001b[0m\n\u001b[1;32m    193\u001b[0m                 \u001b[0mproducts\u001b[0m\u001b[0;34m.\u001b[0m \u001b[0mDefaults\u001b[0m \u001b[0mto\u001b[0m\u001b[0;31m \u001b[0m\u001b[0;31m`\u001b[0m\u001b[0;31m`\u001b[0m\u001b[0;32mFalse\u001b[0m\u001b[0;31m`\u001b[0m\u001b[0;31m`\u001b[0m\u001b[0;34m.\u001b[0m\u001b[0;34m\u001b[0m\u001b[0;34m\u001b[0m\u001b[0m\n\u001b[1;32m    194\u001b[0m         \"\"\"\n\u001b[0;32m--> 195\u001b[0;31m         \u001b[0mtorch\u001b[0m\u001b[0;34m.\u001b[0m\u001b[0mautograd\u001b[0m\u001b[0;34m.\u001b[0m\u001b[0mbackward\u001b[0m\u001b[0;34m(\u001b[0m\u001b[0mself\u001b[0m\u001b[0;34m,\u001b[0m \u001b[0mgradient\u001b[0m\u001b[0;34m,\u001b[0m \u001b[0mretain_graph\u001b[0m\u001b[0;34m,\u001b[0m \u001b[0mcreate_graph\u001b[0m\u001b[0;34m)\u001b[0m\u001b[0;34m\u001b[0m\u001b[0;34m\u001b[0m\u001b[0m\n\u001b[0m\u001b[1;32m    196\u001b[0m \u001b[0;34m\u001b[0m\u001b[0m\n\u001b[1;32m    197\u001b[0m     \u001b[0;32mdef\u001b[0m \u001b[0mregister_hook\u001b[0m\u001b[0;34m(\u001b[0m\u001b[0mself\u001b[0m\u001b[0;34m,\u001b[0m \u001b[0mhook\u001b[0m\u001b[0;34m)\u001b[0m\u001b[0;34m:\u001b[0m\u001b[0;34m\u001b[0m\u001b[0;34m\u001b[0m\u001b[0m\n",
      "\u001b[0;32m/usr/local/lib/python3.6/dist-packages/torch/autograd/__init__.py\u001b[0m in \u001b[0;36mbackward\u001b[0;34m(tensors, grad_tensors, retain_graph, create_graph, grad_variables)\u001b[0m\n\u001b[1;32m     97\u001b[0m     Variable._execution_engine.run_backward(\n\u001b[1;32m     98\u001b[0m         \u001b[0mtensors\u001b[0m\u001b[0;34m,\u001b[0m \u001b[0mgrad_tensors\u001b[0m\u001b[0;34m,\u001b[0m \u001b[0mretain_graph\u001b[0m\u001b[0;34m,\u001b[0m \u001b[0mcreate_graph\u001b[0m\u001b[0;34m,\u001b[0m\u001b[0;34m\u001b[0m\u001b[0;34m\u001b[0m\u001b[0m\n\u001b[0;32m---> 99\u001b[0;31m         allow_unreachable=True)  # allow_unreachable flag\n\u001b[0m\u001b[1;32m    100\u001b[0m \u001b[0;34m\u001b[0m\u001b[0m\n\u001b[1;32m    101\u001b[0m \u001b[0;34m\u001b[0m\u001b[0m\n",
      "\u001b[0;31mKeyboardInterrupt\u001b[0m: "
     ]
    }
   ],
   "source": [
    "# Configure training/optimization\n",
    "clip = 50.0\n",
    "teacher_forcing_ratio = 1.0\n",
    "learning_rate = 0.0001\n",
    "decoder_learning_ratio = 5.0\n",
    "n_iteration = 4000\n",
    "print_every = 1\n",
    "save_every = 500\n",
    "\n",
    "# Ensure dropout layers are in train mode\n",
    "encoder.train()\n",
    "decoder.train()\n",
    "\n",
    "# Initialize optimizers\n",
    "print('Building optimizers ...')\n",
    "encoder_optimizer = optim.Adam(encoder.parameters(), lr=learning_rate)\n",
    "decoder_optimizer = optim.Adam(decoder.parameters(), lr=learning_rate * decoder_learning_ratio)\n",
    "if loadFilename:\n",
    "    encoder_optimizer.load_state_dict(encoder_optimizer_sd)\n",
    "    decoder_optimizer.load_state_dict(decoder_optimizer_sd)\n",
    "\n",
    "# If you have cuda, configure cuda to call\n",
    "for state in encoder_optimizer.state.values():\n",
    "    for k, v in state.items():\n",
    "        if isinstance(v, torch.Tensor):\n",
    "            state[k] = v.cuda()\n",
    "\n",
    "for state in decoder_optimizer.state.values():\n",
    "    for k, v in state.items():\n",
    "        if isinstance(v, torch.Tensor):\n",
    "            state[k] = v.cuda()\n",
    "\n",
    "# Run training iterations\n",
    "print(\"Starting Training!\")\n",
    "trainIters(model_name, voc, pairs, encoder, decoder, encoder_optimizer, decoder_optimizer,\n",
    "           embedding, encoder_n_layers, decoder_n_layers, save_dir, n_iteration, batch_size,\n",
    "           print_every, save_every, clip, 'lol', loadFilename)"
   ]
  },
  {
   "cell_type": "code",
   "execution_count": null,
   "metadata": {},
   "outputs": [],
   "source": []
  },
  {
   "cell_type": "code",
   "execution_count": null,
   "metadata": {},
   "outputs": [],
   "source": []
  },
  {
   "cell_type": "code",
   "execution_count": null,
   "metadata": {},
   "outputs": [],
   "source": []
  },
  {
   "cell_type": "code",
   "execution_count": 96,
   "metadata": {},
   "outputs": [
    {
     "data": {
      "text/plain": [
       "['последнее . про кино \\n спасибо', 'скинул \\n подойдите завтра к смоленцевой']"
      ]
     },
     "execution_count": 96,
     "metadata": {},
     "output_type": "execute_result"
    }
   ],
   "source": [
    "pairs[0]"
   ]
  },
  {
   "cell_type": "code",
   "execution_count": 100,
   "metadata": {},
   "outputs": [
    {
     "name": "stdout",
     "output_type": "stream",
     "text": [
      "['последнее . про кино \\n спасибо', 'скинул \\n подойдите завтра к смоленцевой']\n",
      "['скинул \\n подойдите завтра к смоленцевой', 'зачем ?']\n",
      "['зачем ?', 'она попросила']\n",
      "['последнее . про кино \\n спасибо', 'скинул \\n подойдите завтра к смоленцевой']\n",
      "['скинул \\n подойдите завтра к смоленцевой', 'зачем ?']\n",
      "['зачем ?', 'она попросила']\n"
     ]
    },
    {
     "data": {
      "text/plain": [
       "[None, None, None, None, None, None]"
      ]
     },
     "execution_count": 100,
     "metadata": {},
     "output_type": "execute_result"
    }
   ],
   "source": [
    "[print(x) for x in pairs]"
   ]
  },
  {
   "cell_type": "code",
   "execution_count": 13,
   "metadata": {},
   "outputs": [
    {
     "ename": "FileNotFoundError",
     "evalue": "[Errno 2] No such file or directory: '../../../messages'",
     "output_type": "error",
     "traceback": [
      "\u001b[0;31m---------------------------------------------------------------------------\u001b[0m",
      "\u001b[0;31mFileNotFoundError\u001b[0m                         Traceback (most recent call last)",
      "\u001b[0;32m<ipython-input-13-54c38c9bf206>\u001b[0m in \u001b[0;36m<module>\u001b[0;34m\u001b[0m\n\u001b[0;32m----> 1\u001b[0;31m \u001b[0mchatbot\u001b[0m \u001b[0;34m=\u001b[0m \u001b[0mData4Chatbot\u001b[0m\u001b[0;34m(\u001b[0m\u001b[0mpath_to_config\u001b[0m\u001b[0;34m=\u001b[0m\u001b[0;34m'../../../messages'\u001b[0m\u001b[0;34m)\u001b[0m\u001b[0;34m\u001b[0m\u001b[0;34m\u001b[0m\u001b[0m\n\u001b[0m",
      "\u001b[0;32m<ipython-input-3-83721e5330d5>\u001b[0m in \u001b[0;36m__init__\u001b[0;34m(self, max_length, is_normalize, **kwargs)\u001b[0m\n\u001b[1;32m      2\u001b[0m \u001b[0;34m\u001b[0m\u001b[0m\n\u001b[1;32m      3\u001b[0m     \u001b[0;32mdef\u001b[0m \u001b[0m__init__\u001b[0m\u001b[0;34m(\u001b[0m\u001b[0mself\u001b[0m\u001b[0;34m,\u001b[0m \u001b[0mmax_length\u001b[0m\u001b[0;34m=\u001b[0m\u001b[0;36m10\u001b[0m\u001b[0;34m,\u001b[0m \u001b[0mis_normalize\u001b[0m\u001b[0;34m=\u001b[0m\u001b[0;32mTrue\u001b[0m\u001b[0;34m,\u001b[0m \u001b[0;34m**\u001b[0m\u001b[0mkwargs\u001b[0m\u001b[0;34m)\u001b[0m\u001b[0;34m:\u001b[0m\u001b[0;34m\u001b[0m\u001b[0;34m\u001b[0m\u001b[0m\n\u001b[0;32m----> 4\u001b[0;31m         \u001b[0msuper\u001b[0m\u001b[0;34m(\u001b[0m\u001b[0;34m)\u001b[0m\u001b[0;34m.\u001b[0m\u001b[0m__init__\u001b[0m\u001b[0;34m(\u001b[0m\u001b[0;34m**\u001b[0m\u001b[0mkwargs\u001b[0m\u001b[0;34m)\u001b[0m\u001b[0;34m\u001b[0m\u001b[0;34m\u001b[0m\u001b[0m\n\u001b[0m\u001b[1;32m      5\u001b[0m         \u001b[0mself\u001b[0m\u001b[0;34m.\u001b[0m\u001b[0mis_normalize\u001b[0m \u001b[0;34m=\u001b[0m \u001b[0mis_normalize\u001b[0m\u001b[0;34m\u001b[0m\u001b[0;34m\u001b[0m\u001b[0m\n\u001b[1;32m      6\u001b[0m         \u001b[0mself\u001b[0m\u001b[0;34m.\u001b[0m\u001b[0mmax_length\u001b[0m \u001b[0;34m=\u001b[0m \u001b[0mmax_length\u001b[0m\u001b[0;34m\u001b[0m\u001b[0;34m\u001b[0m\u001b[0m\n",
      "\u001b[0;32m~/projects/talk_with_me/talk_with_me/data4ml.py\u001b[0m in \u001b[0;36m__init__\u001b[0;34m(self, path_to_config)\u001b[0m\n\u001b[1;32m     15\u001b[0m \u001b[0;32mclass\u001b[0m \u001b[0mData4ML\u001b[0m\u001b[0;34m(\u001b[0m\u001b[0mABC\u001b[0m\u001b[0;34m)\u001b[0m\u001b[0;34m:\u001b[0m\u001b[0;34m\u001b[0m\u001b[0;34m\u001b[0m\u001b[0m\n\u001b[1;32m     16\u001b[0m     \u001b[0;32mdef\u001b[0m \u001b[0m__init__\u001b[0m\u001b[0;34m(\u001b[0m\u001b[0mself\u001b[0m\u001b[0;34m,\u001b[0m \u001b[0mpath_to_config\u001b[0m\u001b[0;34m=\u001b[0m\u001b[0;34m\"./data_params.json\"\u001b[0m\u001b[0;34m)\u001b[0m\u001b[0;34m:\u001b[0m\u001b[0;34m\u001b[0m\u001b[0;34m\u001b[0m\u001b[0m\n\u001b[0;32m---> 17\u001b[0;31m         \u001b[0mcfg\u001b[0m \u001b[0;34m=\u001b[0m \u001b[0mself\u001b[0m\u001b[0;34m.\u001b[0m\u001b[0mread_json\u001b[0m\u001b[0;34m(\u001b[0m\u001b[0mpath_to_config\u001b[0m\u001b[0;34m)\u001b[0m\u001b[0;34m\u001b[0m\u001b[0;34m\u001b[0m\u001b[0m\n\u001b[0m\u001b[1;32m     18\u001b[0m \u001b[0;34m\u001b[0m\u001b[0m\n\u001b[1;32m     19\u001b[0m         \u001b[0mself\u001b[0m\u001b[0;34m.\u001b[0m\u001b[0mhome_folder\u001b[0m \u001b[0;34m=\u001b[0m \u001b[0;34m\"../messages\"\u001b[0m  \u001b[0;31m# add to json\u001b[0m\u001b[0;34m\u001b[0m\u001b[0;34m\u001b[0m\u001b[0m\n",
      "\u001b[0;32m~/projects/talk_with_me/talk_with_me/data4ml.py\u001b[0m in \u001b[0;36mread_json\u001b[0;34m(path_to_config)\u001b[0m\n\u001b[1;32m    138\u001b[0m     \u001b[0;34m@\u001b[0m\u001b[0mstaticmethod\u001b[0m\u001b[0;34m\u001b[0m\u001b[0;34m\u001b[0m\u001b[0m\n\u001b[1;32m    139\u001b[0m     \u001b[0;32mdef\u001b[0m \u001b[0mread_json\u001b[0m\u001b[0;34m(\u001b[0m\u001b[0mpath_to_config\u001b[0m\u001b[0;34m:\u001b[0m \u001b[0mstr\u001b[0m\u001b[0;34m)\u001b[0m \u001b[0;34m->\u001b[0m \u001b[0mdict\u001b[0m\u001b[0;34m:\u001b[0m\u001b[0;34m\u001b[0m\u001b[0;34m\u001b[0m\u001b[0m\n\u001b[0;32m--> 140\u001b[0;31m         \u001b[0;32mwith\u001b[0m \u001b[0mopen\u001b[0m\u001b[0;34m(\u001b[0m\u001b[0mpath_to_config\u001b[0m\u001b[0;34m,\u001b[0m \u001b[0;34m\"r\"\u001b[0m\u001b[0;34m)\u001b[0m \u001b[0;32mas\u001b[0m \u001b[0mf\u001b[0m\u001b[0;34m:\u001b[0m\u001b[0;34m\u001b[0m\u001b[0;34m\u001b[0m\u001b[0m\n\u001b[0m\u001b[1;32m    141\u001b[0m             \u001b[0mcfg\u001b[0m \u001b[0;34m=\u001b[0m \u001b[0mjson\u001b[0m\u001b[0;34m.\u001b[0m\u001b[0mload\u001b[0m\u001b[0;34m(\u001b[0m\u001b[0mf\u001b[0m\u001b[0;34m)\u001b[0m\u001b[0;34m\u001b[0m\u001b[0;34m\u001b[0m\u001b[0m\n\u001b[1;32m    142\u001b[0m         \u001b[0;32mreturn\u001b[0m \u001b[0mcfg\u001b[0m\u001b[0;34m\u001b[0m\u001b[0;34m\u001b[0m\u001b[0m\n",
      "\u001b[0;31mFileNotFoundError\u001b[0m: [Errno 2] No such file or directory: '../../../messages'"
     ]
    }
   ],
   "source": [
    "chatbot = Data4Chatbot(path_to_config='../../../messages')"
   ]
  },
  {
   "cell_type": "code",
   "execution_count": null,
   "metadata": {},
   "outputs": [],
   "source": []
  },
  {
   "cell_type": "code",
   "execution_count": 120,
   "metadata": {},
   "outputs": [
    {
     "name": "stdout",
     "output_type": "stream",
     "text": [
      "['messages0.html']\n"
     ]
    }
   ],
   "source": [
    "list_of_files = chatbot.get_list_of_files_in_folder('data4test/153164714')\n",
    "print(list_of_files)"
   ]
  },
  {
   "cell_type": "code",
   "execution_count": 121,
   "metadata": {},
   "outputs": [
    {
     "data": {
      "text/plain": [
       "['Юлия Николаева, 23 мар 2016 в 20:48:28\\nпришли фотки, пожалуйста',\n",
       " 'Юлия Николаева, 23 мар 2016 в 20:48:55\\nwrong@yandex.ru',\n",
       " 'Вы, 23 мар 2016 в 21:51:32\\nПривет, сейчас',\n",
       " 'Вы, 23 мар 2016 в 21:53:35\\nВсё👌',\n",
       " 'Юлия Николаева, 23 мар 2016 в 22:50:04\\nСпасибо большое',\n",
       " 'Вы, 23 мар 2016 в 22:53:36\\n👌',\n",
       " 'Юлия Николаева, 20 апр 2016 в 10:39:48\\nСережка, перешли мне письмо Смоленцевой.\\n1 прикреплённое сообщение',\n",
       " 'Юлия Николаева, 20 апр 2016 в 10:40:12\\nЗаранее спасибо',\n",
       " 'Вы, 20 апр 2016 в 10:47:08\\nКакое именно?',\n",
       " 'Юлия Николаева, 20 апр 2016 в 10:47:36\\nПоследнее. Про кино',\n",
       " 'Юлия Николаева, 20 апр 2016 в 10:48:44\\nСпасибо',\n",
       " 'Вы, 20 апр 2016 в 10:48:44\\nСкинул',\n",
       " 'Вы, 20 апр 2016 в 22:16:23\\nПодойдите завтра к смоленцевой',\n",
       " 'Юлия Николаева, 20 апр 2016 в 22:20:43\\nзачем?',\n",
       " 'Вы, 21 апр 2016 в 5:26:20\\nОна попросила',\n",
       " 'Юлия Николаева, 21 апр 2016 в 8:37:28\\nХорошо',\n",
       " 'Вы, 22 апр 2016 в 18:36:12\\nЮль',\n",
       " 'Вы, 22 апр 2016 в 18:36:12\\nне забывай, что вы завтра в 12 танцуете',\n",
       " 'Вы, 22 апр 2016 в 18:36:24\\nИ своим передай',\n",
       " 'Юлия Николаева, 22 апр 2016 в 19:17:24\\nХорошо',\n",
       " 'Юлия Николаева, 22 апр 2016 в 19:17:28\\nспасибо',\n",
       " 'Вы, 28 мая 2016 в 21:43:51\\n\\nФотография\\nhttps://sun9-36.userapi.com/c636124/v636124076/cba1/MsjVQhRLUIEg.jpg',\n",
       " 'Юлия Николаева, 29 мая 2016 в 1:04:02\\nСпасибо',\n",
       " 'Вы, 5 июн 2016 в 19:24:30\\n\\nФотография\\nhttps://sun9-21.userapi.com/c633831/v633831076/323f6/CsN5SSfrUUS0.jpg',\n",
       " 'Юлия Николаева, 5 июн 2016 в 19:26:26\\nа до скольких?',\n",
       " 'Юлия Николаева, 5 июн 2016 в 19:26:30\\nспасибо']"
      ]
     },
     "execution_count": 121,
     "metadata": {},
     "output_type": "execute_result"
    }
   ],
   "source": [
    "all_messages = chatbot.parse_html('data4test/153164714', list_of_files)\n",
    "all_messages"
   ]
  },
  {
   "cell_type": "code",
   "execution_count": 122,
   "metadata": {},
   "outputs": [
    {
     "data": {
      "text/plain": [
       "['пришли фотки пожалуйста .',\n",
       " 'привет сейчас . всё',\n",
       " 'спасибо большое . сережка перешли мне письмо смоленцевой . заранее спасибо .',\n",
       " 'какое именно ?',\n",
       " 'последнее . про кино . спасибо .',\n",
       " 'скинул . подойдите завтра к смоленцевой .',\n",
       " 'зачем ?',\n",
       " 'она попросила .',\n",
       " 'хорошо .',\n",
       " 'юль . не забывай что вы завтра в танцуете . и своим передай .',\n",
       " 'хорошо . спасибо . спасибо . а до скольких ? спасибо .']"
      ]
     },
     "execution_count": 122,
     "metadata": {},
     "output_type": "execute_result"
    }
   ],
   "source": [
    "mes = chatbot.clear_messages(all_messages)\n",
    "mes"
   ]
  },
  {
   "cell_type": "code",
   "execution_count": 123,
   "metadata": {},
   "outputs": [
    {
     "data": {
      "text/plain": [
       "[['пришли фотки пожалуйста .', 'привет сейчас . всё'],\n",
       " ['какое именно ?', 'последнее . про кино . спасибо .'],\n",
       " ['последнее . про кино . спасибо .',\n",
       "  'скинул . подойдите завтра к смоленцевой .'],\n",
       " ['скинул . подойдите завтра к смоленцевой .', 'зачем ?'],\n",
       " ['зачем ?', 'она попросила .'],\n",
       " ['она попросила .', 'хорошо .']]"
      ]
     },
     "execution_count": 123,
     "metadata": {},
     "output_type": "execute_result"
    }
   ],
   "source": [
    "chatbot.get_pairs(mes)"
   ]
  },
  {
   "cell_type": "code",
   "execution_count": null,
   "metadata": {},
   "outputs": [],
   "source": []
  },
  {
   "cell_type": "code",
   "execution_count": null,
   "metadata": {},
   "outputs": [],
   "source": []
  },
  {
   "cell_type": "code",
   "execution_count": null,
   "metadata": {},
   "outputs": [],
   "source": []
  },
  {
   "cell_type": "code",
   "execution_count": 24,
   "metadata": {},
   "outputs": [
    {
     "name": "stdout",
     "output_type": "stream",
     "text": [
      "lol\n",
      "lol\n",
      "lol\n"
     ]
    }
   ],
   "source": [
    "\n",
    "def transform_message(message: str) -> str:\n",
    "    \"\"\"Make first char upper and add a dot in the end of sentence.\"\"\"\n",
    "    # TODO: normilise text\n",
    "\n",
    "    if message:\n",
    "        message = message[0].upper() + message[1:]\n",
    "        if message[-1].isalpha():\n",
    "            message += '.'\n",
    "    return message\n",
    "\n",
    "messages = []\n",
    "last_author = all_messages[0][:all_messages[0].find(',')] # Человек, начавший беседу\n",
    "\n",
    "for message in all_messages:\n",
    "    author =  message[:message.find(',')]\n",
    "    message = message[message.find(\"\\n\") + 1 :]\n",
    "    clear_message = chatbot._clear_message(message)\n",
    "    if not clear_message:\n",
    "        last_author =  author \n",
    "        print('lol')\n",
    "        continue\n",
    "        \n",
    "    if author == last_author: # still one message\n",
    "        if messages:\n",
    "            messages[-1] += (' ' + transform_message(clear_message))\n",
    "        else: # for the first iteration\n",
    "            messages.append(transform_message(clear_message))\n",
    "    else: # if author change\n",
    "        messages.append(transform_message(clear_message))\n",
    "\n",
    "    last_author =  author   \n",
    "\n",
    "        "
   ]
  },
  {
   "cell_type": "code",
   "execution_count": 25,
   "metadata": {},
   "outputs": [
    {
     "data": {
      "text/plain": [
       "['Пришли фотки, пожалуйста.',\n",
       " 'Привет, сейчас. Всё👌',\n",
       " 'Спасибо большое.',\n",
       " '👌',\n",
       " 'Сережка, перешли мне письмо Смоленцевой. Заранее спасибо.',\n",
       " 'Какое именно?',\n",
       " 'Последнее. Про кино. Спасибо.',\n",
       " 'Скинул. Подойдите завтра к смоленцевой.',\n",
       " 'Зачем?',\n",
       " 'Она попросила.',\n",
       " 'Хорошо.',\n",
       " 'Юль. Не забывай, что вы завтра в 12 танцуете. И своим передай.',\n",
       " 'Хорошо. Спасибо.',\n",
       " 'Спасибо.',\n",
       " 'А до скольких? Спасибо.']"
      ]
     },
     "execution_count": 25,
     "metadata": {},
     "output_type": "execute_result"
    }
   ],
   "source": [
    "messages"
   ]
  },
  {
   "cell_type": "code",
   "execution_count": 33,
   "metadata": {},
   "outputs": [
    {
     "data": {
      "text/plain": [
       "[':Юлия Николаева: пришли фотки, пожалуйста',\n",
       " ':Вы: Привет, сейчас',\n",
       " ':Вы: Всё👌',\n",
       " ':Юлия Николаева: Спасибо большое',\n",
       " ':Вы: 👌',\n",
       " ':Юлия Николаева: Сережка, перешли мне письмо Смоленцевой.',\n",
       " ':Юлия Николаева: Заранее спасибо',\n",
       " ':Вы: Какое именно?',\n",
       " ':Юлия Николаева: Последнее. Про кино',\n",
       " ':Юлия Николаева: Спасибо',\n",
       " ':Вы: Скинул',\n",
       " ':Вы: Подойдите завтра к смоленцевой',\n",
       " ':Юлия Николаева: зачем?',\n",
       " ':Вы: Она попросила',\n",
       " ':Юлия Николаева: Хорошо',\n",
       " ':Вы: Юль',\n",
       " ':Вы: не забывай, что вы завтра в 12 танцуете',\n",
       " ':Вы: И своим передай',\n",
       " ':Юлия Николаева: Хорошо',\n",
       " ':Юлия Николаева: спасибо',\n",
       " ':Юлия Николаева: Спасибо',\n",
       " ':Юлия Николаева: а до скольких?',\n",
       " ':Юлия Николаева: спасибо']"
      ]
     },
     "execution_count": 33,
     "metadata": {},
     "output_type": "execute_result"
    }
   ],
   "source": [
    "messages"
   ]
  },
  {
   "cell_type": "code",
   "execution_count": null,
   "metadata": {},
   "outputs": [],
   "source": []
  },
  {
   "cell_type": "code",
   "execution_count": 53,
   "metadata": {},
   "outputs": [
    {
     "data": {
      "text/plain": [
       "['Пришли фотки, пожалуйста.',\n",
       " 'Привет, сейчас. Всё👌',\n",
       " 'Спасибо большое.',\n",
       " '👌',\n",
       " 'Сережка, перешли мне письмо Смоленцевой. Заранее спасибо.',\n",
       " 'Какое именно?',\n",
       " 'Последнее. Про кино. Спасибо.',\n",
       " 'Скинул. Подойдите завтра к смоленцевой.',\n",
       " 'Зачем?',\n",
       " 'Она попросила.',\n",
       " 'Хорошо.',\n",
       " 'Юль. Не забывай, что вы завтра в 12 танцуете. И своим передай.',\n",
       " 'Хорошо. Спасибо. Спасибо. А до скольких? Спасибо.']"
      ]
     },
     "execution_count": 53,
     "metadata": {},
     "output_type": "execute_result"
    }
   ],
   "source": [
    "last_author = re.sub(': .*$', '', messages[0])[1:]\n",
    "tmp = []\n",
    "\n",
    "for i in messages:\n",
    "    author = re.sub(': .*$', '', i)[1:]\n",
    "    message = re.sub(':.*: ', '', i)\n",
    "    \n",
    "    if author == last_author: # значит это всё ещё сообщения от одного пользователя - tmp уже заполнен\n",
    "        if tmp:\n",
    "            tmp[-1] += (' ' + transform_message(message))\n",
    "        else: # для первой итерации\n",
    "            tmp.append(transform_message(message))\n",
    "    else: # если пользователь сменился\n",
    "        tmp.append(transform_message(message))\n",
    "    \n",
    "    last_author =  author   \n",
    "        \n",
    "tmp"
   ]
  },
  {
   "cell_type": "code",
   "execution_count": 63,
   "metadata": {},
   "outputs": [
    {
     "data": {
      "text/plain": [
       "[['Пришли фотки, пожалуйста.', 'Привет, сейчас. Всё👌'],\n",
       " ['Привет, сейчас. Всё👌', 'Спасибо большое.'],\n",
       " ['Спасибо большое.', '👌'],\n",
       " ['👌', 'Сережка, перешли мне письмо Смоленцевой. Заранее спасибо.'],\n",
       " ['Сережка, перешли мне письмо Смоленцевой. Заранее спасибо.',\n",
       "  'Какое именно?'],\n",
       " ['Какое именно?', 'Последнее. Про кино. Спасибо.'],\n",
       " ['Последнее. Про кино. Спасибо.', 'Скинул. Подойдите завтра к смоленцевой.'],\n",
       " ['Скинул. Подойдите завтра к смоленцевой.', 'Зачем?'],\n",
       " ['Зачем?', 'Она попросила.'],\n",
       " ['Она попросила.', 'Хорошо.'],\n",
       " ['Хорошо.', 'Юль. Не забывай, что вы завтра в 12 танцуете. И своим передай.'],\n",
       " ['Юль. Не забывай, что вы завтра в 12 танцуете. И своим передай.',\n",
       "  'Хорошо. Спасибо. Спасибо. А до скольких? Спасибо.']]"
      ]
     },
     "execution_count": 63,
     "metadata": {},
     "output_type": "execute_result"
    }
   ],
   "source": [
    "[[tmp[i-1], tmp[i]] for i in range(1, len(tmp))]"
   ]
  },
  {
   "cell_type": "code",
   "execution_count": null,
   "metadata": {},
   "outputs": [],
   "source": []
  },
  {
   "cell_type": "code",
   "execution_count": null,
   "metadata": {},
   "outputs": [],
   "source": []
  }
 ],
 "metadata": {
  "kernelspec": {
   "display_name": "Python 3",
   "language": "python",
   "name": "python3"
  },
  "language_info": {
   "codemirror_mode": {
    "name": "ipython",
    "version": 3
   },
   "file_extension": ".py",
   "mimetype": "text/x-python",
   "name": "python",
   "nbconvert_exporter": "python",
   "pygments_lexer": "ipython3",
   "version": "3.6.9"
  }
 },
 "nbformat": 4,
 "nbformat_minor": 4
}
