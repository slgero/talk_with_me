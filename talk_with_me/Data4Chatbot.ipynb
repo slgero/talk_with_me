{
 "cells": [
  {
   "cell_type": "code",
   "execution_count": 1,
   "metadata": {},
   "outputs": [],
   "source": [
    "from data4ml import Data4ML\n",
    "from bs4 import BeautifulSoup\n",
    "import json\n",
    "import os\n",
    "import re\n",
    "from perfect_regex import (\n",
    "    perfect_url_regex,\n",
    "    perfect_emoji_regex,\n",
    "    perfect_email_regex,\n",
    "    perfect_phone_regex,\n",
    ")"
   ]
  },
  {
   "cell_type": "code",
   "execution_count": 117,
   "metadata": {},
   "outputs": [],
   "source": [
    "class Data4Chatbot(Data4ML):\n",
    "    \n",
    "    def __init__(self, max_length=10, is_normalize=True, **kwargs):\n",
    "        super().__init__(**kwargs)\n",
    "        self.is_normalize = is_normalize\n",
    "        self.max_length = max_length\n",
    "        \n",
    "    def make_data(self):\n",
    "        pass\n",
    "    \n",
    "    def parse_html(self, parent_folder: str, files: list) -> list:\n",
    "\n",
    "        assert isinstance(files, list)\n",
    "        all_messages = []\n",
    "        for file in files:\n",
    "            with open(os.path.join(parent_folder, file), \"rb\") as f:\n",
    "                soup = BeautifulSoup(f, \"lxml\")\n",
    "\n",
    "            messages = []\n",
    "            for message in soup.find_all(\"div\", {\"class\": \"message\"}):\n",
    "                message = message.text.strip()\n",
    "                messages.append(message)\n",
    "\n",
    "            # Reverse the list to save the message sequence:\n",
    "            all_messages.extend(messages[::-1])\n",
    "        return all_messages\n",
    "    \n",
    "    def normalize_message(self, s: str) -> str:\n",
    "        \"\"\"Lowercase, trim, and remove non-letter characters\"\"\"\n",
    "        \n",
    "        s = s.lower().strip()\n",
    "        \n",
    "        # Add space before `.`, `!` or `?`:\n",
    "        s = re.sub(r\"([.!?])\", r\" \\1\", s)\n",
    "        \n",
    "        # Remove non-letter characters:\n",
    "        s = re.sub(r\"[^а-яА-ЯёЁa-zA-Z.!?]+\", r\" \", s)\n",
    "        s = re.sub(r\"\\s+\", r\" \", s).strip()\n",
    "        return s \n",
    "    \n",
    "    \n",
    "    def transform_message(self, s: str) -> str:\n",
    "        \"\"\"Make first char upper and add a dot in the end of sentence.\"\"\"\n",
    "        \n",
    "        if s:\n",
    "            s = s[0].upper() + s[1:]\n",
    "            if s[-1].isalpha():\n",
    "                s += '.'\n",
    "        if self.is_normalize:\n",
    "            s = self.normalize_message(s)\n",
    "        return s\n",
    "\n",
    "    def filter_pair(self, p):\n",
    "        \"\"\"Returns True if both sentences in a pair 'p' are under the MAX_LENGTH threshold\"\"\"\n",
    "        # Input sequences need to preserve the last word for EOS token\n",
    "        return len(p[0].split(' ')) < self.max_length and len(p[1].split(' ')) < self.max_length\n",
    "\n",
    "    def filter_pairs(self, pairs):\n",
    "        \"\"\"Filter pairs using filterPair condition\"\"\"\n",
    "        return [pair for pair in pairs if self.filter_pair(pair)]\n",
    "    \n",
    "    def get_pairs(self, messages: list) -> list:\n",
    "        pairs = [[messages[i-1], messages[i]] for i in range(1, len(messages))]\n",
    "        return self.filter_pairs(pairs)\n",
    "    \n",
    "    def clear_messages(self, messages: list) -> list:\n",
    "        messages = []\n",
    "        \n",
    "        \n",
    "        # Who start the dialog:\n",
    "        last_author = all_messages[0][:all_messages[0].find(',')]\n",
    "        skip_next_sent = False\n",
    "        for message in all_messages:\n",
    "            author =  message[:message.find(',')]\n",
    "            message = message[message.find(\"\\n\") + 1 :]\n",
    "            clear_message = self.transform_message(chatbot._clear_message(message))\n",
    "            if clear_message:\n",
    "                    \n",
    "                if author == last_author: # still one message\n",
    "                    if messages:\n",
    "                        messages[-1] += (' ' + clear_message)\n",
    "                    else: # for the first iteration\n",
    "                        messages.append(clear_message)\n",
    "                else: # if author change\n",
    "                    messages.append(clear_message)\n",
    "                    \n",
    "                last_author = author \n",
    "            \n",
    "            #TODO: \n",
    "            \"\"\"\n",
    "            Продумать насчёт пустых сообщений. Например, это сообщение:\n",
    "                Вы: Привет, скинь фотку.\n",
    "                Они: [Фото#1]\n",
    "                Вы: Спасибо\n",
    "                Они: [Фото#2]\n",
    "                Вы: Большое спасибо!\n",
    "                \n",
    "            Очистится в:\n",
    "                Вы: Привет, скинь фотку.\n",
    "                Вы: Спасибо\n",
    "                Вы: Большое спасибо!\n",
    "                \n",
    "            Если менять автора каждый раз, то получится как выше, а если не менять, то::\n",
    "                Вы: Привет, скинь фотку. Спасибо. Большое спасибо!\n",
    "                \n",
    "            И что вот лучше?\n",
    "            \"\"\" \n",
    "        return messages"
   ]
  },
  {
   "cell_type": "code",
   "execution_count": 118,
   "metadata": {},
   "outputs": [],
   "source": [
    "chatbot = Data4Chatbot(path_to_config='./../data_params.json')"
   ]
  },
  {
   "cell_type": "code",
   "execution_count": 119,
   "metadata": {},
   "outputs": [
    {
     "name": "stdout",
     "output_type": "stream",
     "text": [
      "['153164713', '153164714']\n"
     ]
    }
   ],
   "source": [
    "list_of_folders = chatbot.get_list_of_folders('data4test')\n",
    "print(list_of_folders)"
   ]
  },
  {
   "cell_type": "code",
   "execution_count": 120,
   "metadata": {},
   "outputs": [
    {
     "name": "stdout",
     "output_type": "stream",
     "text": [
      "['messages0.html']\n"
     ]
    }
   ],
   "source": [
    "list_of_files = chatbot.get_list_of_files_in_folder('data4test/153164714')\n",
    "print(list_of_files)"
   ]
  },
  {
   "cell_type": "code",
   "execution_count": 121,
   "metadata": {},
   "outputs": [
    {
     "data": {
      "text/plain": [
       "['Юлия Николаева, 23 мар 2016 в 20:48:28\\nпришли фотки, пожалуйста',\n",
       " 'Юлия Николаева, 23 мар 2016 в 20:48:55\\nwrong@yandex.ru',\n",
       " 'Вы, 23 мар 2016 в 21:51:32\\nПривет, сейчас',\n",
       " 'Вы, 23 мар 2016 в 21:53:35\\nВсё👌',\n",
       " 'Юлия Николаева, 23 мар 2016 в 22:50:04\\nСпасибо большое',\n",
       " 'Вы, 23 мар 2016 в 22:53:36\\n👌',\n",
       " 'Юлия Николаева, 20 апр 2016 в 10:39:48\\nСережка, перешли мне письмо Смоленцевой.\\n1 прикреплённое сообщение',\n",
       " 'Юлия Николаева, 20 апр 2016 в 10:40:12\\nЗаранее спасибо',\n",
       " 'Вы, 20 апр 2016 в 10:47:08\\nКакое именно?',\n",
       " 'Юлия Николаева, 20 апр 2016 в 10:47:36\\nПоследнее. Про кино',\n",
       " 'Юлия Николаева, 20 апр 2016 в 10:48:44\\nСпасибо',\n",
       " 'Вы, 20 апр 2016 в 10:48:44\\nСкинул',\n",
       " 'Вы, 20 апр 2016 в 22:16:23\\nПодойдите завтра к смоленцевой',\n",
       " 'Юлия Николаева, 20 апр 2016 в 22:20:43\\nзачем?',\n",
       " 'Вы, 21 апр 2016 в 5:26:20\\nОна попросила',\n",
       " 'Юлия Николаева, 21 апр 2016 в 8:37:28\\nХорошо',\n",
       " 'Вы, 22 апр 2016 в 18:36:12\\nЮль',\n",
       " 'Вы, 22 апр 2016 в 18:36:12\\nне забывай, что вы завтра в 12 танцуете',\n",
       " 'Вы, 22 апр 2016 в 18:36:24\\nИ своим передай',\n",
       " 'Юлия Николаева, 22 апр 2016 в 19:17:24\\nХорошо',\n",
       " 'Юлия Николаева, 22 апр 2016 в 19:17:28\\nспасибо',\n",
       " 'Вы, 28 мая 2016 в 21:43:51\\n\\nФотография\\nhttps://sun9-36.userapi.com/c636124/v636124076/cba1/MsjVQhRLUIEg.jpg',\n",
       " 'Юлия Николаева, 29 мая 2016 в 1:04:02\\nСпасибо',\n",
       " 'Вы, 5 июн 2016 в 19:24:30\\n\\nФотография\\nhttps://sun9-21.userapi.com/c633831/v633831076/323f6/CsN5SSfrUUS0.jpg',\n",
       " 'Юлия Николаева, 5 июн 2016 в 19:26:26\\nа до скольких?',\n",
       " 'Юлия Николаева, 5 июн 2016 в 19:26:30\\nспасибо']"
      ]
     },
     "execution_count": 121,
     "metadata": {},
     "output_type": "execute_result"
    }
   ],
   "source": [
    "all_messages = chatbot.parse_html('data4test/153164714', list_of_files)\n",
    "all_messages"
   ]
  },
  {
   "cell_type": "code",
   "execution_count": 122,
   "metadata": {},
   "outputs": [
    {
     "data": {
      "text/plain": [
       "['пришли фотки пожалуйста .',\n",
       " 'привет сейчас . всё',\n",
       " 'спасибо большое . сережка перешли мне письмо смоленцевой . заранее спасибо .',\n",
       " 'какое именно ?',\n",
       " 'последнее . про кино . спасибо .',\n",
       " 'скинул . подойдите завтра к смоленцевой .',\n",
       " 'зачем ?',\n",
       " 'она попросила .',\n",
       " 'хорошо .',\n",
       " 'юль . не забывай что вы завтра в танцуете . и своим передай .',\n",
       " 'хорошо . спасибо . спасибо . а до скольких ? спасибо .']"
      ]
     },
     "execution_count": 122,
     "metadata": {},
     "output_type": "execute_result"
    }
   ],
   "source": [
    "mes = chatbot.clear_messages(all_messages)\n",
    "mes"
   ]
  },
  {
   "cell_type": "code",
   "execution_count": 123,
   "metadata": {},
   "outputs": [
    {
     "data": {
      "text/plain": [
       "[['пришли фотки пожалуйста .', 'привет сейчас . всё'],\n",
       " ['какое именно ?', 'последнее . про кино . спасибо .'],\n",
       " ['последнее . про кино . спасибо .',\n",
       "  'скинул . подойдите завтра к смоленцевой .'],\n",
       " ['скинул . подойдите завтра к смоленцевой .', 'зачем ?'],\n",
       " ['зачем ?', 'она попросила .'],\n",
       " ['она попросила .', 'хорошо .']]"
      ]
     },
     "execution_count": 123,
     "metadata": {},
     "output_type": "execute_result"
    }
   ],
   "source": [
    "chatbot.get_pairs(mes)"
   ]
  },
  {
   "cell_type": "code",
   "execution_count": null,
   "metadata": {},
   "outputs": [],
   "source": []
  },
  {
   "cell_type": "code",
   "execution_count": null,
   "metadata": {},
   "outputs": [],
   "source": []
  },
  {
   "cell_type": "code",
   "execution_count": null,
   "metadata": {},
   "outputs": [],
   "source": []
  },
  {
   "cell_type": "code",
   "execution_count": 24,
   "metadata": {},
   "outputs": [
    {
     "name": "stdout",
     "output_type": "stream",
     "text": [
      "lol\n",
      "lol\n",
      "lol\n"
     ]
    }
   ],
   "source": [
    "\n",
    "def transform_message(message: str) -> str:\n",
    "    \"\"\"Make first char upper and add a dot in the end of sentence.\"\"\"\n",
    "    # TODO: normilise text\n",
    "\n",
    "    if message:\n",
    "        message = message[0].upper() + message[1:]\n",
    "        if message[-1].isalpha():\n",
    "            message += '.'\n",
    "    return message\n",
    "\n",
    "messages = []\n",
    "last_author = all_messages[0][:all_messages[0].find(',')] # Человек, начавший беседу\n",
    "\n",
    "for message in all_messages:\n",
    "    author =  message[:message.find(',')]\n",
    "    message = message[message.find(\"\\n\") + 1 :]\n",
    "    clear_message = chatbot._clear_message(message)\n",
    "    if not clear_message:\n",
    "        last_author =  author \n",
    "        print('lol')\n",
    "        continue\n",
    "        \n",
    "    if author == last_author: # still one message\n",
    "        if messages:\n",
    "            messages[-1] += (' ' + transform_message(clear_message))\n",
    "        else: # for the first iteration\n",
    "            messages.append(transform_message(clear_message))\n",
    "    else: # if author change\n",
    "        messages.append(transform_message(clear_message))\n",
    "\n",
    "    last_author =  author   \n",
    "\n",
    "        "
   ]
  },
  {
   "cell_type": "code",
   "execution_count": 25,
   "metadata": {},
   "outputs": [
    {
     "data": {
      "text/plain": [
       "['Пришли фотки, пожалуйста.',\n",
       " 'Привет, сейчас. Всё👌',\n",
       " 'Спасибо большое.',\n",
       " '👌',\n",
       " 'Сережка, перешли мне письмо Смоленцевой. Заранее спасибо.',\n",
       " 'Какое именно?',\n",
       " 'Последнее. Про кино. Спасибо.',\n",
       " 'Скинул. Подойдите завтра к смоленцевой.',\n",
       " 'Зачем?',\n",
       " 'Она попросила.',\n",
       " 'Хорошо.',\n",
       " 'Юль. Не забывай, что вы завтра в 12 танцуете. И своим передай.',\n",
       " 'Хорошо. Спасибо.',\n",
       " 'Спасибо.',\n",
       " 'А до скольких? Спасибо.']"
      ]
     },
     "execution_count": 25,
     "metadata": {},
     "output_type": "execute_result"
    }
   ],
   "source": [
    "messages"
   ]
  },
  {
   "cell_type": "code",
   "execution_count": 33,
   "metadata": {},
   "outputs": [
    {
     "data": {
      "text/plain": [
       "[':Юлия Николаева: пришли фотки, пожалуйста',\n",
       " ':Вы: Привет, сейчас',\n",
       " ':Вы: Всё👌',\n",
       " ':Юлия Николаева: Спасибо большое',\n",
       " ':Вы: 👌',\n",
       " ':Юлия Николаева: Сережка, перешли мне письмо Смоленцевой.',\n",
       " ':Юлия Николаева: Заранее спасибо',\n",
       " ':Вы: Какое именно?',\n",
       " ':Юлия Николаева: Последнее. Про кино',\n",
       " ':Юлия Николаева: Спасибо',\n",
       " ':Вы: Скинул',\n",
       " ':Вы: Подойдите завтра к смоленцевой',\n",
       " ':Юлия Николаева: зачем?',\n",
       " ':Вы: Она попросила',\n",
       " ':Юлия Николаева: Хорошо',\n",
       " ':Вы: Юль',\n",
       " ':Вы: не забывай, что вы завтра в 12 танцуете',\n",
       " ':Вы: И своим передай',\n",
       " ':Юлия Николаева: Хорошо',\n",
       " ':Юлия Николаева: спасибо',\n",
       " ':Юлия Николаева: Спасибо',\n",
       " ':Юлия Николаева: а до скольких?',\n",
       " ':Юлия Николаева: спасибо']"
      ]
     },
     "execution_count": 33,
     "metadata": {},
     "output_type": "execute_result"
    }
   ],
   "source": [
    "messages"
   ]
  },
  {
   "cell_type": "code",
   "execution_count": null,
   "metadata": {},
   "outputs": [],
   "source": []
  },
  {
   "cell_type": "code",
   "execution_count": 53,
   "metadata": {},
   "outputs": [
    {
     "data": {
      "text/plain": [
       "['Пришли фотки, пожалуйста.',\n",
       " 'Привет, сейчас. Всё👌',\n",
       " 'Спасибо большое.',\n",
       " '👌',\n",
       " 'Сережка, перешли мне письмо Смоленцевой. Заранее спасибо.',\n",
       " 'Какое именно?',\n",
       " 'Последнее. Про кино. Спасибо.',\n",
       " 'Скинул. Подойдите завтра к смоленцевой.',\n",
       " 'Зачем?',\n",
       " 'Она попросила.',\n",
       " 'Хорошо.',\n",
       " 'Юль. Не забывай, что вы завтра в 12 танцуете. И своим передай.',\n",
       " 'Хорошо. Спасибо. Спасибо. А до скольких? Спасибо.']"
      ]
     },
     "execution_count": 53,
     "metadata": {},
     "output_type": "execute_result"
    }
   ],
   "source": [
    "last_author = re.sub(': .*$', '', messages[0])[1:]\n",
    "tmp = []\n",
    "\n",
    "for i in messages:\n",
    "    author = re.sub(': .*$', '', i)[1:]\n",
    "    message = re.sub(':.*: ', '', i)\n",
    "    \n",
    "    if author == last_author: # значит это всё ещё сообщения от одного пользователя - tmp уже заполнен\n",
    "        if tmp:\n",
    "            tmp[-1] += (' ' + transform_message(message))\n",
    "        else: # для первой итерации\n",
    "            tmp.append(transform_message(message))\n",
    "    else: # если пользователь сменился\n",
    "        tmp.append(transform_message(message))\n",
    "    \n",
    "    last_author =  author   \n",
    "        \n",
    "tmp"
   ]
  },
  {
   "cell_type": "code",
   "execution_count": 63,
   "metadata": {},
   "outputs": [
    {
     "data": {
      "text/plain": [
       "[['Пришли фотки, пожалуйста.', 'Привет, сейчас. Всё👌'],\n",
       " ['Привет, сейчас. Всё👌', 'Спасибо большое.'],\n",
       " ['Спасибо большое.', '👌'],\n",
       " ['👌', 'Сережка, перешли мне письмо Смоленцевой. Заранее спасибо.'],\n",
       " ['Сережка, перешли мне письмо Смоленцевой. Заранее спасибо.',\n",
       "  'Какое именно?'],\n",
       " ['Какое именно?', 'Последнее. Про кино. Спасибо.'],\n",
       " ['Последнее. Про кино. Спасибо.', 'Скинул. Подойдите завтра к смоленцевой.'],\n",
       " ['Скинул. Подойдите завтра к смоленцевой.', 'Зачем?'],\n",
       " ['Зачем?', 'Она попросила.'],\n",
       " ['Она попросила.', 'Хорошо.'],\n",
       " ['Хорошо.', 'Юль. Не забывай, что вы завтра в 12 танцуете. И своим передай.'],\n",
       " ['Юль. Не забывай, что вы завтра в 12 танцуете. И своим передай.',\n",
       "  'Хорошо. Спасибо. Спасибо. А до скольких? Спасибо.']]"
      ]
     },
     "execution_count": 63,
     "metadata": {},
     "output_type": "execute_result"
    }
   ],
   "source": [
    "[[tmp[i-1], tmp[i]] for i in range(1, len(tmp))]"
   ]
  },
  {
   "cell_type": "code",
   "execution_count": null,
   "metadata": {},
   "outputs": [],
   "source": []
  },
  {
   "cell_type": "code",
   "execution_count": null,
   "metadata": {},
   "outputs": [],
   "source": []
  }
 ],
 "metadata": {
  "kernelspec": {
   "display_name": "Python 3",
   "language": "python",
   "name": "python3"
  },
  "language_info": {
   "codemirror_mode": {
    "name": "ipython",
    "version": 3
   },
   "file_extension": ".py",
   "mimetype": "text/x-python",
   "name": "python",
   "nbconvert_exporter": "python",
   "pygments_lexer": "ipython3",
   "version": "3.6.9"
  }
 },
 "nbformat": 4,
 "nbformat_minor": 4
}
