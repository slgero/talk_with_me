{
 "cells": [
  {
   "cell_type": "code",
   "execution_count": 46,
   "metadata": {},
   "outputs": [],
   "source": [
    "from data4ml import Data4ML\n",
    "from bs4 import BeautifulSoup\n",
    "import json\n",
    "import os\n",
    "import re\n",
    "from perfect_regex import (\n",
    "    perfect_url_regex,\n",
    "    perfect_emoji_regex,\n",
    "    perfect_email_regex,\n",
    "    perfect_phone_regex,\n",
    ")"
   ]
  },
  {
   "cell_type": "code",
   "execution_count": 39,
   "metadata": {},
   "outputs": [],
   "source": [
    "class Data4Chatbot(Data4ML):\n",
    "    \n",
    "    def __init__(self, **kwargs):\n",
    "        super().__init__(**kwargs)\n",
    "        \n",
    "    def make_data(self):\n",
    "        pass\n",
    "    \n",
    "    def parse_html(self, parent_folder: str, files: list) -> list:\n",
    "        pass\n",
    "    \n",
    "    def clear_message(self, i: str) -> list:\n",
    "        assert isinstance(i, str)\n",
    "        \n",
    "        cleared_messages = []\n",
    "        # If `Ссылка` in message - not append this message:\n",
    "        if \"\\nСсылка\\nhttps:\" in i or \"#comments\" in i:\n",
    "            return ''\n",
    "\n",
    "        # Delete trash such as stickers, attached messages:\n",
    "        for end in self.message_ends:\n",
    "            if i.endswith(end):\n",
    "                i = i[: i.rfind(\"\\n\")]\n",
    "\n",
    "        # Delete attachments such as photos, documents, ect.:\n",
    "        for attachment in self.blacklist:\n",
    "            i = re.sub(f\"[\\n]?{attachment}[\\n]?\" + perfect_url_regex, \"\", i)\n",
    "            i = re.sub(f\"[\\n]?{attachment}[\\n]?$\", \"\", i)\n",
    "\n",
    "        # Delete trash:\n",
    "        i = re.sub(perfect_emoji_regex, \"\", i)\n",
    "        i = re.sub(perfect_email_regex, \"\", i)\n",
    "        i = re.sub(perfect_phone_regex, \" \", i)\n",
    "        i = re.sub(perfect_url_regex, \"\", i)\n",
    "        i = re.sub(f\"[\\n]?Аудиозапись[\\n]?\", \"\", i)\n",
    "\n",
    "        i = i.replace(\"  \", \" \")  # remove double space\n",
    "        i = i.strip()\n",
    "\n",
    "        if i:\n",
    "            return i"
   ]
  },
  {
   "cell_type": "code",
   "execution_count": 40,
   "metadata": {},
   "outputs": [],
   "source": [
    "chatbot = Data4Chatbot(path_to_config='./../data_params.json')"
   ]
  },
  {
   "cell_type": "code",
   "execution_count": 41,
   "metadata": {},
   "outputs": [
    {
     "name": "stdout",
     "output_type": "stream",
     "text": [
      "['.ipynb_checkpoints', '153164713', '153164714']\n"
     ]
    }
   ],
   "source": [
    "list_of_folders = chatbot.get_list_of_folders('data4test')\n",
    "print(list_of_folders)"
   ]
  },
  {
   "cell_type": "code",
   "execution_count": 42,
   "metadata": {},
   "outputs": [
    {
     "name": "stdout",
     "output_type": "stream",
     "text": [
      "['messages0.html']\n"
     ]
    }
   ],
   "source": [
    "list_of_files = chatbot.get_list_of_files_in_folder('data4test/153164714')\n",
    "print(list_of_files)"
   ]
  },
  {
   "cell_type": "code",
   "execution_count": 43,
   "metadata": {},
   "outputs": [],
   "source": [
    "chatbot.parse_html('data4test/153164714', list_of_files)"
   ]
  },
  {
   "cell_type": "code",
   "execution_count": null,
   "metadata": {},
   "outputs": [],
   "source": []
  },
  {
   "cell_type": "code",
   "execution_count": 44,
   "metadata": {},
   "outputs": [],
   "source": [
    "with open(os.path.join('data4test/153164714', 'messages0.html'), \"rb\") as f:\n",
    "    soup = BeautifulSoup(f, \"lxml\")"
   ]
  },
  {
   "cell_type": "code",
   "execution_count": 60,
   "metadata": {},
   "outputs": [],
   "source": [
    "def read_mes(parent_folder, files):\n",
    "    all_messages = []\n",
    "    for file in files:\n",
    "        with open(os.path.join(parent_folder, file), \"rb\") as f:\n",
    "            soup = BeautifulSoup(f, \"lxml\")\n",
    "\n",
    "        messages = []\n",
    "        for message in soup.find_all(\"div\", {\"class\": \"message\"}):\n",
    "            message = message.text.strip()\n",
    "            messages.append(message)\n",
    "\n",
    "        # Reverse the list to save the message sequence:\n",
    "        all_messages.extend(messages[::-1])\n",
    "        \n",
    "    return all_messages"
   ]
  },
  {
   "cell_type": "code",
   "execution_count": 62,
   "metadata": {},
   "outputs": [],
   "source": [
    "all_messages = read_mes('data4test/153164714', ['messages0.html'])"
   ]
  },
  {
   "cell_type": "code",
   "execution_count": 70,
   "metadata": {},
   "outputs": [],
   "source": [
    "messages = []\n",
    "\n",
    "message_one = \"\"\n",
    "last_autor = None\n",
    "is_first = True\n",
    "\n",
    "for message in all_messages:\n",
    "    autor = message[:message.find(',')]\n",
    "        \n",
    "    message = message[message.find(\"\\n\") + 1 :]\n",
    "    clear_message = chatbot.clear_message(message)\n",
    "    if not clear_message:\n",
    "        continue\n",
    "    \n",
    "    if autor != last_autor: # new interlocutor\n",
    "        messages.append(autor + ': ' + message_one)\n",
    "        message_one = ''\n",
    "        \n",
    "    message_one += clear_message\n",
    "    message_one += '.'\n"
   ]
  },
  {
   "cell_type": "code",
   "execution_count": 71,
   "metadata": {},
   "outputs": [
    {
     "data": {
      "text/plain": [
       "['Юлия Николаева: ',\n",
       " 'Вы: пришли фотки, пожалуйста.',\n",
       " 'Вы: Привет, сейчас.',\n",
       " 'Юлия Николаева: Всё👌.',\n",
       " 'Вы: Спасибо большое.',\n",
       " 'Юлия Николаева: 👌.',\n",
       " 'Юлия Николаева: Сережка, перешли мне письмо Смоленцевой..',\n",
       " 'Вы: Заранее спасибо.',\n",
       " 'Юлия Николаева: Какое именно?.',\n",
       " 'Юлия Николаева: Последнее. Про кино.',\n",
       " 'Вы: Спасибо.',\n",
       " 'Вы: Скинул.',\n",
       " 'Юлия Николаева: Подойдите завтра к смоленцевой.',\n",
       " 'Вы: зачем?.',\n",
       " 'Юлия Николаева: Она попросила.',\n",
       " 'Вы: Хорошо.',\n",
       " 'Вы: Юль.',\n",
       " 'Вы: не забывай, что вы завтра в 12 танцуете.',\n",
       " 'Юлия Николаева: И своим передай.',\n",
       " 'Юлия Николаева: Хорошо.',\n",
       " 'Юлия Николаева: спасибо.',\n",
       " 'Юлия Николаева: Спасибо.',\n",
       " 'Юлия Николаева: а до скольких?.']"
      ]
     },
     "execution_count": 71,
     "metadata": {},
     "output_type": "execute_result"
    }
   ],
   "source": [
    "messages"
   ]
  },
  {
   "cell_type": "code",
   "execution_count": null,
   "metadata": {},
   "outputs": [],
   "source": []
  },
  {
   "cell_type": "code",
   "execution_count": null,
   "metadata": {},
   "outputs": [],
   "source": []
  }
 ],
 "metadata": {
  "kernelspec": {
   "display_name": "Python 3",
   "language": "python",
   "name": "python3"
  },
  "language_info": {
   "codemirror_mode": {
    "name": "ipython",
    "version": 3
   },
   "file_extension": ".py",
   "mimetype": "text/x-python",
   "name": "python",
   "nbconvert_exporter": "python",
   "pygments_lexer": "ipython3",
   "version": "3.7.4"
  }
 },
 "nbformat": 4,
 "nbformat_minor": 4
}
