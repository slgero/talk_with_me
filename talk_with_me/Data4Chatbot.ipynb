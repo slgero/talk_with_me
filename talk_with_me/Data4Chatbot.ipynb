{
 "cells": [
  {
   "cell_type": "code",
   "execution_count": 35,
   "metadata": {},
   "outputs": [
    {
     "data": {
      "text/plain": [
       "'блиииин.я дурак'"
      ]
     },
     "execution_count": 35,
     "metadata": {},
     "output_type": "execute_result"
    }
   ],
   "source": [
    "re.sub('\\n', '.', 'блиииин\\nя дурак')"
   ]
  },
  {
   "cell_type": "code",
   "execution_count": 42,
   "metadata": {},
   "outputs": [],
   "source": [
    "s = ['erg', 'QWEq']"
   ]
  },
  {
   "cell_type": "code",
   "execution_count": null,
   "metadata": {},
   "outputs": [],
   "source": []
  },
  {
   "cell_type": "code",
   "execution_count": null,
   "metadata": {},
   "outputs": [],
   "source": []
  },
  {
   "cell_type": "code",
   "execution_count": null,
   "metadata": {},
   "outputs": [],
   "source": []
  },
  {
   "cell_type": "code",
   "execution_count": 56,
   "metadata": {},
   "outputs": [
    {
     "name": "stdout",
     "output_type": "stream",
     "text": [
      "The autoreload extension is already loaded. To reload it, use:\n",
      "  %reload_ext autoreload\n"
     ]
    }
   ],
   "source": [
    "from data4ml import Data4ML, Data4Chatbot\n",
    "from bs4 import BeautifulSoup\n",
    "import json\n",
    "import os\n",
    "import re\n",
    "from perfect_regex import (\n",
    "    perfect_url_regex,\n",
    "    perfect_emoji_regex,\n",
    "    perfect_email_regex,\n",
    "    perfect_phone_regex,\n",
    ")\n",
    "\n",
    "%load_ext autoreload\n",
    "%autoreload 2"
   ]
  },
  {
   "cell_type": "code",
   "execution_count": 57,
   "metadata": {},
   "outputs": [
    {
     "name": "stderr",
     "output_type": "stream",
     "text": [
      "100%|██████████| 2/2 [00:00<00:00, 72.22it/s]\n"
     ]
    }
   ],
   "source": [
    "chatbot = Data4Chatbot(path_to_config='./../data_params.json')\n",
    "chatbot.home_folder = \"./data4test\"\n",
    "result = chatbot.make_data()"
   ]
  },
  {
   "cell_type": "code",
   "execution_count": 58,
   "metadata": {},
   "outputs": [
    {
     "data": {
      "text/plain": [
       "['привет арин ты уже считала физику ? лабу',\n",
       " 'привет нет еще',\n",
       " 'хмм ну ладно я хотел графики сверить \\n воин привет скинь пожалуйста контрольную по органу \\n арин \\n о спасибо',\n",
       " 'сереж я вариант по органике но я тоже его сделала и переделывать не буду',\n",
       " 'блиииин \\n я дурак',\n",
       " 'да ладно может ф .и не заметит что у нас одинаковые варианты',\n",
       " 'он разрешил',\n",
       " 'сереж ты спрашивал у екатерины валерьевны про домашку ?',\n",
       " 'ну да \\n она мне подсказывала',\n",
       " 'ты можешь кинуть формулы если вы их вывели',\n",
       " 'да но только как дома буду \\n сейчас неудобно \\n в общем мы кое что вывели',\n",
       " 'ну это понятно',\n",
       " 'она сказала ещё проверить \\n ты точку эквивалентности уже считала ? \\n потому что у тебя тоже возможно ошибка',\n",
       " 'ну да я попыталась \\n там корень из кс на \\n ну как я понимаю',\n",
       " 'а у тебя какая соль ? \\n ну осадок',\n",
       " 'хлорид кальция',\n",
       " 'ну у меня наоборот \\n в общем \\n я как буду дома \\n напишу \\n арин \\n привет \\n извини что не написал \\n я забыл совсем \\n а ты не на понмила \\n арин \\n добрый вечер \\n а ты дз по органике сделать уже ?',\n",
       " 'пришли фотки пожалуйста',\n",
       " 'привет сейчас \\n всё',\n",
       " 'спасибо большое \\n сережка перешли мне письмо смоленцевой . \\n заранее спасибо',\n",
       " 'какое именно ?',\n",
       " 'последнее . про кино \\n спасибо',\n",
       " 'скинул \\n подойдите завтра к смоленцевой',\n",
       " 'зачем ?',\n",
       " 'она попросила',\n",
       " 'хорошо',\n",
       " 'юль \\n не забывай что вы завтра в танцуете \\n и своим передай',\n",
       " 'хорошо \\n спасибо \\n спасибо \\n а до скольких ? \\n спасибо']"
      ]
     },
     "execution_count": 58,
     "metadata": {},
     "output_type": "execute_result"
    }
   ],
   "source": [
    "result[0]"
   ]
  },
  {
   "cell_type": "code",
   "execution_count": null,
   "metadata": {},
   "outputs": [],
   "source": []
  },
  {
   "cell_type": "code",
   "execution_count": null,
   "metadata": {},
   "outputs": [],
   "source": []
  },
  {
   "cell_type": "code",
   "execution_count": null,
   "metadata": {},
   "outputs": [],
   "source": []
  },
  {
   "cell_type": "code",
   "execution_count": null,
   "metadata": {},
   "outputs": [],
   "source": []
  },
  {
   "cell_type": "code",
   "execution_count": null,
   "metadata": {},
   "outputs": [],
   "source": []
  },
  {
   "cell_type": "code",
   "execution_count": 13,
   "metadata": {},
   "outputs": [
    {
     "ename": "FileNotFoundError",
     "evalue": "[Errno 2] No such file or directory: '../../../messages'",
     "output_type": "error",
     "traceback": [
      "\u001b[0;31m---------------------------------------------------------------------------\u001b[0m",
      "\u001b[0;31mFileNotFoundError\u001b[0m                         Traceback (most recent call last)",
      "\u001b[0;32m<ipython-input-13-54c38c9bf206>\u001b[0m in \u001b[0;36m<module>\u001b[0;34m\u001b[0m\n\u001b[0;32m----> 1\u001b[0;31m \u001b[0mchatbot\u001b[0m \u001b[0;34m=\u001b[0m \u001b[0mData4Chatbot\u001b[0m\u001b[0;34m(\u001b[0m\u001b[0mpath_to_config\u001b[0m\u001b[0;34m=\u001b[0m\u001b[0;34m'../../../messages'\u001b[0m\u001b[0;34m)\u001b[0m\u001b[0;34m\u001b[0m\u001b[0;34m\u001b[0m\u001b[0m\n\u001b[0m",
      "\u001b[0;32m<ipython-input-3-83721e5330d5>\u001b[0m in \u001b[0;36m__init__\u001b[0;34m(self, max_length, is_normalize, **kwargs)\u001b[0m\n\u001b[1;32m      2\u001b[0m \u001b[0;34m\u001b[0m\u001b[0m\n\u001b[1;32m      3\u001b[0m     \u001b[0;32mdef\u001b[0m \u001b[0m__init__\u001b[0m\u001b[0;34m(\u001b[0m\u001b[0mself\u001b[0m\u001b[0;34m,\u001b[0m \u001b[0mmax_length\u001b[0m\u001b[0;34m=\u001b[0m\u001b[0;36m10\u001b[0m\u001b[0;34m,\u001b[0m \u001b[0mis_normalize\u001b[0m\u001b[0;34m=\u001b[0m\u001b[0;32mTrue\u001b[0m\u001b[0;34m,\u001b[0m \u001b[0;34m**\u001b[0m\u001b[0mkwargs\u001b[0m\u001b[0;34m)\u001b[0m\u001b[0;34m:\u001b[0m\u001b[0;34m\u001b[0m\u001b[0;34m\u001b[0m\u001b[0m\n\u001b[0;32m----> 4\u001b[0;31m         \u001b[0msuper\u001b[0m\u001b[0;34m(\u001b[0m\u001b[0;34m)\u001b[0m\u001b[0;34m.\u001b[0m\u001b[0m__init__\u001b[0m\u001b[0;34m(\u001b[0m\u001b[0;34m**\u001b[0m\u001b[0mkwargs\u001b[0m\u001b[0;34m)\u001b[0m\u001b[0;34m\u001b[0m\u001b[0;34m\u001b[0m\u001b[0m\n\u001b[0m\u001b[1;32m      5\u001b[0m         \u001b[0mself\u001b[0m\u001b[0;34m.\u001b[0m\u001b[0mis_normalize\u001b[0m \u001b[0;34m=\u001b[0m \u001b[0mis_normalize\u001b[0m\u001b[0;34m\u001b[0m\u001b[0;34m\u001b[0m\u001b[0m\n\u001b[1;32m      6\u001b[0m         \u001b[0mself\u001b[0m\u001b[0;34m.\u001b[0m\u001b[0mmax_length\u001b[0m \u001b[0;34m=\u001b[0m \u001b[0mmax_length\u001b[0m\u001b[0;34m\u001b[0m\u001b[0;34m\u001b[0m\u001b[0m\n",
      "\u001b[0;32m~/projects/talk_with_me/talk_with_me/data4ml.py\u001b[0m in \u001b[0;36m__init__\u001b[0;34m(self, path_to_config)\u001b[0m\n\u001b[1;32m     15\u001b[0m \u001b[0;32mclass\u001b[0m \u001b[0mData4ML\u001b[0m\u001b[0;34m(\u001b[0m\u001b[0mABC\u001b[0m\u001b[0;34m)\u001b[0m\u001b[0;34m:\u001b[0m\u001b[0;34m\u001b[0m\u001b[0;34m\u001b[0m\u001b[0m\n\u001b[1;32m     16\u001b[0m     \u001b[0;32mdef\u001b[0m \u001b[0m__init__\u001b[0m\u001b[0;34m(\u001b[0m\u001b[0mself\u001b[0m\u001b[0;34m,\u001b[0m \u001b[0mpath_to_config\u001b[0m\u001b[0;34m=\u001b[0m\u001b[0;34m\"./data_params.json\"\u001b[0m\u001b[0;34m)\u001b[0m\u001b[0;34m:\u001b[0m\u001b[0;34m\u001b[0m\u001b[0;34m\u001b[0m\u001b[0m\n\u001b[0;32m---> 17\u001b[0;31m         \u001b[0mcfg\u001b[0m \u001b[0;34m=\u001b[0m \u001b[0mself\u001b[0m\u001b[0;34m.\u001b[0m\u001b[0mread_json\u001b[0m\u001b[0;34m(\u001b[0m\u001b[0mpath_to_config\u001b[0m\u001b[0;34m)\u001b[0m\u001b[0;34m\u001b[0m\u001b[0;34m\u001b[0m\u001b[0m\n\u001b[0m\u001b[1;32m     18\u001b[0m \u001b[0;34m\u001b[0m\u001b[0m\n\u001b[1;32m     19\u001b[0m         \u001b[0mself\u001b[0m\u001b[0;34m.\u001b[0m\u001b[0mhome_folder\u001b[0m \u001b[0;34m=\u001b[0m \u001b[0;34m\"../messages\"\u001b[0m  \u001b[0;31m# add to json\u001b[0m\u001b[0;34m\u001b[0m\u001b[0;34m\u001b[0m\u001b[0m\n",
      "\u001b[0;32m~/projects/talk_with_me/talk_with_me/data4ml.py\u001b[0m in \u001b[0;36mread_json\u001b[0;34m(path_to_config)\u001b[0m\n\u001b[1;32m    138\u001b[0m     \u001b[0;34m@\u001b[0m\u001b[0mstaticmethod\u001b[0m\u001b[0;34m\u001b[0m\u001b[0;34m\u001b[0m\u001b[0m\n\u001b[1;32m    139\u001b[0m     \u001b[0;32mdef\u001b[0m \u001b[0mread_json\u001b[0m\u001b[0;34m(\u001b[0m\u001b[0mpath_to_config\u001b[0m\u001b[0;34m:\u001b[0m \u001b[0mstr\u001b[0m\u001b[0;34m)\u001b[0m \u001b[0;34m->\u001b[0m \u001b[0mdict\u001b[0m\u001b[0;34m:\u001b[0m\u001b[0;34m\u001b[0m\u001b[0;34m\u001b[0m\u001b[0m\n\u001b[0;32m--> 140\u001b[0;31m         \u001b[0;32mwith\u001b[0m \u001b[0mopen\u001b[0m\u001b[0;34m(\u001b[0m\u001b[0mpath_to_config\u001b[0m\u001b[0;34m,\u001b[0m \u001b[0;34m\"r\"\u001b[0m\u001b[0;34m)\u001b[0m \u001b[0;32mas\u001b[0m \u001b[0mf\u001b[0m\u001b[0;34m:\u001b[0m\u001b[0;34m\u001b[0m\u001b[0;34m\u001b[0m\u001b[0m\n\u001b[0m\u001b[1;32m    141\u001b[0m             \u001b[0mcfg\u001b[0m \u001b[0;34m=\u001b[0m \u001b[0mjson\u001b[0m\u001b[0;34m.\u001b[0m\u001b[0mload\u001b[0m\u001b[0;34m(\u001b[0m\u001b[0mf\u001b[0m\u001b[0;34m)\u001b[0m\u001b[0;34m\u001b[0m\u001b[0;34m\u001b[0m\u001b[0m\n\u001b[1;32m    142\u001b[0m         \u001b[0;32mreturn\u001b[0m \u001b[0mcfg\u001b[0m\u001b[0;34m\u001b[0m\u001b[0;34m\u001b[0m\u001b[0m\n",
      "\u001b[0;31mFileNotFoundError\u001b[0m: [Errno 2] No such file or directory: '../../../messages'"
     ]
    }
   ],
   "source": [
    "chatbot = Data4Chatbot(path_to_config='../../../messages')"
   ]
  },
  {
   "cell_type": "code",
   "execution_count": null,
   "metadata": {},
   "outputs": [],
   "source": []
  },
  {
   "cell_type": "code",
   "execution_count": 120,
   "metadata": {},
   "outputs": [
    {
     "name": "stdout",
     "output_type": "stream",
     "text": [
      "['messages0.html']\n"
     ]
    }
   ],
   "source": [
    "list_of_files = chatbot.get_list_of_files_in_folder('data4test/153164714')\n",
    "print(list_of_files)"
   ]
  },
  {
   "cell_type": "code",
   "execution_count": 121,
   "metadata": {},
   "outputs": [
    {
     "data": {
      "text/plain": [
       "['Юлия Николаева, 23 мар 2016 в 20:48:28\\nпришли фотки, пожалуйста',\n",
       " 'Юлия Николаева, 23 мар 2016 в 20:48:55\\nwrong@yandex.ru',\n",
       " 'Вы, 23 мар 2016 в 21:51:32\\nПривет, сейчас',\n",
       " 'Вы, 23 мар 2016 в 21:53:35\\nВсё👌',\n",
       " 'Юлия Николаева, 23 мар 2016 в 22:50:04\\nСпасибо большое',\n",
       " 'Вы, 23 мар 2016 в 22:53:36\\n👌',\n",
       " 'Юлия Николаева, 20 апр 2016 в 10:39:48\\nСережка, перешли мне письмо Смоленцевой.\\n1 прикреплённое сообщение',\n",
       " 'Юлия Николаева, 20 апр 2016 в 10:40:12\\nЗаранее спасибо',\n",
       " 'Вы, 20 апр 2016 в 10:47:08\\nКакое именно?',\n",
       " 'Юлия Николаева, 20 апр 2016 в 10:47:36\\nПоследнее. Про кино',\n",
       " 'Юлия Николаева, 20 апр 2016 в 10:48:44\\nСпасибо',\n",
       " 'Вы, 20 апр 2016 в 10:48:44\\nСкинул',\n",
       " 'Вы, 20 апр 2016 в 22:16:23\\nПодойдите завтра к смоленцевой',\n",
       " 'Юлия Николаева, 20 апр 2016 в 22:20:43\\nзачем?',\n",
       " 'Вы, 21 апр 2016 в 5:26:20\\nОна попросила',\n",
       " 'Юлия Николаева, 21 апр 2016 в 8:37:28\\nХорошо',\n",
       " 'Вы, 22 апр 2016 в 18:36:12\\nЮль',\n",
       " 'Вы, 22 апр 2016 в 18:36:12\\nне забывай, что вы завтра в 12 танцуете',\n",
       " 'Вы, 22 апр 2016 в 18:36:24\\nИ своим передай',\n",
       " 'Юлия Николаева, 22 апр 2016 в 19:17:24\\nХорошо',\n",
       " 'Юлия Николаева, 22 апр 2016 в 19:17:28\\nспасибо',\n",
       " 'Вы, 28 мая 2016 в 21:43:51\\n\\nФотография\\nhttps://sun9-36.userapi.com/c636124/v636124076/cba1/MsjVQhRLUIEg.jpg',\n",
       " 'Юлия Николаева, 29 мая 2016 в 1:04:02\\nСпасибо',\n",
       " 'Вы, 5 июн 2016 в 19:24:30\\n\\nФотография\\nhttps://sun9-21.userapi.com/c633831/v633831076/323f6/CsN5SSfrUUS0.jpg',\n",
       " 'Юлия Николаева, 5 июн 2016 в 19:26:26\\nа до скольких?',\n",
       " 'Юлия Николаева, 5 июн 2016 в 19:26:30\\nспасибо']"
      ]
     },
     "execution_count": 121,
     "metadata": {},
     "output_type": "execute_result"
    }
   ],
   "source": [
    "all_messages = chatbot.parse_html('data4test/153164714', list_of_files)\n",
    "all_messages"
   ]
  },
  {
   "cell_type": "code",
   "execution_count": 122,
   "metadata": {},
   "outputs": [
    {
     "data": {
      "text/plain": [
       "['пришли фотки пожалуйста .',\n",
       " 'привет сейчас . всё',\n",
       " 'спасибо большое . сережка перешли мне письмо смоленцевой . заранее спасибо .',\n",
       " 'какое именно ?',\n",
       " 'последнее . про кино . спасибо .',\n",
       " 'скинул . подойдите завтра к смоленцевой .',\n",
       " 'зачем ?',\n",
       " 'она попросила .',\n",
       " 'хорошо .',\n",
       " 'юль . не забывай что вы завтра в танцуете . и своим передай .',\n",
       " 'хорошо . спасибо . спасибо . а до скольких ? спасибо .']"
      ]
     },
     "execution_count": 122,
     "metadata": {},
     "output_type": "execute_result"
    }
   ],
   "source": [
    "mes = chatbot.clear_messages(all_messages)\n",
    "mes"
   ]
  },
  {
   "cell_type": "code",
   "execution_count": 123,
   "metadata": {},
   "outputs": [
    {
     "data": {
      "text/plain": [
       "[['пришли фотки пожалуйста .', 'привет сейчас . всё'],\n",
       " ['какое именно ?', 'последнее . про кино . спасибо .'],\n",
       " ['последнее . про кино . спасибо .',\n",
       "  'скинул . подойдите завтра к смоленцевой .'],\n",
       " ['скинул . подойдите завтра к смоленцевой .', 'зачем ?'],\n",
       " ['зачем ?', 'она попросила .'],\n",
       " ['она попросила .', 'хорошо .']]"
      ]
     },
     "execution_count": 123,
     "metadata": {},
     "output_type": "execute_result"
    }
   ],
   "source": [
    "chatbot.get_pairs(mes)"
   ]
  },
  {
   "cell_type": "code",
   "execution_count": null,
   "metadata": {},
   "outputs": [],
   "source": []
  },
  {
   "cell_type": "code",
   "execution_count": null,
   "metadata": {},
   "outputs": [],
   "source": []
  },
  {
   "cell_type": "code",
   "execution_count": null,
   "metadata": {},
   "outputs": [],
   "source": []
  },
  {
   "cell_type": "code",
   "execution_count": 24,
   "metadata": {},
   "outputs": [
    {
     "name": "stdout",
     "output_type": "stream",
     "text": [
      "lol\n",
      "lol\n",
      "lol\n"
     ]
    }
   ],
   "source": [
    "\n",
    "def transform_message(message: str) -> str:\n",
    "    \"\"\"Make first char upper and add a dot in the end of sentence.\"\"\"\n",
    "    # TODO: normilise text\n",
    "\n",
    "    if message:\n",
    "        message = message[0].upper() + message[1:]\n",
    "        if message[-1].isalpha():\n",
    "            message += '.'\n",
    "    return message\n",
    "\n",
    "messages = []\n",
    "last_author = all_messages[0][:all_messages[0].find(',')] # Человек, начавший беседу\n",
    "\n",
    "for message in all_messages:\n",
    "    author =  message[:message.find(',')]\n",
    "    message = message[message.find(\"\\n\") + 1 :]\n",
    "    clear_message = chatbot._clear_message(message)\n",
    "    if not clear_message:\n",
    "        last_author =  author \n",
    "        print('lol')\n",
    "        continue\n",
    "        \n",
    "    if author == last_author: # still one message\n",
    "        if messages:\n",
    "            messages[-1] += (' ' + transform_message(clear_message))\n",
    "        else: # for the first iteration\n",
    "            messages.append(transform_message(clear_message))\n",
    "    else: # if author change\n",
    "        messages.append(transform_message(clear_message))\n",
    "\n",
    "    last_author =  author   \n",
    "\n",
    "        "
   ]
  },
  {
   "cell_type": "code",
   "execution_count": 25,
   "metadata": {},
   "outputs": [
    {
     "data": {
      "text/plain": [
       "['Пришли фотки, пожалуйста.',\n",
       " 'Привет, сейчас. Всё👌',\n",
       " 'Спасибо большое.',\n",
       " '👌',\n",
       " 'Сережка, перешли мне письмо Смоленцевой. Заранее спасибо.',\n",
       " 'Какое именно?',\n",
       " 'Последнее. Про кино. Спасибо.',\n",
       " 'Скинул. Подойдите завтра к смоленцевой.',\n",
       " 'Зачем?',\n",
       " 'Она попросила.',\n",
       " 'Хорошо.',\n",
       " 'Юль. Не забывай, что вы завтра в 12 танцуете. И своим передай.',\n",
       " 'Хорошо. Спасибо.',\n",
       " 'Спасибо.',\n",
       " 'А до скольких? Спасибо.']"
      ]
     },
     "execution_count": 25,
     "metadata": {},
     "output_type": "execute_result"
    }
   ],
   "source": [
    "messages"
   ]
  },
  {
   "cell_type": "code",
   "execution_count": 33,
   "metadata": {},
   "outputs": [
    {
     "data": {
      "text/plain": [
       "[':Юлия Николаева: пришли фотки, пожалуйста',\n",
       " ':Вы: Привет, сейчас',\n",
       " ':Вы: Всё👌',\n",
       " ':Юлия Николаева: Спасибо большое',\n",
       " ':Вы: 👌',\n",
       " ':Юлия Николаева: Сережка, перешли мне письмо Смоленцевой.',\n",
       " ':Юлия Николаева: Заранее спасибо',\n",
       " ':Вы: Какое именно?',\n",
       " ':Юлия Николаева: Последнее. Про кино',\n",
       " ':Юлия Николаева: Спасибо',\n",
       " ':Вы: Скинул',\n",
       " ':Вы: Подойдите завтра к смоленцевой',\n",
       " ':Юлия Николаева: зачем?',\n",
       " ':Вы: Она попросила',\n",
       " ':Юлия Николаева: Хорошо',\n",
       " ':Вы: Юль',\n",
       " ':Вы: не забывай, что вы завтра в 12 танцуете',\n",
       " ':Вы: И своим передай',\n",
       " ':Юлия Николаева: Хорошо',\n",
       " ':Юлия Николаева: спасибо',\n",
       " ':Юлия Николаева: Спасибо',\n",
       " ':Юлия Николаева: а до скольких?',\n",
       " ':Юлия Николаева: спасибо']"
      ]
     },
     "execution_count": 33,
     "metadata": {},
     "output_type": "execute_result"
    }
   ],
   "source": [
    "messages"
   ]
  },
  {
   "cell_type": "code",
   "execution_count": null,
   "metadata": {},
   "outputs": [],
   "source": []
  },
  {
   "cell_type": "code",
   "execution_count": 53,
   "metadata": {},
   "outputs": [
    {
     "data": {
      "text/plain": [
       "['Пришли фотки, пожалуйста.',\n",
       " 'Привет, сейчас. Всё👌',\n",
       " 'Спасибо большое.',\n",
       " '👌',\n",
       " 'Сережка, перешли мне письмо Смоленцевой. Заранее спасибо.',\n",
       " 'Какое именно?',\n",
       " 'Последнее. Про кино. Спасибо.',\n",
       " 'Скинул. Подойдите завтра к смоленцевой.',\n",
       " 'Зачем?',\n",
       " 'Она попросила.',\n",
       " 'Хорошо.',\n",
       " 'Юль. Не забывай, что вы завтра в 12 танцуете. И своим передай.',\n",
       " 'Хорошо. Спасибо. Спасибо. А до скольких? Спасибо.']"
      ]
     },
     "execution_count": 53,
     "metadata": {},
     "output_type": "execute_result"
    }
   ],
   "source": [
    "last_author = re.sub(': .*$', '', messages[0])[1:]\n",
    "tmp = []\n",
    "\n",
    "for i in messages:\n",
    "    author = re.sub(': .*$', '', i)[1:]\n",
    "    message = re.sub(':.*: ', '', i)\n",
    "    \n",
    "    if author == last_author: # значит это всё ещё сообщения от одного пользователя - tmp уже заполнен\n",
    "        if tmp:\n",
    "            tmp[-1] += (' ' + transform_message(message))\n",
    "        else: # для первой итерации\n",
    "            tmp.append(transform_message(message))\n",
    "    else: # если пользователь сменился\n",
    "        tmp.append(transform_message(message))\n",
    "    \n",
    "    last_author =  author   \n",
    "        \n",
    "tmp"
   ]
  },
  {
   "cell_type": "code",
   "execution_count": 63,
   "metadata": {},
   "outputs": [
    {
     "data": {
      "text/plain": [
       "[['Пришли фотки, пожалуйста.', 'Привет, сейчас. Всё👌'],\n",
       " ['Привет, сейчас. Всё👌', 'Спасибо большое.'],\n",
       " ['Спасибо большое.', '👌'],\n",
       " ['👌', 'Сережка, перешли мне письмо Смоленцевой. Заранее спасибо.'],\n",
       " ['Сережка, перешли мне письмо Смоленцевой. Заранее спасибо.',\n",
       "  'Какое именно?'],\n",
       " ['Какое именно?', 'Последнее. Про кино. Спасибо.'],\n",
       " ['Последнее. Про кино. Спасибо.', 'Скинул. Подойдите завтра к смоленцевой.'],\n",
       " ['Скинул. Подойдите завтра к смоленцевой.', 'Зачем?'],\n",
       " ['Зачем?', 'Она попросила.'],\n",
       " ['Она попросила.', 'Хорошо.'],\n",
       " ['Хорошо.', 'Юль. Не забывай, что вы завтра в 12 танцуете. И своим передай.'],\n",
       " ['Юль. Не забывай, что вы завтра в 12 танцуете. И своим передай.',\n",
       "  'Хорошо. Спасибо. Спасибо. А до скольких? Спасибо.']]"
      ]
     },
     "execution_count": 63,
     "metadata": {},
     "output_type": "execute_result"
    }
   ],
   "source": [
    "[[tmp[i-1], tmp[i]] for i in range(1, len(tmp))]"
   ]
  },
  {
   "cell_type": "code",
   "execution_count": null,
   "metadata": {},
   "outputs": [],
   "source": []
  },
  {
   "cell_type": "code",
   "execution_count": null,
   "metadata": {},
   "outputs": [],
   "source": []
  }
 ],
 "metadata": {
  "kernelspec": {
   "display_name": "Python 3",
   "language": "python",
   "name": "python3"
  },
  "language_info": {
   "codemirror_mode": {
    "name": "ipython",
    "version": 3
   },
   "file_extension": ".py",
   "mimetype": "text/x-python",
   "name": "python",
   "nbconvert_exporter": "python",
   "pygments_lexer": "ipython3",
   "version": "3.6.9"
  }
 },
 "nbformat": 4,
 "nbformat_minor": 4
}
