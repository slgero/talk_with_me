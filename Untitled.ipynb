{
 "cells": [
  {
   "cell_type": "code",
   "execution_count": 22,
   "metadata": {},
   "outputs": [],
   "source": [
    "from bs4 import BeautifulSoup\n",
    "import json\n",
    "from os import listdir\n",
    "from os.path import isfile, isdir, join\n",
    "import re\n"
   ]
  },
  {
   "cell_type": "code",
   "execution_count": 46,
   "metadata": {},
   "outputs": [],
   "source": [
    "class Data4ML:\n",
    "    def __init__(self, path_to_config='./data_params.json'):\n",
    "        cfg = self.read_json(path_to_config)\n",
    "    \n",
    "    def get_list_of_files_in_folder(self, folder_name: str) -> list:\n",
    "        if os.path.isdir(folder_name):  # if folder exists\n",
    "            # Get list of only html files from folder:\n",
    "            files = [file for file in listdir(folder_name) if file.endswith(\".html\")]\n",
    "            \n",
    "            # Descending sort to consider message order:\n",
    "            files = sorted(files, key=lambda x: int(re.search('messages(\\d+)\\.html', x).group(1)), reverse=True)\n",
    "            return files\n",
    "        \n",
    "        print(f'No such directory: {folder_name}')\n",
    "        return []\n",
    "        \n",
    "    \n",
    "    def parse_html(self):\n",
    "        pass\n",
    "    \n",
    "    @staticmethod\n",
    "    def read_json(path_to_config: str) -> dict:\n",
    "        with open(path_to_config, 'r') as f:\n",
    "            cfg = json.load(f)\n",
    "        return cfg\n",
    "\n",
    "        "
   ]
  },
  {
   "cell_type": "code",
   "execution_count": 47,
   "metadata": {},
   "outputs": [],
   "source": [
    "kek = Data4ML()"
   ]
  },
  {
   "cell_type": "code",
   "execution_count": 48,
   "metadata": {},
   "outputs": [
    {
     "name": "stdout",
     "output_type": "stream",
     "text": [
      "No such directory: 232\n"
     ]
    },
    {
     "data": {
      "text/plain": [
       "[]"
      ]
     },
     "execution_count": 48,
     "metadata": {},
     "output_type": "execute_result"
    }
   ],
   "source": [
    "kek.get_list_of_files_in_folder('232')"
   ]
  },
  {
   "cell_type": "code",
   "execution_count": 39,
   "metadata": {},
   "outputs": [
    {
     "data": {
      "text/plain": [
       "'97923293'"
      ]
     },
     "execution_count": 39,
     "metadata": {},
     "output_type": "execute_result"
    }
   ],
   "source": [
    "folder"
   ]
  },
  {
   "cell_type": "code",
   "execution_count": null,
   "metadata": {},
   "outputs": [],
   "source": []
  },
  {
   "cell_type": "code",
   "execution_count": 31,
   "metadata": {},
   "outputs": [
    {
     "data": {
      "text/plain": [
       "['messages0.html',\n",
       " 'messages1200.html',\n",
       " 'messages1500.html',\n",
       " 'messages300.html',\n",
       " 'messages600.html',\n",
       " 'messages900.html']"
      ]
     },
     "execution_count": 31,
     "metadata": {},
     "output_type": "execute_result"
    }
   ],
   "source": [
    "[file for file in listdir(folder) if file.endswith(\".html\")]"
   ]
  },
  {
   "cell_type": "code",
   "execution_count": 3,
   "metadata": {},
   "outputs": [],
   "source": [
    "from os import listdir\n",
    "from os.path import isfile, isdir, join\n",
    "import re\n",
    "\n",
    "def get_files(folder_name):\n",
    "    assert type(folder_name) is str\n",
    "    \n",
    "    files = [file for file in listdir(folder) if file.endswith(\".html\")]\n",
    "    files = sorted(onlyfiles, key=lambda x: int(re.search('messages(\\d+)\\.html', x).group(1)), reverse=True)\n",
    "    return files"
   ]
  },
  {
   "cell_type": "code",
   "execution_count": 7,
   "metadata": {},
   "outputs": [],
   "source": [
    "import os.path"
   ]
  },
  {
   "cell_type": "code",
   "execution_count": 10,
   "metadata": {},
   "outputs": [
    {
     "data": {
      "text/plain": [
       "False"
      ]
     },
     "execution_count": 10,
     "metadata": {},
     "output_type": "execute_result"
    }
   ],
   "source": [
    "os.path.isdir('97923291')"
   ]
  },
  {
   "cell_type": "code",
   "execution_count": null,
   "metadata": {},
   "outputs": [],
   "source": []
  },
  {
   "cell_type": "code",
   "execution_count": 5,
   "metadata": {},
   "outputs": [
    {
     "data": {
      "text/plain": [
       "['messages1500.html',\n",
       " 'messages1200.html',\n",
       " 'messages900.html',\n",
       " 'messages600.html',\n",
       " 'messages300.html',\n",
       " 'messages0.html']"
      ]
     },
     "execution_count": 5,
     "metadata": {},
     "output_type": "execute_result"
    }
   ],
   "source": [
    "folder = '97923293'\n",
    "files = get_files(folder)\n",
    "files"
   ]
  },
  {
   "cell_type": "code",
   "execution_count": 53,
   "metadata": {},
   "outputs": [],
   "source": [
    "def get_messages(file_name):\n",
    "    with open(file_name, 'rb') as f:\n",
    "        soup = BeautifulSoup(f, 'lxml')\n",
    "    \n",
    "    messages = []\n",
    "\n",
    "    for i in soup.find_all('div', {'class':'message'}):\n",
    "        i = i.text.strip()\n",
    "        if 'Фотография' not in i and 'Аудиозапись' not in i:\n",
    "            messages.append(i[i.find('\\n')+1:])\n",
    "    messages = messages[::-1]  # reverse\n",
    "    return messages"
   ]
  },
  {
   "cell_type": "code",
   "execution_count": 54,
   "metadata": {},
   "outputs": [
    {
     "data": {
      "text/plain": [
       "['Знаю я, чем обычно заканчиваются наши переписки)',\n",
       " 'Сначала общаемся, не можем остановиться',\n",
       " 'Потом может встретимся',\n",
       " 'Чуть друг друга не поубиваем',\n",
       " 'И всё, потом опять не общаемся)',\n",
       " 'Эххх... Хорошие традиции😂',\n",
       " 'Ахахах😄 ну мы же мелкими ещё были) или думаешь не поменялось ничего?😄',\n",
       " 'Ахахах хотя раньше это было круто! Немного больно,подушкой по голове получать,но круто))',\n",
       " 'Ну не знаю, не знаю... Что-то вечно)',\n",
       " 'Ну...значит это наша фишечка',\n",
       " 'Так',\n",
       " 'Послушаю я её попозже',\n",
       " 'Сейчас в метро и без наушников',\n",
       " 'Что у тебя ещё хорошего?',\n",
       " 'Хорошо)Сегодня её нашла,мне понравилось',\n",
       " 'Серёнь,мне кажется я уже так много рассказала про себя и так мало услышала про тебя)',\n",
       " 'Ну я даже не знаю, что тебе рассказать, задавай мне вопросы)',\n",
       " 'Ахаха сложно)) за 3 года думаю многое изменилось',\n",
       " 'Так',\n",
       " 'Давай я тебе вечером напишу',\n",
       " 'Хорошо?)',\n",
       " 'И поговорим',\n",
       " 'Как тебе удобно)',\n",
       " 'Окей👌',\n",
       " 'Пс',\n",
       " 'Пс, парень',\n",
       " 'ччч',\n",
       " 'Слушай',\n",
       " 'Я забыл',\n",
       " 'У тебя же сегодня полноценный учебный день был?',\n",
       " 'Кстати, песня красивая',\n",
       " '👌',\n",
       " 'Нууу Нет У меня с завтрашнего дня пары начнутся Сегодня должна была быть лекция но её отменили',\n",
       " 'А ты территориально в Москве?',\n",
       " 'Да,между Бауманской и Авиамоторной',\n",
       " 'У тебя как день прошёл?',\n",
       " 'О, тебе удобно очень',\n",
       " 'Ууу',\n",
       " 'Лучше даже не спрашивать',\n",
       " 'Я чуть не сдох со скуки',\n",
       " 'Учусь в группе задротов',\n",
       " 'Которые только об учёбе и могут болтать',\n",
       " 'И о книжках',\n",
       " 'Или о сериалах',\n",
       " 'Одни девки прост',\n",
       " 'Мой друг ушёл в армию',\n",
       " 'По собственному желанию',\n",
       " 'Ещё один парень очень странный',\n",
       " 'А какая у тебя специальность?',\n",
       " 'Все считают его маньяком',\n",
       " 'И он за мной ходит',\n",
       " 'Даже в туалет',\n",
       " 'Химия',\n",
       " 'Есть ещё две подруги',\n",
       " 'Ну даже три',\n",
       " 'Две из моей группы',\n",
       " 'Но с одной не очень уже общаемся',\n",
       " 'Другая в отъезде',\n",
       " 'А третья в другой группе',\n",
       " 'И я сегодня весь день был в депряснике',\n",
       " 'И одиночестве',\n",
       " 'Ах нет',\n",
       " 'В одиночестве я не был',\n",
       " 'Со мной был этот маньяк',\n",
       " 'Клрчое',\n",
       " 'Это пиздец)',\n",
       " 'Ахаха мда уж...не весело тебе было)',\n",
       " 'Но',\n",
       " 'Это только начало',\n",
       " 'Но?',\n",
       " 'Я надеюсь',\n",
       " 'Просто я стал понимать',\n",
       " 'Что мне это вообще неинтересно',\n",
       " 'И вернётся одна из твоих подруг',\n",
       " 'А т.к. вуз сильный',\n",
       " 'Требуют очень много',\n",
       " 'И надо много всего делать, чтобы не вылететь',\n",
       " 'Ну я учусь норм',\n",
       " '4/5',\n",
       " 'Но всё же',\n",
       " 'Так не хочется всего этого',\n",
       " 'Опять домашки',\n",
       " 'Кр',\n",
       " 'Ты 4 курс?',\n",
       " 'Коллоквиумы',\n",
       " 'Не',\n",
       " '3',\n",
       " 'А изначально осознанно туда шёл?',\n",
       " 'Прям именно в этот универ,на эту специальность',\n",
       " 'Нууу',\n",
       " 'Пошёл потому что я сдавал химию',\n",
       " 'И вроде это хороший универ',\n",
       " 'Нет',\n",
       " 'Подожди',\n",
       " 'До сих пор не знаю, что хочу',\n",
       " 'Мм?',\n",
       " 'Я немного не об этом Ты сам то хотел связывать себя с этим? С химией,например',\n",
       " 'Ну я учился в медбио изначально',\n",
       " 'Биологию ненавидел',\n",
       " 'Поэтому химия',\n",
       " 'Ну у меня была одна мечта',\n",
       " 'А это норма,мамина подруга мне говорит что это годам к 40 проходит\\n1 прикреплённое сообщение',\n",
       " 'Связанная с режиссуроц',\n",
       " 'Даааа',\n",
       " 'Я помню',\n",
       " 'Но родители были против',\n",
       " 'Я у меня не особо получилось',\n",
       " 'Ты же так этим увлекался',\n",
       " 'Они давили на меня постоянно',\n",
       " 'Это дело времени\\n1 прикреплённое сообщение',\n",
       " 'Щас, минут 15, я вернусь',\n",
       " 'Я тебя отлично понимаю Очень сложно учиться тому,что тебе не особо то интересно вместо занятия любимым делом Но если уже ничего изменить нельзя,попробуй найти хоть какой-то плюс в том,чем тебе приходиться заниматься А ещё лучше найди цели и задачи в этом деле Любить больше не станешь,но хоть какой-то интерес проснётся Мне помогает',\n",
       " 'Я тут)',\n",
       " 'Ты походу не дождалась меня...',\n",
       " 'Сорян, мне надо было резюме написать',\n",
       " 'Ты прям как личный психолог',\n",
       " 'Если честно, я не знаю, что на меня нашло',\n",
       " 'Раньше был какой-то интерес',\n",
       " 'Были друзья',\n",
       " 'А сейчас я понимаю, что есть вакансии',\n",
       " 'На которых я и без высшего образования буду получать довольно-таки много',\n",
       " 'Однако, логично предположить, что потом для повышения квалификации оно всё же потребуется']"
      ]
     },
     "execution_count": 54,
     "metadata": {},
     "output_type": "execute_result"
    }
   ],
   "source": [
    "get_messages(join(folder, files[0]))"
   ]
  },
  {
   "cell_type": "code",
   "execution_count": null,
   "metadata": {},
   "outputs": [],
   "source": []
  },
  {
   "cell_type": "code",
   "execution_count": null,
   "metadata": {},
   "outputs": [],
   "source": []
  },
  {
   "cell_type": "code",
   "execution_count": 3,
   "metadata": {},
   "outputs": [
    {
     "name": "stdout",
     "output_type": "stream",
     "text": [
      "спасибо\n",
      "а до скольких?\n",
      "Спасибо\n",
      "спасибо\n",
      "Хорошо\n",
      "И своим передай\n",
      "не забывай, что вы завтра в 12 танцуете\n",
      "Юль\n",
      "Хорошо\n",
      "Она попросила\n",
      "зачем?\n",
      "Подойдите завтра к смоленцевой\n",
      "Скинул\n",
      "Спасибо\n",
      "Последнее. Про кино\n",
      "Какое именно?\n",
      "Заранее спасибо\n",
      "Сережка, перешли мне письмо Смоленцевой.\n",
      "1 прикреплённое сообщение\n",
      "👌\n",
      "Спасибо большое\n",
      "Всё👌\n",
      "Привет, сейчас\n",
      "yanko.julia@yandex.ru\n",
      "пришли фотки, пожалуйста\n"
     ]
    }
   ],
   "source": [
    "messages = []\n",
    "\n",
    "for i in soup.find_all('div', {'class':'message'}):\n",
    "    i = i.text.strip()\n",
    "    if 'Фотография' not in i:\n",
    "        print(i[i.find('\\n')+1:])\n",
    "        messages.append(i[i.find('\\n')+1:])\n",
    "        \n",
    "messages = messages[::-1]  # reverse"
   ]
  },
  {
   "cell_type": "code",
   "execution_count": 83,
   "metadata": {},
   "outputs": [
    {
     "data": {
      "text/plain": [
       "24"
      ]
     },
     "execution_count": 83,
     "metadata": {},
     "output_type": "execute_result"
    }
   ],
   "source": [
    "len(messages)"
   ]
  },
  {
   "cell_type": "code",
   "execution_count": 88,
   "metadata": {},
   "outputs": [
    {
     "data": {
      "text/plain": [
       "['пришли фотки, пожалуйста',\n",
       " 'yanko.julia@yandex.ru',\n",
       " 'Привет, сейчас',\n",
       " 'Всё👌',\n",
       " 'Спасибо большое',\n",
       " '👌',\n",
       " 'Сережка, перешли мне письмо Смоленцевой.\\n1 прикреплённое сообщение',\n",
       " 'Заранее спасибо',\n",
       " 'Какое именно?',\n",
       " 'Последнее. Про кино',\n",
       " 'Спасибо',\n",
       " 'Скинул',\n",
       " 'Подойдите завтра к смоленцевой',\n",
       " 'зачем?',\n",
       " 'Она попросила',\n",
       " 'Хорошо',\n",
       " 'Юль',\n",
       " 'не забывай, что вы завтра в 12 танцуете',\n",
       " 'И своим передай',\n",
       " 'Хорошо',\n",
       " 'спасибо',\n",
       " 'Спасибо',\n",
       " 'а до скольких?',\n",
       " 'спасибо']"
      ]
     },
     "execution_count": 88,
     "metadata": {},
     "output_type": "execute_result"
    }
   ],
   "source": [
    "messages"
   ]
  },
  {
   "cell_type": "code",
   "execution_count": null,
   "metadata": {},
   "outputs": [],
   "source": []
  }
 ],
 "metadata": {
  "kernelspec": {
   "display_name": "Python 3",
   "language": "python",
   "name": "python3"
  },
  "language_info": {
   "codemirror_mode": {
    "name": "ipython",
    "version": 3
   },
   "file_extension": ".py",
   "mimetype": "text/x-python",
   "name": "python",
   "nbconvert_exporter": "python",
   "pygments_lexer": "ipython3",
   "version": "3.6.9"
  }
 },
 "nbformat": 4,
 "nbformat_minor": 4
}
