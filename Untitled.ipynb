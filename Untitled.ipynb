{
 "cells": [
  {
   "cell_type": "code",
   "execution_count": 1,
   "metadata": {},
   "outputs": [],
   "source": [
    "from bs4 import BeautifulSoup\n",
    "import json\n",
    "from os import listdir\n",
    "from os.path import isfile, isdir, join\n",
    "import re\n",
    "from abc import ABC, abstractmethod"
   ]
  },
  {
   "cell_type": "code",
   "execution_count": null,
   "metadata": {},
   "outputs": [],
   "source": []
  },
  {
   "cell_type": "code",
   "execution_count": null,
   "metadata": {},
   "outputs": [],
   "source": []
  },
  {
   "cell_type": "code",
   "execution_count": null,
   "metadata": {},
   "outputs": [],
   "source": []
  },
  {
   "cell_type": "code",
   "execution_count": 167,
   "metadata": {},
   "outputs": [],
   "source": [
    "def get_messages(file_name):\n",
    "    with open(file_name, 'rb') as f:\n",
    "        soup = BeautifulSoup(f, 'lxml')\n",
    "    \n",
    "    messages = []\n",
    "\n",
    "    for i in soup.find_all('div', {'class':'message'}):\n",
    "        i = i.text.strip()\n",
    "        messages.append(i[i.find('\\n')+1:])\n",
    "    messages = messages[::-1]  # reverse\n",
    "    return messages"
   ]
  },
  {
   "cell_type": "markdown",
   "metadata": {},
   "source": [
    "смайлики: \\u200d♀️\\\n",
    "'\\n25 прикреплённых сообщений',\n",
    "\\n1 прикреплённое сообщение'"
   ]
  },
  {
   "cell_type": "markdown",
   "metadata": {},
   "source": [
    "Не забыть про стикеры!"
   ]
  },
  {
   "cell_type": "markdown",
   "metadata": {},
   "source": [
    "тут есть ссылка:\n",
    "\n",
    "` 'https://m.aliexpress.ru/item/4000068584830.html?trace=wwwdetail2mobilesitedetail&dp=a9981ffe9450d0081a3b09056b847b07&af=11232&cv=47843&afref=&mall_affr=pr3&dp=a9981ffe9450d0081a3b09056b847b07&af=11232&cv=47843&afref=&mall_affr=pr3&aff_platform=aaf&cpt=1578306760735&sk=VnYZvQVf&aff_trace_key=0e4fffecab87439082bdb6a03e09b80c-1578306760735-03697-VnYZvQVf&terminal_id=f6678bd568944294b15e519b18273d40\\nСсылка\\nhttps://m.aliexpress.ru/item/4000068584830.html?trace=wwwdetail2mobilesitedetail&dp=a9981ffe9450d0081a3b09056b847b07&af=11232&cv=47843&afref=&mall_affr=pr3&dp=a9981ffe9450d0081a3b09056b847b07&af=11232&cv=47843&afref=&mall_affr=pr3&aff_platform=aaf&cpt=1578306760735&sk=VnYZvQVf&aff_trace_key=0e4fffecab87439082bdb6a03e09b80c-1578306760735-03697-VnYZvQVf&terminal_id=f6678bd568944294b15e519b18273d40'`"
   ]
  },
  {
   "cell_type": "code",
   "execution_count": 254,
   "metadata": {},
   "outputs": [
    {
     "data": {
      "text/plain": [
       "['\\nФотография\\nhttps://sun9-50.userapi.com/c855136/v855136079/1c7ee9/PkOvHB25wcU.jpg',\n",
       " 'Гуня\\n1 прикреплённое сообщение',\n",
       " 'У вас семья гусей',\n",
       " 'Ага',\n",
       " '\\n1 прикреплённое сообщение',\n",
       " '😅',\n",
       " 'Блин\\nСообщение удалено',\n",
       " '\\nФотография\\nhttps://sun9-46.userapi.com/c858220/v858220906/14c702/bUixUjVrPlw.jpg',\n",
       " '\\nДокумент\\nhttps://vk.com/doc381888277_531448212',\n",
       " '\\nФотография\\nhttps://sun9-2.userapi.com/6viNnccSXjV3xHZp5MtmAEvAocUgWjP4T8NTZw/W_57sRYl8Sg.jpg',\n",
       " '\\nЗапись на стене',\n",
       " '\\nЗапись на стене',\n",
       " 'Хочу\\nЗапись на стене',\n",
       " '\\nЗапись на стене',\n",
       " '\\nЗапись на стене',\n",
       " '\\nЗапись на стене',\n",
       " '\\nЗапись на стене',\n",
       " 'Лол\\nФотография\\nhttps://sun9-4.userapi.com/AKYsfbdeStZkPfJfzPwczRZe67i7aU32rNJLPQ/e9bveoTf_kI.jpg',\n",
       " '😅',\n",
       " '\\nЗапись на стене',\n",
       " 'Каефф',\n",
       " 'Первый клммент порадовал',\n",
       " '\\nЗапись на стене',\n",
       " '\\nЗапись на стене',\n",
       " 'Когда съел сырую рыбу\\nФотография\\nhttps://sun9-33.userapi.com/c204628/v204628235/3c0f8/6LkCpJGKOcE.jpg',\n",
       " '\\nЗапись на стене',\n",
       " '\\n1 прикреплённое сообщение',\n",
       " '\\nЗапись на стене',\n",
       " '\\nЗапись на стене',\n",
       " 'Пися']"
      ]
     },
     "execution_count": 254,
     "metadata": {},
     "output_type": "execute_result"
    }
   ],
   "source": [
    "tanos = get_messages('messages0.html')\n",
    "tanos[-30:]"
   ]
  },
  {
   "cell_type": "markdown",
   "metadata": {},
   "source": [
    "# TODO:\n",
    "Посмотреть, что ещё может быть в сообщениях:\n",
    "1. Стикеры\n",
    "2. Гифки\n",
    "3. Аудиосообщения\n",
    "4. Песни\n",
    "5. Локации\n",
    "6. Истории (Кто, блядь, вообще их использует?)\n",
    "7. Подарки\n",
    "8. Деньги (лол)\n",
    "9. Граффити (привет 2012)\n",
    "10. Фото/Видео ВК"
   ]
  },
  {
   "cell_type": "code",
   "execution_count": 257,
   "metadata": {},
   "outputs": [],
   "source": []
  },
  {
   "cell_type": "code",
   "execution_count": null,
   "metadata": {},
   "outputs": [],
   "source": [
    "class TestData4ML(unittest.TestCase):\n",
    "    def setUp(self):\n",
    "        self.data4ml = Data4ML()"
   ]
  },
  {
   "cell_type": "code",
   "execution_count": null,
   "metadata": {},
   "outputs": [],
   "source": []
  },
  {
   "cell_type": "code",
   "execution_count": null,
   "metadata": {},
   "outputs": [],
   "source": []
  }
 ],
 "metadata": {
  "kernelspec": {
   "display_name": "Python 3",
   "language": "python",
   "name": "python3"
  },
  "language_info": {
   "codemirror_mode": {
    "name": "ipython",
    "version": 3
   },
   "file_extension": ".py",
   "mimetype": "text/x-python",
   "name": "python",
   "nbconvert_exporter": "python",
   "pygments_lexer": "ipython3",
   "version": "3.7.4"
  }
 },
 "nbformat": 4,
 "nbformat_minor": 4
}
