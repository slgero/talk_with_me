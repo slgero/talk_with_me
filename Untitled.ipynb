{
 "cells": [
  {
   "cell_type": "code",
   "execution_count": 22,
   "metadata": {},
   "outputs": [],
   "source": [
    "from bs4 import BeautifulSoup\n",
    "import json\n",
    "from os import listdir\n",
    "from os.path import isfile, isdir, join\n",
    "import re\n"
   ]
  },
  {
   "cell_type": "code",
   "execution_count": 46,
   "metadata": {},
   "outputs": [],
   "source": [
    "class Data4ML:\n",
    "    def __init__(self, path_to_config='./data_params.json'):\n",
    "        cfg = self.read_json(path_to_config)\n",
    "        self.blacklist = ['Фотография', 'Аудиозапись', 'Документ', 'Видеозапись', 'прикреплённое сообщение', 'Запись на стене']\n",
    "    \n",
    "    def get_list_of_files_in_folder(self, folder_name: str) -> list:\n",
    "        \n",
    "        if os.path.isdir(folder_name):\n",
    "            # Get list of only html files from folder:\n",
    "            files = [file for file in listdir(folder_name) if file.endswith(\".html\")]\n",
    "            \n",
    "            # Descending sort to consider message order:\n",
    "            files = sorted(files, key=lambda x: int(re.search('messages(\\d+)\\.html', x).group(1)), reverse=True)\n",
    "            return files\n",
    "        else:\n",
    "            print(f'No such directory: {folder_name}')\n",
    "            return []\n",
    "\n",
    "    \n",
    "    def parse_html(self, folder: str, files: list):\n",
    "        all_messages = []\n",
    "        \n",
    "        for file in files:\n",
    "            with open(join(folder, file), 'r') as f:\n",
    "                soup = BeautifulSoup(f, 'lxml')\n",
    "                \n",
    "            messages = []\n",
    "            for message in soup.find_all('div', {'class': 'meassage'}):\n",
    "                message = message.text.strip()\n",
    "        \n",
    "    @staticmethod\n",
    "    def read_json(path_to_config: str) -> dict:\n",
    "        with open(path_to_config, 'r') as f:\n",
    "            cfg = json.load(f)\n",
    "        return cfg\n",
    "\n",
    "        "
   ]
  },
  {
   "cell_type": "code",
   "execution_count": 167,
   "metadata": {},
   "outputs": [],
   "source": [
    "def get_messages(file_name):\n",
    "    with open(file_name, 'rb') as f:\n",
    "        soup = BeautifulSoup(f, 'lxml')\n",
    "    \n",
    "    messages = []\n",
    "\n",
    "    for i in soup.find_all('div', {'class':'message'}):\n",
    "        i = i.text.strip()\n",
    "        messages.append(i[i.find('\\n')+1:])\n",
    "    messages = messages[::-1]  # reverse\n",
    "    return messages"
   ]
  },
  {
   "cell_type": "markdown",
   "metadata": {},
   "source": [
    "смайлики: \\u200d♀️\\\n",
    "'\\n25 прикреплённых сообщений',\n",
    "\\n1 прикреплённое сообщение'"
   ]
  },
  {
   "cell_type": "markdown",
   "metadata": {},
   "source": [
    "Не забыть про стикеры!"
   ]
  },
  {
   "cell_type": "markdown",
   "metadata": {},
   "source": [
    "тут есть ссылка:\n",
    "\n",
    "` 'https://m.aliexpress.ru/item/4000068584830.html?trace=wwwdetail2mobilesitedetail&dp=a9981ffe9450d0081a3b09056b847b07&af=11232&cv=47843&afref=&mall_affr=pr3&dp=a9981ffe9450d0081a3b09056b847b07&af=11232&cv=47843&afref=&mall_affr=pr3&aff_platform=aaf&cpt=1578306760735&sk=VnYZvQVf&aff_trace_key=0e4fffecab87439082bdb6a03e09b80c-1578306760735-03697-VnYZvQVf&terminal_id=f6678bd568944294b15e519b18273d40\\nСсылка\\nhttps://m.aliexpress.ru/item/4000068584830.html?trace=wwwdetail2mobilesitedetail&dp=a9981ffe9450d0081a3b09056b847b07&af=11232&cv=47843&afref=&mall_affr=pr3&dp=a9981ffe9450d0081a3b09056b847b07&af=11232&cv=47843&afref=&mall_affr=pr3&aff_platform=aaf&cpt=1578306760735&sk=VnYZvQVf&aff_trace_key=0e4fffecab87439082bdb6a03e09b80c-1578306760735-03697-VnYZvQVf&terminal_id=f6678bd568944294b15e519b18273d40'`"
   ]
  },
  {
   "cell_type": "code",
   "execution_count": 254,
   "metadata": {},
   "outputs": [
    {
     "data": {
      "text/plain": [
       "['\\nФотография\\nhttps://sun9-50.userapi.com/c855136/v855136079/1c7ee9/PkOvHB25wcU.jpg',\n",
       " 'Гуня\\n1 прикреплённое сообщение',\n",
       " 'У вас семья гусей',\n",
       " 'Ага',\n",
       " '\\n1 прикреплённое сообщение',\n",
       " '😅',\n",
       " 'Блин\\nСообщение удалено',\n",
       " '\\nФотография\\nhttps://sun9-46.userapi.com/c858220/v858220906/14c702/bUixUjVrPlw.jpg',\n",
       " '\\nДокумент\\nhttps://vk.com/doc381888277_531448212',\n",
       " '\\nФотография\\nhttps://sun9-2.userapi.com/6viNnccSXjV3xHZp5MtmAEvAocUgWjP4T8NTZw/W_57sRYl8Sg.jpg',\n",
       " '\\nЗапись на стене',\n",
       " '\\nЗапись на стене',\n",
       " 'Хочу\\nЗапись на стене',\n",
       " '\\nЗапись на стене',\n",
       " '\\nЗапись на стене',\n",
       " '\\nЗапись на стене',\n",
       " '\\nЗапись на стене',\n",
       " 'Лол\\nФотография\\nhttps://sun9-4.userapi.com/AKYsfbdeStZkPfJfzPwczRZe67i7aU32rNJLPQ/e9bveoTf_kI.jpg',\n",
       " '😅',\n",
       " '\\nЗапись на стене',\n",
       " 'Каефф',\n",
       " 'Первый клммент порадовал',\n",
       " '\\nЗапись на стене',\n",
       " '\\nЗапись на стене',\n",
       " 'Когда съел сырую рыбу\\nФотография\\nhttps://sun9-33.userapi.com/c204628/v204628235/3c0f8/6LkCpJGKOcE.jpg',\n",
       " '\\nЗапись на стене',\n",
       " '\\n1 прикреплённое сообщение',\n",
       " '\\nЗапись на стене',\n",
       " '\\nЗапись на стене',\n",
       " 'Пися']"
      ]
     },
     "execution_count": 254,
     "metadata": {},
     "output_type": "execute_result"
    }
   ],
   "source": [
    "tanos = get_messages('messages0.html')\n",
    "tanos[-30:]"
   ]
  },
  {
   "cell_type": "markdown",
   "metadata": {},
   "source": [
    "# TODO:\n",
    "Посмотреть, что ещё может быть в сообщениях:\n",
    "1. Стикеры\n",
    "2. Гифки\n",
    "3. Аудиосообщения\n",
    "4. Песни\n",
    "5. Локации\n",
    "6. Истории (Кто, блядь, вообще их использует?)\n",
    "7. Подарки\n",
    "8. Деньги (лол)\n",
    "9. Граффити (привет 2012)\n",
    "10. Фото/Видео ВК"
   ]
  },
  {
   "cell_type": "code",
   "execution_count": 252,
   "metadata": {},
   "outputs": [],
   "source": [
    "def clean_message(messages):\n",
    "#     blacklist = ['Фотография', 'Аудиозапись', 'Документ', 'Видеозапись', 'прикреплённое сообщение']\n",
    "    blacklist = ['Фотография', 'Документ', 'Видеозапись']\n",
    "    \n",
    "    perfect_url_regex = r'http[s]?://(?:[a-zA-Z]|[0-9]|[$-_@.&+]|[!*\\(\\),]|(?:%[0-9a-fA-F][0-9a-fA-F]))+'\n",
    "    perfect_emoji_regex = r'(\\u00a9|\\u00ae|[\\u2000-\\u3300]|\\ud83c[\\ud000-\\udfff]|\\ud83d[\\ud000-\\udfff]|\\ud83e[\\ud000-\\udfff])'\n",
    "    \n",
    "    clean_messages = []\n",
    "    for i in messages:\n",
    "        \n",
    "        # TODO: add it into list\n",
    "        if i.endswith('прикреплённое сообщение') or i.endswith('прикреплённых сообщений') or i.endswith('Запись на стене') or i.endswith('прикреплённых сообщения') or i.endswith('Сообщение удалено'):\n",
    "            i = i[:i.rfind('\\n')]\n",
    "        \n",
    "        # If URL in message - not append this message:\n",
    "        if '\\nСсылка\\nhttps:' in i:\n",
    "            continue\n",
    "        \n",
    "        # delet url:\n",
    "        for attachment in blacklist:\n",
    "            i = re.sub(f'\\n{attachment}\\n'+perfect_url_regex, '', i)\n",
    "        \n",
    "        # delete trash after emoji:\n",
    "        i = re.sub(perfect_emoji_regex, '', i)\n",
    "        if i:\n",
    "            clean_messages.append(i)\n",
    "    return clean_messages"
   ]
  },
  {
   "cell_type": "code",
   "execution_count": 256,
   "metadata": {},
   "outputs": [
    {
     "data": {
      "text/plain": [
       "['Гуня',\n",
       " 'У вас семья гусей',\n",
       " 'Ага',\n",
       " '😅',\n",
       " 'Блин',\n",
       " 'Хочу',\n",
       " 'Лол',\n",
       " '😅',\n",
       " 'Каефф',\n",
       " 'Первый клммент порадовал',\n",
       " 'Когда съел сырую рыбу',\n",
       " 'Пися']"
      ]
     },
     "execution_count": 256,
     "metadata": {},
     "output_type": "execute_result"
    }
   ],
   "source": [
    "clean_message(tanos[-30:])"
   ]
  },
  {
   "cell_type": "code",
   "execution_count": 192,
   "metadata": {},
   "outputs": [
    {
     "data": {
      "text/plain": [
       "'Но сначала спорт 🤷🏼\\u200d♀️'"
      ]
     },
     "execution_count": 192,
     "metadata": {},
     "output_type": "execute_result"
    }
   ],
   "source": [
    "test1, test2 = 'Но сначала спорт 🤷🏼\\u200d♀️', '🤷\\u200d♂️',\n",
    "test1"
   ]
  },
  {
   "cell_type": "code",
   "execution_count": 225,
   "metadata": {},
   "outputs": [
    {
     "data": {
      "text/plain": [
       "b'\\xd0\\x9d\\xd0\\xbe \\xd1\\x81\\xd0\\xbd\\xd0\\xb0\\xd1\\x87\\xd0\\xb0\\xd0\\xbb\\xd0\\xb0 \\xd1\\x81\\xd0\\xbf\\xd0\\xbe\\xd1\\x80\\xd1\\x82 \\xf0\\x9f\\xa4\\xb7\\xf0\\x9f\\x8f\\xbc\\xe2\\x80\\x8d\\xe2\\x99\\x80\\xef\\xb8\\x8f'"
      ]
     },
     "execution_count": 225,
     "metadata": {},
     "output_type": "execute_result"
    }
   ],
   "source": [
    "test1.encode('utf-8')"
   ]
  },
  {
   "cell_type": "code",
   "execution_count": 212,
   "metadata": {},
   "outputs": [
    {
     "data": {
      "text/plain": [
       "[' extract1  ', ' extract2 ']"
      ]
     },
     "execution_count": 212,
     "metadata": {},
     "output_type": "execute_result"
    }
   ],
   "source": [
    "s = 'blah xzuyguhbc ibcbb bqw 2 extract1  ☺️ jbjhcb 6 extract2 🙅 bjvcvvv'\n",
    "regex = re.compile(r'\\d+(.*?)[\\u263a-\\U0001f645]')\n",
    "regex.findall(s)"
   ]
  },
  {
   "cell_type": "code",
   "execution_count": 228,
   "metadata": {},
   "outputs": [
    {
     "name": "stdout",
     "output_type": "stream",
     "text": [
      "🤷🏼‍♀️\n"
     ]
    }
   ],
   "source": [
    "rees = re.search(b'\\xf0\\x9f\\xa4\\xb7\\xf0\\x9f\\x8f\\xbc\\xe2\\x80\\x8d\\xe2\\x99\\x80\\xef\\xb8\\x8f', test1.encode('utf-8'))\n",
    "if rees:\n",
    "    print(rees.group(0).decode())"
   ]
  },
  {
   "cell_type": "code",
   "execution_count": 246,
   "metadata": {},
   "outputs": [
    {
     "data": {
      "text/plain": [
       "'\\nОк\\n1 прикреплённое сообщение'"
      ]
     },
     "execution_count": 246,
     "metadata": {},
     "output_type": "execute_result"
    }
   ],
   "source": [
    "re.sub('(\\u00a9|\\u00ae|[\\u2000-\\u3300]|\\ud83c[\\ud000-\\udfff]|\\ud83d[\\ud000-\\udfff]|\\ud83e[\\ud000-\\udfff])', '', test)\n",
    "# if rees:\n",
    "#     print(rees.group(0))"
   ]
  },
  {
   "cell_type": "code",
   "execution_count": 128,
   "metadata": {},
   "outputs": [
    {
     "data": {
      "text/plain": [
       "'\\nОк'"
      ]
     },
     "execution_count": 128,
     "metadata": {},
     "output_type": "execute_result"
    }
   ],
   "source": [
    "test[:test.rfind('\\n', )]"
   ]
  },
  {
   "cell_type": "code",
   "execution_count": 118,
   "metadata": {},
   "outputs": [
    {
     "data": {
      "text/plain": [
       "2"
      ]
     },
     "execution_count": 118,
     "metadata": {},
     "output_type": "execute_result"
    }
   ],
   "source": [
    "'dsf'.find('f')"
   ]
  },
  {
   "cell_type": "code",
   "execution_count": 245,
   "metadata": {},
   "outputs": [
    {
     "data": {
      "text/plain": [
       "'\\nОк\\n1 прикреплённое сообщение'"
      ]
     },
     "execution_count": 245,
     "metadata": {},
     "output_type": "execute_result"
    }
   ],
   "source": [
    "test"
   ]
  },
  {
   "cell_type": "code",
   "execution_count": null,
   "metadata": {},
   "outputs": [],
   "source": []
  },
  {
   "cell_type": "code",
   "execution_count": 105,
   "metadata": {},
   "outputs": [],
   "source": [
    "prik_message = get_messages('messages0.html')[5]"
   ]
  },
  {
   "cell_type": "code",
   "execution_count": 77,
   "metadata": {},
   "outputs": [],
   "source": [
    "with open('messages0.html', 'rb') as f:\n",
    "        soup = BeautifulSoup(f, 'lxml')"
   ]
  },
  {
   "cell_type": "code",
   "execution_count": 76,
   "metadata": {},
   "outputs": [
    {
     "data": {
      "text/plain": [
       "'\\nФотография\\nhttps://sun9-21.userapi.com/c633831/v633831076/323f6/CN5SSfrUUS0.jpg'"
      ]
     },
     "execution_count": 76,
     "metadata": {},
     "output_type": "execute_result"
    }
   ],
   "source": [
    "s = soup.find_all('div', {'class':'message'})[2].text.strip()\n",
    "s = s[s.find('\\n')+1:]\n",
    "s"
   ]
  },
  {
   "cell_type": "code",
   "execution_count": 78,
   "metadata": {},
   "outputs": [
    {
     "data": {
      "text/plain": [
       "'Когда съел сырую рыбу\\nФотография\\nhttps://sun9-33.userapi.com/c204628/v204628235/3c0f8/6LkCpJGKOcE.jpg'"
      ]
     },
     "execution_count": 78,
     "metadata": {},
     "output_type": "execute_result"
    }
   ],
   "source": [
    "q = soup.find_all('div', {'class':'message'})[5].text.strip()\n",
    "q = q[q.find('\\n')+1:]\n",
    "q"
   ]
  },
  {
   "cell_type": "code",
   "execution_count": null,
   "metadata": {},
   "outputs": [],
   "source": []
  },
  {
   "cell_type": "code",
   "execution_count": 89,
   "metadata": {},
   "outputs": [
    {
     "data": {
      "text/plain": [
       "'\\nФотография\\nhttps://sun9-21.userapi.com/c633831/v633831076/323f6/CN5SSfrUUS0.jpg'"
      ]
     },
     "execution_count": 89,
     "metadata": {},
     "output_type": "execute_result"
    }
   ],
   "source": [
    "s"
   ]
  },
  {
   "cell_type": "code",
   "execution_count": 92,
   "metadata": {},
   "outputs": [
    {
     "name": "stdout",
     "output_type": "stream",
     "text": [
      "Фотография\n",
      "https://sun9-21.userapi.com/c633831/v633831076/323f6/CN5SSfrUUS0.jpg\n"
     ]
    }
   ],
   "source": [
    "perfect_url_regex = r'http[s]?://(?:[a-zA-Z]|[0-9]|[$-_@.&+]|[!*\\(\\),]|(?:%[0-9a-fA-F][0-9a-fA-F]))+'\n",
    "\n",
    "res = re.search('Фотография\\n'+perfect_url_regex, s)\n",
    "if res:\n",
    "    print(res.group(0))"
   ]
  },
  {
   "cell_type": "code",
   "execution_count": 140,
   "metadata": {},
   "outputs": [
    {
     "data": {
      "text/plain": [
       "'\\nФотография\\nhttps://sun9-21.userapi.com/c633831/v633831076/323f6/CN5SSfrUUS0.jpg'"
      ]
     },
     "execution_count": 140,
     "metadata": {},
     "output_type": "execute_result"
    }
   ],
   "source": [
    "re.sub('\\nФотография\\n'+perfect_url_regex, '', s)"
   ]
  },
  {
   "cell_type": "code",
   "execution_count": 110,
   "metadata": {},
   "outputs": [
    {
     "data": {
      "text/plain": [
       "<_sre.SRE_Match object; span=(0, 398), match='https://m.aliexpress.ru/item/4000068584830.html?t>"
      ]
     },
     "execution_count": 110,
     "metadata": {},
     "output_type": "execute_result"
    }
   ],
   "source": [
    "ali = '''https://m.aliexpress.ru/item/4000068584830.html?trace=wwwdetail2mobilesitedetail&dp=a9981ffe9450d0081a3b09056b847b07&af=11232&cv=47843&afref=&mall_affr=pr3&dp=a9981ffe9450d0081a3b09056b847b07&af=11232&cv=47843&afref=&mall_affr=pr3&aff_platform=aaf&cpt=1578306760735&sk=VnYZvQVf&aff_trace_key=0e4fffecab87439082bdb6a03e09b80c-1578306760735-03697-VnYZvQVf&terminal_id=f6678bd568944294b15e519b18273d40\\nСсылка\\nhttps://m.aliexpress.ru/item/4000068584830.html?trace=wwwdetail2mobilesitedetail&dp=a9981ffe9450d0081a3b09056b847b07&af=11232&cv=47843&afref=&mall_affr=pr3&dp=a9981ffe9450d0081a3b09056b847b07&af=11232&cv=47843&afref=&mall_affr=pr3&aff_platform=aaf&cpt=1578306760735&sk=VnYZvQVf&aff_trace_key=0e4fffecab87439082bdb6a03e09b80c-1578306760735-03697-VnYZvQVf&terminal_id=f6678bd568944294b15e519b18273d40'''\n",
    "re.search(perfect_url_regex, ali)"
   ]
  },
  {
   "cell_type": "code",
   "execution_count": null,
   "metadata": {},
   "outputs": [],
   "source": [
    "s.endswith()"
   ]
  },
  {
   "cell_type": "code",
   "execution_count": 62,
   "metadata": {},
   "outputs": [
    {
     "data": {
      "text/plain": [
       "'\\nВы, 16 янв 2020 в 16:54:09\\nКогда съел сырую рыбу\\nФотография\\nhttps://sun9-33.userapi.com/c204628/v204628235/3c0f8/6LkCpJGKOcE.jpg\\n\\n'"
      ]
     },
     "execution_count": 62,
     "metadata": {},
     "output_type": "execute_result"
    }
   ],
   "source": [
    "soup.find_all('div', {'class':'message'})[5].text"
   ]
  },
  {
   "cell_type": "code",
   "execution_count": null,
   "metadata": {},
   "outputs": [],
   "source": []
  },
  {
   "cell_type": "code",
   "execution_count": null,
   "metadata": {},
   "outputs": [],
   "source": []
  },
  {
   "cell_type": "code",
   "execution_count": 47,
   "metadata": {},
   "outputs": [],
   "source": [
    "kek = Data4ML()"
   ]
  },
  {
   "cell_type": "code",
   "execution_count": 48,
   "metadata": {},
   "outputs": [
    {
     "name": "stdout",
     "output_type": "stream",
     "text": [
      "No such directory: 232\n"
     ]
    },
    {
     "data": {
      "text/plain": [
       "[]"
      ]
     },
     "execution_count": 48,
     "metadata": {},
     "output_type": "execute_result"
    }
   ],
   "source": [
    "kek.get_list_of_files_in_folder('232')"
   ]
  },
  {
   "cell_type": "code",
   "execution_count": 51,
   "metadata": {},
   "outputs": [
    {
     "data": {
      "text/plain": [
       "'97923293/kek.txt'"
      ]
     },
     "execution_count": 51,
     "metadata": {},
     "output_type": "execute_result"
    }
   ],
   "source": [
    "join(folder, 'kek.txt')"
   ]
  },
  {
   "cell_type": "code",
   "execution_count": null,
   "metadata": {},
   "outputs": [],
   "source": []
  },
  {
   "cell_type": "code",
   "execution_count": 31,
   "metadata": {},
   "outputs": [
    {
     "data": {
      "text/plain": [
       "['messages0.html',\n",
       " 'messages1200.html',\n",
       " 'messages1500.html',\n",
       " 'messages300.html',\n",
       " 'messages600.html',\n",
       " 'messages900.html']"
      ]
     },
     "execution_count": 31,
     "metadata": {},
     "output_type": "execute_result"
    }
   ],
   "source": [
    "[file for file in listdir(folder) if file.endswith(\".html\")]"
   ]
  },
  {
   "cell_type": "code",
   "execution_count": 3,
   "metadata": {},
   "outputs": [],
   "source": [
    "from os import listdir\n",
    "from os.path import isfile, isdir, join\n",
    "import re\n",
    "\n",
    "def get_files(folder_name):\n",
    "    assert type(folder_name) is str\n",
    "    \n",
    "    files = [file for file in listdir(folder) if file.endswith(\".html\")]\n",
    "    files = sorted(onlyfiles, key=lambda x: int(re.search('messages(\\d+)\\.html', x).group(1)), reverse=True)\n",
    "    return files"
   ]
  },
  {
   "cell_type": "code",
   "execution_count": 7,
   "metadata": {},
   "outputs": [],
   "source": [
    "import os.path"
   ]
  },
  {
   "cell_type": "code",
   "execution_count": 10,
   "metadata": {},
   "outputs": [
    {
     "data": {
      "text/plain": [
       "False"
      ]
     },
     "execution_count": 10,
     "metadata": {},
     "output_type": "execute_result"
    }
   ],
   "source": [
    "os.path.isdir('97923291')"
   ]
  },
  {
   "cell_type": "code",
   "execution_count": null,
   "metadata": {},
   "outputs": [],
   "source": []
  },
  {
   "cell_type": "code",
   "execution_count": 5,
   "metadata": {},
   "outputs": [
    {
     "data": {
      "text/plain": [
       "['messages1500.html',\n",
       " 'messages1200.html',\n",
       " 'messages900.html',\n",
       " 'messages600.html',\n",
       " 'messages300.html',\n",
       " 'messages0.html']"
      ]
     },
     "execution_count": 5,
     "metadata": {},
     "output_type": "execute_result"
    }
   ],
   "source": [
    "folder = '97923293'\n",
    "files = get_files(folder)\n",
    "files"
   ]
  },
  {
   "cell_type": "code",
   "execution_count": 53,
   "metadata": {},
   "outputs": [],
   "source": [
    "def get_messages(file_name):\n",
    "    with open(file_name, 'rb') as f:\n",
    "        soup = BeautifulSoup(f, 'lxml')\n",
    "    \n",
    "    messages = []\n",
    "\n",
    "    for i in soup.find_all('div', {'class':'message'}):\n",
    "        i = i.text.strip()\n",
    "        if 'Фотография' not in i and 'Аудиозапись' not in i:\n",
    "            messages.append(i[i.find('\\n')+1:])\n",
    "    messages = messages[::-1]  # reverse\n",
    "    return messages"
   ]
  },
  {
   "cell_type": "code",
   "execution_count": 54,
   "metadata": {},
   "outputs": [
    {
     "data": {
      "text/plain": [
       "['Знаю я, чем обычно заканчиваются наши переписки)',\n",
       " 'Сначала общаемся, не можем остановиться',\n",
       " 'Потом может встретимся',\n",
       " 'Чуть друг друга не поубиваем',\n",
       " 'И всё, потом опять не общаемся)',\n",
       " 'Эххх... Хорошие традиции😂',\n",
       " 'Ахахах😄 ну мы же мелкими ещё были) или думаешь не поменялось ничего?😄',\n",
       " 'Ахахах хотя раньше это было круто! Немного больно,подушкой по голове получать,но круто))',\n",
       " 'Ну не знаю, не знаю... Что-то вечно)',\n",
       " 'Ну...значит это наша фишечка',\n",
       " 'Так',\n",
       " 'Послушаю я её попозже',\n",
       " 'Сейчас в метро и без наушников',\n",
       " 'Что у тебя ещё хорошего?',\n",
       " 'Хорошо)Сегодня её нашла,мне понравилось',\n",
       " 'Серёнь,мне кажется я уже так много рассказала про себя и так мало услышала про тебя)',\n",
       " 'Ну я даже не знаю, что тебе рассказать, задавай мне вопросы)',\n",
       " 'Ахаха сложно)) за 3 года думаю многое изменилось',\n",
       " 'Так',\n",
       " 'Давай я тебе вечером напишу',\n",
       " 'Хорошо?)',\n",
       " 'И поговорим',\n",
       " 'Как тебе удобно)',\n",
       " 'Окей👌',\n",
       " 'Пс',\n",
       " 'Пс, парень',\n",
       " 'ччч',\n",
       " 'Слушай',\n",
       " 'Я забыл',\n",
       " 'У тебя же сегодня полноценный учебный день был?',\n",
       " 'Кстати, песня красивая',\n",
       " '👌',\n",
       " 'Нууу Нет У меня с завтрашнего дня пары начнутся Сегодня должна была быть лекция но её отменили',\n",
       " 'А ты территориально в Москве?',\n",
       " 'Да,между Бауманской и Авиамоторной',\n",
       " 'У тебя как день прошёл?',\n",
       " 'О, тебе удобно очень',\n",
       " 'Ууу',\n",
       " 'Лучше даже не спрашивать',\n",
       " 'Я чуть не сдох со скуки',\n",
       " 'Учусь в группе задротов',\n",
       " 'Которые только об учёбе и могут болтать',\n",
       " 'И о книжках',\n",
       " 'Или о сериалах',\n",
       " 'Одни девки прост',\n",
       " 'Мой друг ушёл в армию',\n",
       " 'По собственному желанию',\n",
       " 'Ещё один парень очень странный',\n",
       " 'А какая у тебя специальность?',\n",
       " 'Все считают его маньяком',\n",
       " 'И он за мной ходит',\n",
       " 'Даже в туалет',\n",
       " 'Химия',\n",
       " 'Есть ещё две подруги',\n",
       " 'Ну даже три',\n",
       " 'Две из моей группы',\n",
       " 'Но с одной не очень уже общаемся',\n",
       " 'Другая в отъезде',\n",
       " 'А третья в другой группе',\n",
       " 'И я сегодня весь день был в депряснике',\n",
       " 'И одиночестве',\n",
       " 'Ах нет',\n",
       " 'В одиночестве я не был',\n",
       " 'Со мной был этот маньяк',\n",
       " 'Клрчое',\n",
       " 'Это пиздец)',\n",
       " 'Ахаха мда уж...не весело тебе было)',\n",
       " 'Но',\n",
       " 'Это только начало',\n",
       " 'Но?',\n",
       " 'Я надеюсь',\n",
       " 'Просто я стал понимать',\n",
       " 'Что мне это вообще неинтересно',\n",
       " 'И вернётся одна из твоих подруг',\n",
       " 'А т.к. вуз сильный',\n",
       " 'Требуют очень много',\n",
       " 'И надо много всего делать, чтобы не вылететь',\n",
       " 'Ну я учусь норм',\n",
       " '4/5',\n",
       " 'Но всё же',\n",
       " 'Так не хочется всего этого',\n",
       " 'Опять домашки',\n",
       " 'Кр',\n",
       " 'Ты 4 курс?',\n",
       " 'Коллоквиумы',\n",
       " 'Не',\n",
       " '3',\n",
       " 'А изначально осознанно туда шёл?',\n",
       " 'Прям именно в этот универ,на эту специальность',\n",
       " 'Нууу',\n",
       " 'Пошёл потому что я сдавал химию',\n",
       " 'И вроде это хороший универ',\n",
       " 'Нет',\n",
       " 'Подожди',\n",
       " 'До сих пор не знаю, что хочу',\n",
       " 'Мм?',\n",
       " 'Я немного не об этом Ты сам то хотел связывать себя с этим? С химией,например',\n",
       " 'Ну я учился в медбио изначально',\n",
       " 'Биологию ненавидел',\n",
       " 'Поэтому химия',\n",
       " 'Ну у меня была одна мечта',\n",
       " 'А это норма,мамина подруга мне говорит что это годам к 40 проходит\\n1 прикреплённое сообщение',\n",
       " 'Связанная с режиссуроц',\n",
       " 'Даааа',\n",
       " 'Я помню',\n",
       " 'Но родители были против',\n",
       " 'Я у меня не особо получилось',\n",
       " 'Ты же так этим увлекался',\n",
       " 'Они давили на меня постоянно',\n",
       " 'Это дело времени\\n1 прикреплённое сообщение',\n",
       " 'Щас, минут 15, я вернусь',\n",
       " 'Я тебя отлично понимаю Очень сложно учиться тому,что тебе не особо то интересно вместо занятия любимым делом Но если уже ничего изменить нельзя,попробуй найти хоть какой-то плюс в том,чем тебе приходиться заниматься А ещё лучше найди цели и задачи в этом деле Любить больше не станешь,но хоть какой-то интерес проснётся Мне помогает',\n",
       " 'Я тут)',\n",
       " 'Ты походу не дождалась меня...',\n",
       " 'Сорян, мне надо было резюме написать',\n",
       " 'Ты прям как личный психолог',\n",
       " 'Если честно, я не знаю, что на меня нашло',\n",
       " 'Раньше был какой-то интерес',\n",
       " 'Были друзья',\n",
       " 'А сейчас я понимаю, что есть вакансии',\n",
       " 'На которых я и без высшего образования буду получать довольно-таки много',\n",
       " 'Однако, логично предположить, что потом для повышения квалификации оно всё же потребуется']"
      ]
     },
     "execution_count": 54,
     "metadata": {},
     "output_type": "execute_result"
    }
   ],
   "source": [
    "get_messages(join(folder, files[0]))"
   ]
  },
  {
   "cell_type": "code",
   "execution_count": null,
   "metadata": {},
   "outputs": [],
   "source": []
  },
  {
   "cell_type": "code",
   "execution_count": null,
   "metadata": {},
   "outputs": [],
   "source": []
  },
  {
   "cell_type": "code",
   "execution_count": 3,
   "metadata": {},
   "outputs": [
    {
     "name": "stdout",
     "output_type": "stream",
     "text": [
      "спасибо\n",
      "а до скольких?\n",
      "Спасибо\n",
      "спасибо\n",
      "Хорошо\n",
      "И своим передай\n",
      "не забывай, что вы завтра в 12 танцуете\n",
      "Юль\n",
      "Хорошо\n",
      "Она попросила\n",
      "зачем?\n",
      "Подойдите завтра к смоленцевой\n",
      "Скинул\n",
      "Спасибо\n",
      "Последнее. Про кино\n",
      "Какое именно?\n",
      "Заранее спасибо\n",
      "Сережка, перешли мне письмо Смоленцевой.\n",
      "1 прикреплённое сообщение\n",
      "👌\n",
      "Спасибо большое\n",
      "Всё👌\n",
      "Привет, сейчас\n",
      "yanko.julia@yandex.ru\n",
      "пришли фотки, пожалуйста\n"
     ]
    }
   ],
   "source": [
    "messages = []\n",
    "\n",
    "for i in soup.find_all('div', {'class':'message'}):\n",
    "    i = i.text.strip()\n",
    "    if 'Фотография' not in i:\n",
    "        print(i[i.find('\\n')+1:])\n",
    "        messages.append(i[i.find('\\n')+1:])\n",
    "        \n",
    "messages = messages[::-1]  # reverse"
   ]
  },
  {
   "cell_type": "code",
   "execution_count": 83,
   "metadata": {},
   "outputs": [
    {
     "data": {
      "text/plain": [
       "24"
      ]
     },
     "execution_count": 83,
     "metadata": {},
     "output_type": "execute_result"
    }
   ],
   "source": [
    "len(messages)"
   ]
  },
  {
   "cell_type": "code",
   "execution_count": 88,
   "metadata": {},
   "outputs": [
    {
     "data": {
      "text/plain": [
       "['пришли фотки, пожалуйста',\n",
       " 'yanko.julia@yandex.ru',\n",
       " 'Привет, сейчас',\n",
       " 'Всё👌',\n",
       " 'Спасибо большое',\n",
       " '👌',\n",
       " 'Сережка, перешли мне письмо Смоленцевой.\\n1 прикреплённое сообщение',\n",
       " 'Заранее спасибо',\n",
       " 'Какое именно?',\n",
       " 'Последнее. Про кино',\n",
       " 'Спасибо',\n",
       " 'Скинул',\n",
       " 'Подойдите завтра к смоленцевой',\n",
       " 'зачем?',\n",
       " 'Она попросила',\n",
       " 'Хорошо',\n",
       " 'Юль',\n",
       " 'не забывай, что вы завтра в 12 танцуете',\n",
       " 'И своим передай',\n",
       " 'Хорошо',\n",
       " 'спасибо',\n",
       " 'Спасибо',\n",
       " 'а до скольких?',\n",
       " 'спасибо']"
      ]
     },
     "execution_count": 88,
     "metadata": {},
     "output_type": "execute_result"
    }
   ],
   "source": [
    "messages"
   ]
  },
  {
   "cell_type": "code",
   "execution_count": null,
   "metadata": {},
   "outputs": [],
   "source": []
  }
 ],
 "metadata": {
  "kernelspec": {
   "display_name": "Python 3",
   "language": "python",
   "name": "python3"
  },
  "language_info": {
   "codemirror_mode": {
    "name": "ipython",
    "version": 3
   },
   "file_extension": ".py",
   "mimetype": "text/x-python",
   "name": "python",
   "nbconvert_exporter": "python",
   "pygments_lexer": "ipython3",
   "version": "3.6.9"
  }
 },
 "nbformat": 4,
 "nbformat_minor": 4
}
