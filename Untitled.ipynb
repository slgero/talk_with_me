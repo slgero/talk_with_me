{
 "cells": [
  {
   "cell_type": "code",
   "execution_count": 368,
   "metadata": {},
   "outputs": [],
   "source": [
    "from bs4 import BeautifulSoup\n",
    "import json\n",
    "from os import listdir\n",
    "from os.path import isfile, isdir, join\n",
    "import re"
   ]
  },
  {
   "cell_type": "code",
   "execution_count": 400,
   "metadata": {},
   "outputs": [],
   "source": [
    "import tempfile\n",
    "import shutil\n",
    "import os"
   ]
  },
  {
   "cell_type": "code",
   "execution_count": 403,
   "metadata": {},
   "outputs": [],
   "source": [
    "dirpath = tempfile.mkdtemp()"
   ]
  },
  {
   "cell_type": "code",
   "execution_count": 404,
   "metadata": {},
   "outputs": [
    {
     "data": {
      "text/plain": [
       "'/tmp/tmp7ifh9c7j'"
      ]
     },
     "execution_count": 404,
     "metadata": {},
     "output_type": "execute_result"
    }
   ],
   "source": [
    "dirpath"
   ]
  },
  {
   "cell_type": "code",
   "execution_count": null,
   "metadata": {},
   "outputs": [],
   "source": [
    "p = Path(path)"
   ]
  },
  {
   "cell_type": "code",
   "execution_count": 432,
   "metadata": {},
   "outputs": [],
   "source": [
    "from pathlib import Path\n",
    "# p = Path(some_path)\n",
    "# p.rename(Path(p.parent, f\"{p.stem}_1_{p.suffix}\"))"
   ]
  },
  {
   "cell_type": "code",
   "execution_count": 485,
   "metadata": {},
   "outputs": [],
   "source": [
    "def get_list_of_folders(messages_path: str) -> list:\n",
    "    folders = []\n",
    "\n",
    "    if os.path.isdir(messages_path):\n",
    "        for folder in os.listdir(messages_path):\n",
    "            if not os.path.isdir(os.path.join(messages_path, folder)):\n",
    "                continue\n",
    "            if folder.startswith('-'):  # VK groups or applications\n",
    "                continue\n",
    "            if len(folder) < 7:  # some kind of service letters\n",
    "                continue\n",
    "            if len(folder) == 10:  # group chats\n",
    "                continue\n",
    "            folders.append(folder)\n",
    "    else:\n",
    "        print(f\"No such directory: {messages_path}\")\n",
    "\n",
    "    return folders"
   ]
  },
  {
   "cell_type": "code",
   "execution_count": 500,
   "metadata": {},
   "outputs": [],
   "source": [
    "def create_tmp_folders(answer: int, folder_names: list):\n",
    "\n",
    "    # Create the main directory:\n",
    "    with tempfile.TemporaryDirectory() as dirpath:\n",
    "        for folder_name in folder_names:\n",
    "            # Create a tmp folder:\n",
    "            path = tempfile.mkdtemp(dir=dirpath)\n",
    "            \n",
    "            # Rename the folder to bring it to standard:\n",
    "            p = Path(path)\n",
    "            p.rename(Path(p.parent, folder_name))\n",
    "\n",
    "        folders = get_list_of_folders(dirpath)\n",
    "        print(folders)"
   ]
  },
  {
   "cell_type": "code",
   "execution_count": 504,
   "metadata": {},
   "outputs": [
    {
     "name": "stdout",
     "output_type": "stream",
     "text": [
      "['12345435', '34534234']\n"
     ]
    }
   ],
   "source": [
    "create_tmp_folders(3, ['12345435', '34534234'])"
   ]
  },
  {
   "cell_type": "code",
   "execution_count": 409,
   "metadata": {
    "collapsed": true,
    "jupyter": {
     "outputs_hidden": true
    }
   },
   "outputs": [
    {
     "name": "stderr",
     "output_type": "stream",
     "text": [
      "ERROR:root:Internal Python error in the inspect module.\n",
      "Below is the traceback from this internal error.\n",
      "\n"
     ]
    },
    {
     "name": "stdout",
     "output_type": "stream",
     "text": [
      "Traceback (most recent call last):\n",
      "  File \"/usr/local/lib/python3.6/dist-packages/IPython/core/interactiveshell.py\", line 3319, in run_code\n",
      "    exec(code_obj, self.user_global_ns, self.user_ns)\n",
      "  File \"<ipython-input-409-b5fd7f72868c>\", line 1, in <module>\n",
      "    with os.fdopen(fd, 'w') as tmp:\n",
      "  File \"/usr/lib/python3.6/os.py\", line 1017, in fdopen\n",
      "    return io.open(fd, *args, **kwargs)\n",
      "OSError: [Errno 9] Bad file descriptor\n",
      "\n",
      "During handling of the above exception, another exception occurred:\n",
      "\n",
      "Traceback (most recent call last):\n",
      "  File \"/usr/local/lib/python3.6/dist-packages/IPython/core/interactiveshell.py\", line 2034, in showtraceback\n",
      "    stb = value._render_traceback_()\n",
      "AttributeError: 'OSError' object has no attribute '_render_traceback_'\n",
      "\n",
      "During handling of the above exception, another exception occurred:\n",
      "\n",
      "Traceback (most recent call last):\n",
      "  File \"/usr/local/lib/python3.6/dist-packages/IPython/core/ultratb.py\", line 1151, in get_records\n",
      "    return _fixed_getinnerframes(etb, number_of_lines_of_context, tb_offset)\n",
      "  File \"/usr/local/lib/python3.6/dist-packages/IPython/core/ultratb.py\", line 319, in wrapped\n",
      "    return f(*args, **kwargs)\n",
      "  File \"/usr/local/lib/python3.6/dist-packages/IPython/core/ultratb.py\", line 353, in _fixed_getinnerframes\n",
      "    records = fix_frame_records_filenames(inspect.getinnerframes(etb, context))\n",
      "  File \"/usr/lib/python3.6/inspect.py\", line 1490, in getinnerframes\n",
      "    frameinfo = (tb.tb_frame,) + getframeinfo(tb, context)\n",
      "  File \"/usr/lib/python3.6/inspect.py\", line 1448, in getframeinfo\n",
      "    filename = getsourcefile(frame) or getfile(frame)\n",
      "  File \"/usr/lib/python3.6/inspect.py\", line 696, in getsourcefile\n",
      "    if getattr(getmodule(object, filename), '__loader__', None) is not None:\n",
      "  File \"/usr/lib/python3.6/inspect.py\", line 725, in getmodule\n",
      "    file = getabsfile(object, _filename)\n",
      "  File \"/usr/lib/python3.6/inspect.py\", line 709, in getabsfile\n",
      "    return os.path.normcase(os.path.abspath(_filename))\n",
      "  File \"/usr/lib/python3.6/posixpath.py\", line 383, in abspath\n",
      "    cwd = os.getcwd()\n",
      "FileNotFoundError: [Errno 2] No such file or directory\n"
     ]
    },
    {
     "ename": "OSError",
     "evalue": "[Errno 9] Bad file descriptor",
     "output_type": "error",
     "traceback": [
      "\u001b[0;31m---------------------------------------------------------------------------\u001b[0m"
     ]
    }
   ],
   "source": [
    "with os.fdopen(fd, 'w') as tmp:\n",
    "    tmp.write('stuff')"
   ]
  },
  {
   "cell_type": "code",
   "execution_count": 408,
   "metadata": {},
   "outputs": [],
   "source": [
    "\n",
    "# ... do stuff with dirpath\n",
    "shutil.rmtree(dirpath)"
   ]
  },
  {
   "cell_type": "code",
   "execution_count": null,
   "metadata": {},
   "outputs": [],
   "source": [
    "fd, path = tempfile.mkstemp(suffix='.html', prefix='test', dir=)"
   ]
  },
  {
   "cell_type": "code",
   "execution_count": 392,
   "metadata": {},
   "outputs": [
    {
     "name": "stdout",
     "output_type": "stream",
     "text": [
      "/tmp/tmp28tu_8uq\n"
     ]
    }
   ],
   "source": [
    "with tempfile.TemporaryDirectory() as dirpath:\n",
    "    print(dirpath)"
   ]
  },
  {
   "cell_type": "code",
   "execution_count": null,
   "metadata": {},
   "outputs": [],
   "source": []
  },
  {
   "cell_type": "code",
   "execution_count": null,
   "metadata": {},
   "outputs": [],
   "source": []
  },
  {
   "cell_type": "code",
   "execution_count": 264,
   "metadata": {},
   "outputs": [],
   "source": [
    "class Data4ML:\n",
    "    def __init__(self, path_to_config='./data_params.json'):\n",
    "        cfg = self.read_json(path_to_config)\n",
    "        self.blacklist = ['Фотография', 'Аудиозапись', 'Документ', 'Видеозапись', 'прикреплённое сообщение', 'Запись на стене']\n",
    "    \n",
    "    def get_list_of_files_in_folder(self, folder_name: str) -> list:\n",
    "        \n",
    "        if os.path.isdir(folder_name):\n",
    "            # Get list of only html files from folder:\n",
    "            files = [file for file in listdir(folder_name) if file.endswith(\".html\")]\n",
    "            \n",
    "            # Descending sort to consider message order:\n",
    "            files = sorted(files, key=lambda x: int(re.search('messages(\\d+)\\.html', x).group(1)), reverse=True)\n",
    "            return files\n",
    "        else:\n",
    "            print(f'No such directory: {folder_name}')\n",
    "            return []\n",
    "\n",
    "    \n",
    "    def parse_html(self, folder: str, files: list):\n",
    "        all_messages = []\n",
    "        \n",
    "        for file in files:\n",
    "            with open(join(folder, file), 'r') as f:\n",
    "                soup = BeautifulSoup(f, 'lxml')\n",
    "                \n",
    "            messages = []\n",
    "            for message in soup.find_all('div', {'class': 'meassage'}):\n",
    "                message = message.text.strip()\n",
    "    \n",
    "    def clear_message(self, messages: list) -> list:\n",
    "        blacklist = ['Фотография', 'Документ', 'Видеозапись']\n",
    "        message_ends = ['прикреплённое сообщение', 'прикреплённых сообщений', 'прикреплённых сообщения', 'Запись на стене', 'Сообщение удалено']\n",
    "\n",
    "        perfect_url_regex = r'http[s]?://(?:[a-zA-Z]|[0-9]|[$-_@.&+]|[!*\\(\\),]|(?:%[0-9a-fA-F][0-9a-fA-F]))+'\n",
    "        perfect_emoji_regex = r'(\\u00a9|\\u00ae|[\\u2000-\\u3300]|\\ud83c[\\ud000-\\udfff]|\\ud83d[\\ud000-\\udfff]|\\ud83e[\\ud000-\\udfff])'\n",
    "\n",
    "        clean_messages = []\n",
    "        for i in messages:\n",
    "\n",
    "            # TODO: add it into list\n",
    "            for end in message_ends:\n",
    "                if i.endswith(end):\n",
    "                    i = i[:i.rfind('\\n')]\n",
    "\n",
    "            # If URL in message - not append this message:\n",
    "            if '\\nСсылка\\nhttps:' in i:\n",
    "                continue\n",
    "\n",
    "            # delet url:\n",
    "            for attachment in blacklist:\n",
    "                i = re.sub(f'\\n{attachment}\\n'+perfect_url_regex, '', i)\n",
    "\n",
    "            # delete trash after emoji:\n",
    "            i = re.sub(perfect_emoji_regex, '', i)\n",
    "            \n",
    "            i = i.strip()\n",
    "            if i:\n",
    "                clean_messages.append(i)\n",
    "        return clean_messages\n",
    "\n",
    "    \n",
    "    @staticmethod\n",
    "    def read_json(path_to_config: str) -> dict:\n",
    "        with open(path_to_config, 'r') as f:\n",
    "            cfg = json.load(f)\n",
    "        return cfg\n",
    "\n",
    "        "
   ]
  },
  {
   "cell_type": "code",
   "execution_count": 371,
   "metadata": {},
   "outputs": [],
   "source": [
    "def clear_message(messages: list) -> list:\n",
    "    cleared_messages = []\n",
    "    for i in messages:\n",
    "        # If `Ссылка` in message - not append this message:\n",
    "        if \"\\nСсылка\\nhttps:\" in i:\n",
    "            continue\n",
    "\n",
    "        # Delete trash such as stickers, attached messages:\n",
    "        for end in message_ends:\n",
    "            if i.endswith(end):\n",
    "                i = i[: i.rfind(\"\\n\")]\n",
    "\n",
    "        # Delete attachments such as photos, documents, ect.:\n",
    "        for attachment in blacklist:\n",
    "            i = re.sub(f\"\\n{attachment}\\n\" + perfect_url_regex, \"\", i)\n",
    "\n",
    "        # Delete trash:\n",
    "        i = re.sub(perfect_emoji_regex, \"\", i)\n",
    "        i = re.sub(perfect_email_regex, \"\", i)\n",
    "        i = re.sub(perfect_phone_regex, \" \", i)\n",
    "        i = re.sub(perfect_url_regex, \"\", i)\n",
    "\n",
    "        i = i.replace(\"  \", \" \")  # remove double space\n",
    "        i = i.strip()\n",
    "        if i:\n",
    "            cleared_messages.append(i)\n",
    "    return cleared_messages"
   ]
  },
  {
   "cell_type": "code",
   "execution_count": 306,
   "metadata": {},
   "outputs": [],
   "source": [
    "def get_list_of_folders(messages_path: str) -> list:\n",
    "    folders = []\n",
    "    \n",
    "    if os.path.isdir(messages_path):\n",
    "        for folder in listdir(messages_path):\n",
    "            if not os.path.isdir(join(messages_path, folder)):\n",
    "                continue\n",
    "            if folder.startswith('-'):  # VK groups or applications\n",
    "                continue\n",
    "            if len(folder) < 7:  # some kind of service letters\n",
    "                continue\n",
    "            if len(folder) == 10:  # group chats\n",
    "                continue\n",
    "            folders.append(folder)\n",
    "    else:\n",
    "        print(f\"No such directory: {messages_path}\")\n",
    "        \n",
    "    return folders"
   ]
  },
  {
   "cell_type": "code",
   "execution_count": null,
   "metadata": {},
   "outputs": [],
   "source": [
    "def get_messages(file_name):\n",
    "    with open(file_name, 'rb') as f:\n",
    "        soup = BeautifulSoup(f, 'lxml')\n",
    "    \n",
    "    messages = []\n",
    "\n",
    "    for i in soup.find_all('div', {'class':'message'}):\n",
    "        i = i.text.strip()\n",
    "        messages.append(i[i.find('\\n')+1:])\n",
    "    messages = messages[::-1]  # reverse\n",
    "    return messages"
   ]
  },
  {
   "cell_type": "code",
   "execution_count": 357,
   "metadata": {
    "collapsed": true,
    "jupyter": {
     "outputs_hidden": true
    }
   },
   "outputs": [
    {
     "data": {
      "text/plain": [
       "['И три раза за основную',\n",
       " 'Ахуенно))',\n",
       " 'Ахахахахахах',\n",
       " 'Угар',\n",
       " 'Приветик',\n",
       " 'Дружочек',\n",
       " '\\nСтикер',\n",
       " 'Во сколько за деньгами поедешь ?)',\n",
       " 'Хаюшки',\n",
       " 'Я в понедельник поеду',\n",
       " 'Сегодня на парах',\n",
       " 'А ты сегодня?',\n",
       " 'Ааа',\n",
       " 'Да)',\n",
       " 'Сейчас заеду',\n",
       " 'Тогда скажи, сколько заплатили',\n",
       " 'Минут через 20 там буду уже',\n",
       " 'Да , самой интересно',\n",
       " 'Интересно жи',\n",
       " 'Прикинь если тысячу какую-нибудь , ахаха',\n",
       " 'Ахаха',\n",
       " 'Аванс жи',\n",
       " '\\nСтикер',\n",
       " 'Скоро будет видео',\n",
       " 'Видео',\n",
       " 'Блин',\n",
       " 'Видно',\n",
       " 'Удачи💪',\n",
       " '\\nСтикер',\n",
       " 'У меня 4800',\n",
       " 'У тебя 11200',\n",
       " 'Не понимаю только почему сразу не дать всю зп, реально',\n",
       " 'Почему по кусочкам этим',\n",
       " 'Странно так',\n",
       " 'Чего у тебя так мало',\n",
       " 'Я не знаю',\n",
       " 'И у меня так много по сравнению с тобой',\n",
       " 'Так , хватит',\n",
       " 'Панику мне наводить',\n",
       " 'Сколько они должны тебе примерно?',\n",
       " '26',\n",
       " 'Учитывая, что ты в две смены работала?',\n",
       " 'Аа',\n",
       " 'Да',\n",
       " 'У тебя же 300 ставка',\n",
       " 'Точняк',\n",
       " 'Я посчитала',\n",
       " 'Давно уже',\n",
       " 'Это я мажорю',\n",
       " 'Ну ладно',\n",
       " 'Мне сейчас и они нужны',\n",
       " 'Как кухня ?',\n",
       " 'Взял ?',\n",
       " 'Взял, сегодня собирать буду',\n",
       " 'Пришлю фотку как сделаю)',\n",
       " 'Поздравляю',\n",
       " '\\nСтикер',\n",
       " 'Спасибо)',\n",
       " 'Но на это столько денег уходит',\n",
       " 'Жесть просто',\n",
       " 'Ахахха',\n",
       " 'Конечно, всё, возраст подкрался незаметно',\n",
       " 'Так',\n",
       " 'Не надо об этом',\n",
       " 'Не давит на больное))',\n",
       " '😃',\n",
       " 'Кстати, ты сейчас работаешь где-нибудь?',\n",
       " 'Я тебя младше как бы на 3 месяца всего лишь',\n",
       " 'Нее',\n",
       " 'У меня практика начинается через месяц ,  решила забить',\n",
       " 'Ты где там едешь ?',\n",
       " 'Сейчас на Перово',\n",
       " 'Так',\n",
       " 'М?',\n",
       " 'Ты не в факстовской электричке?',\n",
       " 'Хахах',\n",
       " 'Дыа',\n",
       " 'Ты тоже?',\n",
       " 'Я тож',\n",
       " 'Какой вагон?',\n",
       " 'Ох',\n",
       " 'Предпоследний вроде',\n",
       " 'А ты в каком?',\n",
       " 'Примерно',\n",
       " 'Я где-то в центре',\n",
       " 'Можно на Томилино найтись',\n",
       " 'Потому что места все заняты',\n",
       " 'Да , давай',\n",
       " '👌',\n",
       " 'А ты меня увидела что ли?',\n",
       " 'Мне как раз в начало надо',\n",
       " 'Или как вообще узнала, что я еду домой?',\n",
       " 'Нет , просто решила поинтересоваться',\n",
       " 'Бабское чутьё?)',\n",
       " 'Оно самое )',\n",
       " 'Хотя',\n",
       " 'Это больше логика',\n",
       " '\\nСтикер',\n",
       " 'Время сколько было\\n1 прикреплённое сообщение',\n",
       " 'Можешь занять мне местечко напротив себя , если будут свободные места 😃',\n",
       " '\\nФотография\\nhttps://sun9-45.userapi.com/c840523/v840523636/a69b/XMETCtvVZqg.jpg',\n",
       " 'А, это фейк',\n",
       " 'Весело под неё ехать , простой фанатею от major laser\\nАудиозапись',\n",
       " 'Lazer',\n",
       " 'Попозже заценю)',\n",
       " 'Окей)\\n1 прикреплённое сообщение',\n",
       " '\\nЗапись на стене',\n",
       " 'Хииии',\n",
       " '\\nСтикер',\n",
       " 'Милашики',\n",
       " '\\n1 прикреплённое сообщение',\n",
       " '\\n1 прикреплённое сообщение',\n",
       " 'Спасибо',\n",
       " '(44+6)*(155+6) - три окна(58+6)*(155+6) - одно окно',\n",
       " 'Кинула Вите',\n",
       " '👌',\n",
       " 'Ну что?',\n",
       " 'Он сегодня не рассчитывал',\n",
       " 'Завтра , окей ?',\n",
       " 'Окей)',\n",
       " '\\nФотография\\nhttps://sun9-38.userapi.com/c840539/v840539915/8b9c/H_n10pZoRPw.jpg',\n",
       " 'Давай два окна 510*1610 (именно 510, в прошлый раз я описАлся)',\n",
       " '\\n1 прикреплённое сообщение',\n",
       " 'Ну две сетки 510*1610',\n",
       " 'Решил два окна оставить без сеток',\n",
       " '\\n1 прикреплённое сообщение',\n",
       " 'Окей',\n",
       " 'Меня всё устраивает)',\n",
       " 'Куда мне подъехать, чтобы забрать?',\n",
       " 'Доброе утро',\n",
       " 'На пролетарку',\n",
       " '6 жила',\n",
       " 'Этаж',\n",
       " 'Я про сетки)',\n",
       " '\\nДокумент\\nhttps://vk.com/doc103043178_451316301',\n",
       " 'А, ну ок',\n",
       " 'Слушай',\n",
       " 'Это в офис, где Рита тусовалась?\\n1 прикреплённое сообщение',\n",
       " 'Или в основное здание?',\n",
       " 'В другой вход',\n",
       " 'Где проходная',\n",
       " '\\n2 прикреплённых сообщения',\n",
       " 'Так что думаю вечером можешь забрать',\n",
       " '\\nЗапись на стене',\n",
       " 'Аггооонь\\n1 прикреплённое сообщение',\n",
       " 'Жалко, что за линией',\n",
       " 'Ну ладно',\n",
       " 'Слушай',\n",
       " 'Слушаю',\n",
       " 'У него ещё можно крепления купить',\n",
       " 'Чтобы поставить эту сетку',\n",
       " 'Или у него нет?',\n",
       " 'Напиши ему сам 😃Я понятия не имею',\n",
       " 'Написал👌',\n",
       " 'Слышал ?\\nАудиозапись',\n",
       " 'Ага',\n",
       " 'Окси не понравился',\n",
       " 'А припев классный',\n",
       " 'Так ещё и клип есть',\n",
       " 'Смотрела?',\n",
       " 'Не-а',\n",
       " 'Кинь',\n",
       " '\\nВидеозапись\\nhttps://vk.com/video-55093819_456240402',\n",
       " 'Ты если поедешь за деньгами',\n",
       " 'Спроси когда теперь в следующий раз',\n",
       " 'Окей ?',\n",
       " 'Хорошо',\n",
       " '\\nДокумент\\nhttps://vk.com/doc224156076_450719045',\n",
       " '\\nДокумент\\nhttps://vk.com/doc224156076_450719061',\n",
       " '\\nДокумент\\nhttps://vk.com/doc103043178_451341503',\n",
       " '\\nДокумент\\nhttps://vk.com/doc103043178_451341547',\n",
       " 'Не только аванс',\n",
       " '\\nДокумент\\nhttps://vk.com/doc103043178_451341938',\n",
       " 'Возможно',\n",
       " '\\nЗапись на стене',\n",
       " 'Я попозже гляну',\n",
       " 'Слушай',\n",
       " 'Я вспомнил',\n",
       " '?',\n",
       " 'Ты сколько-то должна была пачек парламента',\n",
       " '4',\n",
       " 'И ?',\n",
       " 'Хочешь на меня свалить , чтобы они мне ещё приписали?',\n",
       " 'Не, просто сейчас эти пачки на мне висят',\n",
       " 'Я на выхах буду считать',\n",
       " 'Ну вот с зп я тебе 4 пачки и возьму',\n",
       " 'Чтобы к ним в офис приехать уже готовым',\n",
       " 'Отдашь им',\n",
       " 'А ты не помнишь сколько пачек отдавала Рите и каких?',\n",
       " 'Там был парламент?',\n",
       " '6 пачек парламент аква',\n",
       " 'Другому не может быть',\n",
       " 'Другого',\n",
       " 'А с нтп я у тебя забирал тогда что ли?',\n",
       " 'Так',\n",
       " '10 пачек уже нашли)',\n",
       " '31 я тебе всё с нтп отдала',\n",
       " 'А точно',\n",
       " 'Мы же в машине сидели',\n",
       " 'И ругались на агенство',\n",
       " '🤣',\n",
       " 'Именно',\n",
       " 'Сколько они на тебя пачек повесили?',\n",
       " 'Около 50 парламента только',\n",
       " 'Остальное хз',\n",
       " 'Хочу сам пересчитать дома',\n",
       " 'Ахренеть',\n",
       " 'Не может быть так много',\n",
       " 'Это бред',\n",
       " 'Ну вот да',\n",
       " '\\nЗапись на стене',\n",
       " '\\n1 прикреплённое сообщение',\n",
       " 'Блэт',\n",
       " 'Не успел',\n",
       " 'Серёж, привет',\n",
       " 'Тебе больше не присылали смс о зп?',\n",
       " 'Привет',\n",
       " 'На',\n",
       " 'Неа',\n",
       " 'А тебе?',\n",
       " 'Не-а',\n",
       " '\\nФотография\\nhttps://sun9-68.userapi.com/c639730/v639730225/53e96/wu-ANnKkaP8.jpg',\n",
       " 'Я думал, это 24 к они должны\\nФотография\\nhttps://sun9-55.userapi.com/c841424/v841424383/2a09f/C-yFeepGJOM.jpg',\n",
       " '\\nФотография\\nhttps://sun9-24.userapi.com/c841433/v841433073/262f8/ffEGsWMgcsc.jpg',\n",
       " 'Блять',\n",
       " 'Странно всё',\n",
       " 'Нормально тебе так',\n",
       " '23 сейчас',\n",
       " 'До этого 11',\n",
       " 'Вроде да ?',\n",
       " 'И это ещё не всё же ?',\n",
       " 'Тебе сколько выдали?',\n",
       " 'Почти 18',\n",
       " 'Плюс 5 тогда',\n",
       " 'Ещё нтп',\n",
       " 'Т.е. это не количество денег, а номер заявки?',\n",
       " 'Что',\n",
       " '23 тысячи мне всего выплатили',\n",
       " 'Тебе 11 тогда и сейчас 23 тысячи',\n",
       " 'Это что?\\nФотография\\nhttps://sun9-3.userapi.com/c639516/v639516080/51dbe/JNsOClSZ7_E.jpg',\n",
       " 'И с чего ты взяла, что мне 23?',\n",
       " 'Видела в списке',\n",
       " 'Сереж',\n",
       " 'Ты заучился уже',\n",
       " 'Аа',\n",
       " 'Т.е. это номер заявки?\\n1 прикреплённое сообщение',\n",
       " 'Да , номер заявки',\n",
       " 'Мне кажется, мне не выплатят',\n",
       " 'Выплатят',\n",
       " 'Ну на мне ещё сиги висят',\n",
       " 'Ты уже в списке на эту сумму ест',\n",
       " 'Есть',\n",
       " 'У меня так много, т.к. за бензин они ещё должны',\n",
       " 'Да понятное дело',\n",
       " 'Ладно, сгоняю, узнаю',\n",
       " 'Однако не думаю, что они меня просто так отпустят',\n",
       " 'Привет',\n",
       " 'Расскажи мне',\n",
       " 'Что там у тебя с зп',\n",
       " 'Сняли они недочёт?',\n",
       " 'Что как вообщем',\n",
       " 'Вообще',\n",
       " 'Привет) с каких пор ты стала Ольгой?)',\n",
       " 'Ну я пришел сразу в кассу, мне выплатили деньги и я даже в офис не заходил',\n",
       " 'С сигами, которые на мне висят не разобрались, как и с оплатой за две смены',\n",
       " 'Мне на практику с 7 ноября в школу , шифруюсь от школьников',\n",
       " 'И сколько по твоим подсчетам они должны ещё тебе ?',\n",
       " 'Но я решил, что раз хоть что-то выплатили, пофиг на остальное, не хочу с этими силами разбираться',\n",
       " 'Ну мб тысяч 5',\n",
       " 'Выплатят',\n",
       " 'Не, они сказали, что не будут за две смены платить',\n",
       " 'Поэтому пофиг',\n",
       " 'Я забил уже давно',\n",
       " 'В принципе мне в сумме 34 где-то выплатили',\n",
       " 'И норм',\n",
       " 'А тебе же всё выплатили?',\n",
       " 'Сейчас еду забирать последнюю часть за нтп, посмотрим сколько будет',\n",
       " 'Заманили сначала , что выплатят , а потом шиш\\n1 прикреплённое сообщение',\n",
       " 'Ты три раза забераешь?',\n",
       " 'О.о',\n",
       " 'Дам',\n",
       " 'Да',\n",
       " 'Я невнимательно прочитала',\n",
       " 'И приехала сюда',\n",
       " 'А касса работает понедельник и четверг',\n",
       " '\\nСтикер',\n",
       " 'Ааа',\n",
       " 'А сколько ты не знаешь они должны тебе выплатить?',\n",
       " 'Ну приблизительно не меньше 5',\n",
       " 'Потому что я 4 дня работала',\n",
       " 'На нтп',\n",
       " 'Вроде бы',\n",
       " 'Короче они должны больше 5',\n",
       " 'Ну нормас',\n",
       " 'Блин',\n",
       " 'Всё никак до твоего парня не доеду',\n",
       " 'Чтобы забрать сетки',\n",
       " 'То заболею, то дела срочно появляются',\n",
       " 'Забери их на следующей недели,а то они давно стоят .',\n",
       " 'Да-да']"
      ]
     },
     "execution_count": 357,
     "metadata": {},
     "output_type": "execute_result"
    }
   ],
   "source": [
    "parse_html(join(HOME_FOLDER, '103043178'), ['messages0.html'])"
   ]
  },
  {
   "cell_type": "code",
   "execution_count": 356,
   "metadata": {},
   "outputs": [],
   "source": [
    "def parse_html(folder: str, files: list):\n",
    "    messages = []\n",
    "\n",
    "    for file in files:\n",
    "        with open(join(folder, file), \"rb\") as f:\n",
    "            soup = BeautifulSoup(f, \"lxml\")\n",
    "\n",
    "        for message in soup.find_all('div', {'class':'message'}):\n",
    "            message = message.text.strip()\n",
    "            messages.append(message[message.find('\\n')+1:])\n",
    "    \n",
    "    \n",
    "    messages = messages[::-1]  # reverse\n",
    "    return messages"
   ]
  },
  {
   "cell_type": "code",
   "execution_count": 308,
   "metadata": {},
   "outputs": [],
   "source": [
    "def get_list_of_files_in_folder(folder_name: str, limit=1) -> list:\n",
    "\n",
    "    if os.path.isdir(folder_name):\n",
    "        # Get list of only html files from folder:\n",
    "        files = [file for file in listdir(folder_name) if file.endswith(\".html\")]\n",
    "\n",
    "        if len(files) < limit:  # short dialogs\n",
    "            return []\n",
    "        \n",
    "        # Descending sort to consider message order:\n",
    "        files = sorted(\n",
    "            files,\n",
    "            key=lambda x: int(re.search(\"messages(\\d+)\\.html\", x).group(1)),\n",
    "            reverse=True,\n",
    "        )\n",
    "        return files\n",
    "    else:\n",
    "        print(f\"No such directory: {folder_name}\")\n",
    "        return []"
   ]
  },
  {
   "cell_type": "code",
   "execution_count": 345,
   "metadata": {},
   "outputs": [
    {
     "data": {
      "text/plain": [
       "'../messages/103043178/messages0.html'"
      ]
     },
     "execution_count": 345,
     "metadata": {},
     "output_type": "execute_result"
    }
   ],
   "source": [
    "join(HOME_FOLDER, '103043178', 'messages0.html')"
   ]
  },
  {
   "cell_type": "code",
   "execution_count": 347,
   "metadata": {},
   "outputs": [
    {
     "data": {
      "text/plain": [
       "[]"
      ]
     },
     "execution_count": 347,
     "metadata": {},
     "output_type": "execute_result"
    }
   ],
   "source": [
    "parse_html(join(HOME_FOLDER, '103043178'), ['messages0.html'])"
   ]
  },
  {
   "cell_type": "code",
   "execution_count": 374,
   "metadata": {},
   "outputs": [
    {
     "name": "stdout",
     "output_type": "stream",
     "text": [
      "CPU times: user 4min 31s, sys: 1.94 s, total: 4min 33s\n",
      "Wall time: 4min 55s\n"
     ]
    }
   ],
   "source": [
    "%%time\n",
    "HOME_FOLDER = '../messages'\n",
    "\n",
    "RES = []\n",
    "for folder in get_list_of_folders(HOME_FOLDER):\n",
    "    files = get_list_of_files_in_folder(join(HOME_FOLDER, folder), limit=4)\n",
    "    if files:\n",
    "        RES.append(parse_html(join(HOME_FOLDER, folder), files))"
   ]
  },
  {
   "cell_type": "code",
   "execution_count": null,
   "metadata": {},
   "outputs": [],
   "source": [
    "len(RES)"
   ]
  },
  {
   "cell_type": "code",
   "execution_count": null,
   "metadata": {},
   "outputs": [],
   "source": []
  },
  {
   "cell_type": "code",
   "execution_count": 265,
   "metadata": {},
   "outputs": [
    {
     "data": {
      "text/plain": [
       "['\\nФотография\\nhttps://sun9-50.userapi.com/c855136/v855136079/1c7ee9/PkOvHB25wcU.jpg',\n",
       " 'Гуня\\n1 прикреплённое сообщение',\n",
       " 'У вас семья гусей',\n",
       " 'Ага',\n",
       " '\\n1 прикреплённое сообщение',\n",
       " '😅',\n",
       " 'Блин\\nСообщение удалено',\n",
       " '\\nФотография\\nhttps://sun9-46.userapi.com/c858220/v858220906/14c702/bUixUjVrPlw.jpg',\n",
       " '\\nДокумент\\nhttps://vk.com/doc381888277_531448212',\n",
       " '\\nФотография\\nhttps://sun9-2.userapi.com/6viNnccSXjV3xHZp5MtmAEvAocUgWjP4T8NTZw/W_57sRYl8Sg.jpg',\n",
       " '\\nЗапись на стене',\n",
       " '\\nЗапись на стене',\n",
       " 'Хочу\\nЗапись на стене',\n",
       " '\\nЗапись на стене',\n",
       " '\\nЗапись на стене',\n",
       " '\\nЗапись на стене',\n",
       " '\\nЗапись на стене',\n",
       " 'Лол\\nФотография\\nhttps://sun9-4.userapi.com/AKYsfbdeStZkPfJfzPwczRZe67i7aU32rNJLPQ/e9bveoTf_kI.jpg',\n",
       " '😅',\n",
       " '\\nЗапись на стене',\n",
       " 'Каефф',\n",
       " 'Первый клммент порадовал',\n",
       " '\\nЗапись на стене',\n",
       " '\\nЗапись на стене',\n",
       " 'Когда съел сырую рыбу\\nФотография\\nhttps://sun9-33.userapi.com/c204628/v204628235/3c0f8/6LkCpJGKOcE.jpg',\n",
       " '\\nЗапись на стене',\n",
       " '\\n1 прикреплённое сообщение',\n",
       " '\\nЗапись на стене',\n",
       " '\\nЗапись на стене',\n",
       " 'Пися']"
      ]
     },
     "execution_count": 265,
     "metadata": {},
     "output_type": "execute_result"
    }
   ],
   "source": [
    "tanos[-30:]"
   ]
  },
  {
   "cell_type": "code",
   "execution_count": 167,
   "metadata": {},
   "outputs": [],
   "source": [
    "def get_messages(file_name):\n",
    "    with open(file_name, 'rb') as f:\n",
    "        soup = BeautifulSoup(f, 'lxml')\n",
    "    \n",
    "    messages = []\n",
    "\n",
    "    for i in soup.find_all('div', {'class':'message'}):\n",
    "        i = i.text.strip()\n",
    "        messages.append(i[i.find('\\n')+1:])\n",
    "    messages = messages[::-1]  # reverse\n",
    "    return messages"
   ]
  },
  {
   "cell_type": "markdown",
   "metadata": {},
   "source": [
    "смайлики: \\u200d♀️\\\n",
    "'\\n25 прикреплённых сообщений',\n",
    "\\n1 прикреплённое сообщение'"
   ]
  },
  {
   "cell_type": "markdown",
   "metadata": {},
   "source": [
    "Не забыть про стикеры!"
   ]
  },
  {
   "cell_type": "markdown",
   "metadata": {},
   "source": [
    "тут есть ссылка:\n",
    "\n",
    "` 'https://m.aliexpress.ru/item/4000068584830.html?trace=wwwdetail2mobilesitedetail&dp=a9981ffe9450d0081a3b09056b847b07&af=11232&cv=47843&afref=&mall_affr=pr3&dp=a9981ffe9450d0081a3b09056b847b07&af=11232&cv=47843&afref=&mall_affr=pr3&aff_platform=aaf&cpt=1578306760735&sk=VnYZvQVf&aff_trace_key=0e4fffecab87439082bdb6a03e09b80c-1578306760735-03697-VnYZvQVf&terminal_id=f6678bd568944294b15e519b18273d40\\nСсылка\\nhttps://m.aliexpress.ru/item/4000068584830.html?trace=wwwdetail2mobilesitedetail&dp=a9981ffe9450d0081a3b09056b847b07&af=11232&cv=47843&afref=&mall_affr=pr3&dp=a9981ffe9450d0081a3b09056b847b07&af=11232&cv=47843&afref=&mall_affr=pr3&aff_platform=aaf&cpt=1578306760735&sk=VnYZvQVf&aff_trace_key=0e4fffecab87439082bdb6a03e09b80c-1578306760735-03697-VnYZvQVf&terminal_id=f6678bd568944294b15e519b18273d40'`"
   ]
  },
  {
   "cell_type": "code",
   "execution_count": 254,
   "metadata": {},
   "outputs": [
    {
     "data": {
      "text/plain": [
       "['\\nФотография\\nhttps://sun9-50.userapi.com/c855136/v855136079/1c7ee9/PkOvHB25wcU.jpg',\n",
       " 'Гуня\\n1 прикреплённое сообщение',\n",
       " 'У вас семья гусей',\n",
       " 'Ага',\n",
       " '\\n1 прикреплённое сообщение',\n",
       " '😅',\n",
       " 'Блин\\nСообщение удалено',\n",
       " '\\nФотография\\nhttps://sun9-46.userapi.com/c858220/v858220906/14c702/bUixUjVrPlw.jpg',\n",
       " '\\nДокумент\\nhttps://vk.com/doc381888277_531448212',\n",
       " '\\nФотография\\nhttps://sun9-2.userapi.com/6viNnccSXjV3xHZp5MtmAEvAocUgWjP4T8NTZw/W_57sRYl8Sg.jpg',\n",
       " '\\nЗапись на стене',\n",
       " '\\nЗапись на стене',\n",
       " 'Хочу\\nЗапись на стене',\n",
       " '\\nЗапись на стене',\n",
       " '\\nЗапись на стене',\n",
       " '\\nЗапись на стене',\n",
       " '\\nЗапись на стене',\n",
       " 'Лол\\nФотография\\nhttps://sun9-4.userapi.com/AKYsfbdeStZkPfJfzPwczRZe67i7aU32rNJLPQ/e9bveoTf_kI.jpg',\n",
       " '😅',\n",
       " '\\nЗапись на стене',\n",
       " 'Каефф',\n",
       " 'Первый клммент порадовал',\n",
       " '\\nЗапись на стене',\n",
       " '\\nЗапись на стене',\n",
       " 'Когда съел сырую рыбу\\nФотография\\nhttps://sun9-33.userapi.com/c204628/v204628235/3c0f8/6LkCpJGKOcE.jpg',\n",
       " '\\nЗапись на стене',\n",
       " '\\n1 прикреплённое сообщение',\n",
       " '\\nЗапись на стене',\n",
       " '\\nЗапись на стене',\n",
       " 'Пися']"
      ]
     },
     "execution_count": 254,
     "metadata": {},
     "output_type": "execute_result"
    }
   ],
   "source": [
    "tanos = get_messages('messages0.html')\n",
    "tanos[-30:]"
   ]
  },
  {
   "cell_type": "markdown",
   "metadata": {},
   "source": [
    "# TODO:\n",
    "Посмотреть, что ещё может быть в сообщениях:\n",
    "1. Стикеры\n",
    "2. Гифки\n",
    "3. Аудиосообщения\n",
    "4. Песни\n",
    "5. Локации\n",
    "6. Истории (Кто, блядь, вообще их использует?)\n",
    "7. Подарки\n",
    "8. Деньги (лол)\n",
    "9. Граффити (привет 2012)\n",
    "10. Фото/Видео ВК"
   ]
  },
  {
   "cell_type": "code",
   "execution_count": 257,
   "metadata": {},
   "outputs": [],
   "source": []
  },
  {
   "cell_type": "code",
   "execution_count": null,
   "metadata": {},
   "outputs": [],
   "source": [
    "class TestData4ML(unittest.TestCase):\n",
    "    def setUp(self):\n",
    "        self.data4ml = Data4ML()"
   ]
  },
  {
   "cell_type": "code",
   "execution_count": null,
   "metadata": {},
   "outputs": [],
   "source": []
  },
  {
   "cell_type": "code",
   "execution_count": null,
   "metadata": {},
   "outputs": [],
   "source": []
  }
 ],
 "metadata": {
  "kernelspec": {
   "display_name": "Python 3",
   "language": "python",
   "name": "python3"
  },
  "language_info": {
   "codemirror_mode": {
    "name": "ipython",
    "version": 3
   },
   "file_extension": ".py",
   "mimetype": "text/x-python",
   "name": "python",
   "nbconvert_exporter": "python",
   "pygments_lexer": "ipython3",
   "version": "3.6.9"
  }
 },
 "nbformat": 4,
 "nbformat_minor": 4
}
